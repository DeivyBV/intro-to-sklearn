{
 "cells": [
  {
   "cell_type": "markdown",
   "metadata": {},
   "source": [
    "## Algoritmos de Aprendizaje - Aprendizaje Supervisado\n",
    "\n",
    ">  Recordatorio:  Todos los modelos de aprendizaje supervisado en scikit-learn implementan un metodo llamado\n",
    "`fit(X, y)`, que sirve para entrenar(ajustar) el modelo y un método llamado `predict(X_t)`, que devuelve predicciones sobre los valores `X_t`de acuerdo al modelo ya ajustado. \n",
    "\n",
    "* Dado que el dataset iris es pequeño, observaciones con relativamente pocos atributos... Con cuál algoritmo se podría empezar y por qué?"
   ]
  },
  {
   "cell_type": "markdown",
   "metadata": {},
   "source": [
    "> \"Often the hardest part of solving a machine learning problem can be finding the right estimator for the job.\"\n",
    "\n",
    "> \"Different estimators are better suited for different types of data and different problems.\"\n",
    "\n",
    "<a href = \"http://scikit-learn.org/stable/tutorial/machine_learning_map/index.html\" style = \"float: right\">-Choosing the Right Estimator from sklearn docs</a>\n"
   ]
  },
  {
   "cell_type": "code",
   "execution_count": 1,
   "metadata": {},
   "outputs": [],
   "source": [
    "#  Se importan funcionalidades para compatibilidad entre python 2/3 \n",
    "\n",
    "from __future__ import absolute_import, division, print_function, unicode_literals\n",
    "\n",
    "# Para python 2, comente la siguiente linea:\n",
    "from builtins import range"
   ]
  },
  {
   "cell_type": "markdown",
   "metadata": {},
   "source": [
    "<b>Un estimador para reconocer un nuevo iris a partir de sus medidas (atributos)</b>\n",
    "\n",
    "> O en lenguaje de machine learning,  ajustamos  (<i>fit</i>) un estimador sobre la muestra, dado sus atributos, para predecir (<i>predict</i>) la clase a la cuál un nuevo iris pertenece.\n",
    "\n",
    "Empecemos! (Vamos a separar un pequeño % de la muestra y revisar las predicciones del modelo a construir contra estos datos separados)"
   ]
  },
  {
   "cell_type": "code",
   "execution_count": 2,
   "metadata": {},
   "outputs": [
    {
     "name": "stderr",
     "output_type": "stream",
     "text": [
      "/anaconda3/lib/python3.6/site-packages/sklearn/cross_validation.py:41: DeprecationWarning: This module was deprecated in version 0.18 in favor of the model_selection module into which all the refactored classes and functions are moved. Also note that the interface of the new CV iterators are different from that of this module. This module will be removed in 0.20.\n",
      "  \"This module will be removed in 0.20.\", DeprecationWarning)\n"
     ]
    }
   ],
   "source": [
    "from sklearn.datasets import load_iris\n",
    "from sklearn.cross_validation import train_test_split\n",
    "\n",
    "# Cargando el dataset Iris\n",
    "iris = load_iris()\n",
    "X, y = iris.data, iris.target\n",
    "\n",
    "# Se separan los datos en datos de entrenamiento y prueba usando la función rain_test_split \n",
    "\n",
    "X_train, X_test, y_train, y_test = train_test_split(X, y, test_size = 0.3)\n"
   ]
  },
  {
   "cell_type": "code",
   "execution_count": 3,
   "metadata": {},
   "outputs": [
    {
     "data": {
      "text/plain": [
       "0.9333333333333333"
      ]
     },
     "execution_count": 3,
     "metadata": {},
     "output_type": "execute_result"
    }
   ],
   "source": [
    "# Probemos con el método de clasificación conocido como árbol de decisión (decision tree)\n",
    "from sklearn import tree\n",
    "\n",
    "t = tree.DecisionTreeClassifier(max_depth = 4,\n",
    "                                    criterion = 'entropy', \n",
    "                                    class_weight = 'balanced',\n",
    "                                    random_state = 2)\n",
    "t.fit(X_train, y_train) \n",
    "\n",
    "t.score(X_test, y_test) "
   ]
  },
  {
   "cell_type": "code",
   "execution_count": 10,
   "metadata": {},
   "outputs": [
    {
     "name": "stdout",
     "output_type": "stream",
     "text": [
      "[2 2 1 0 1 2 1 0 1 2 1 2 0 0 2 2 1 2 2 0 0 1 0 1 2 2 0 2 1 0 2 2 0 2 2 1 1\n",
      " 1 0 2 1 0 2 2 1]\n",
      "Predición: 2, Etiqueta original: 1\n"
     ]
    }
   ],
   "source": [
    "# Cuáles son los valores ajustados(o predicciones) asociados a la partición seleccionada para prueba? \n",
    "y_pred = t.predict(X_test)\n",
    "print(y_pred)\n",
    "\n",
    "#Qué tal la predicción para la primera observación de la base de prueba?\n",
    "print(\"Predición: %d, Etiqueta original: %d\" % (y_pred[1], 1)) # <-- Llenar la casilla"
   ]
  },
  {
   "cell_type": "markdown",
   "metadata": {},
   "source": [
    "Nota: Más adelante se verá como evaluar los modelos. "
   ]
  },
  {
   "cell_type": "code",
   "execution_count": 27,
   "metadata": {},
   "outputs": [
    {
     "data": {
      "text/plain": [
       "array([0.98039216, 0.92156863, 1.        ])"
      ]
     },
     "execution_count": 27,
     "metadata": {},
     "output_type": "execute_result"
    }
   ],
   "source": [
    "# Aquí una forma ágil de usar validación cruzada (útil para evaluación rápida de modelos!)\n",
    "from sklearn import cross_validation\n",
    "\n",
    "t = tree.DecisionTreeClassifier(max_depth = 4,\n",
    "                                    criterion = 'entropy', \n",
    "                                    class_weight = 'balanced',\n",
    "                                    random_state = 2)\n",
    "\n",
    "# particiona, ajusta y predice todo de una vez con un score \n",
    "score = cross_validation.cross_val_score(t, X, y)\n",
    "score"
   ]
  },
  {
   "cell_type": "markdown",
   "metadata": {},
   "source": [
    "Preguntas:  Qué nos dicen estos scores?  Son muy altos o bajos?  Si es 1.0 qué significa?"
   ]
  },
  {
   "cell_type": "markdown",
   "metadata": {},
   "source": [
    "### Cómo luce el gráfico para este árbol de decisión?  Es decir, cuáles son las \"preguntas\" y \"decisiones\" para este árbol...\n",
    "* Nota:  Se necesita la aplicación Graphviz y el paquete de python `graphviz`.\n",
    "* Para instalar ambos en OS X:\n",
    "```\n",
    "sudo port install graphviz\n",
    "sudo pip install graphviz\n",
    "```\n",
    "* Para instalación general vea esta guía (http://graphviz.readthedocs.org/en/latest/manual.html)"
   ]
  },
  {
   "cell_type": "code",
   "execution_count": 28,
   "metadata": {},
   "outputs": [
    {
     "name": "stdout",
     "output_type": "stream",
     "text": [
      "1.0\n"
     ]
    },
    {
     "data": {
      "image/svg+xml": [
       "<?xml version=\"1.0\" encoding=\"UTF-8\" standalone=\"no\"?>\n",
       "<!DOCTYPE svg PUBLIC \"-//W3C//DTD SVG 1.1//EN\"\n",
       " \"http://www.w3.org/Graphics/SVG/1.1/DTD/svg11.dtd\">\n",
       "<!-- Generated by graphviz version 2.40.1 (20161225.0304)\n",
       " -->\n",
       "<!-- Title: Tree Pages: 1 -->\n",
       "<svg width=\"755pt\" height=\"552pt\"\n",
       " viewBox=\"0.00 0.00 755.00 552.00\" xmlns=\"http://www.w3.org/2000/svg\" xmlns:xlink=\"http://www.w3.org/1999/xlink\">\n",
       "<g id=\"graph0\" class=\"graph\" transform=\"scale(1 1) rotate(0) translate(4 548)\">\n",
       "<title>Tree</title>\n",
       "<polygon fill=\"#ffffff\" stroke=\"transparent\" points=\"-4,4 -4,-548 751,-548 751,4 -4,4\"/>\n",
       "<!-- 0 -->\n",
       "<g id=\"node1\" class=\"node\">\n",
       "<title>0</title>\n",
       "<path fill=\"transparent\" stroke=\"#000000\" d=\"M281,-544C281,-544 173,-544 173,-544 167,-544 161,-538 161,-532 161,-532 161,-473 161,-473 161,-467 167,-461 173,-461 173,-461 281,-461 281,-461 287,-461 293,-467 293,-473 293,-473 293,-532 293,-532 293,-538 287,-544 281,-544\"/>\n",
       "<text text-anchor=\"start\" x=\"176.5\" y=\"-528.8\" font-family=\"Helvetica,sans-Serif\" font-size=\"14.00\" fill=\"#000000\">petal width (cm) ≤ 0.8</text>\n",
       "<text text-anchor=\"start\" x=\"190\" y=\"-513.8\" font-family=\"Helvetica,sans-Serif\" font-size=\"14.00\" fill=\"#000000\">entropy = 1.585</text>\n",
       "<text text-anchor=\"start\" x=\"192.5\" y=\"-498.8\" font-family=\"Helvetica,sans-Serif\" font-size=\"14.00\" fill=\"#000000\">samples = 105</text>\n",
       "<text text-anchor=\"start\" x=\"169\" y=\"-483.8\" font-family=\"Helvetica,sans-Serif\" font-size=\"14.00\" fill=\"#000000\">value = [35.0, 35.0, 35.0]</text>\n",
       "<text text-anchor=\"start\" x=\"186.5\" y=\"-468.8\" font-family=\"Helvetica,sans-Serif\" font-size=\"14.00\" fill=\"#000000\">class = versicolor</text>\n",
       "</g>\n",
       "<!-- 1 -->\n",
       "<g id=\"node2\" class=\"node\">\n",
       "<title>1</title>\n",
       "<path fill=\"#e58139\" stroke=\"#000000\" d=\"M198,-417.5C198,-417.5 128,-417.5 128,-417.5 122,-417.5 116,-411.5 116,-405.5 116,-405.5 116,-361.5 116,-361.5 116,-355.5 122,-349.5 128,-349.5 128,-349.5 198,-349.5 198,-349.5 204,-349.5 210,-355.5 210,-361.5 210,-361.5 210,-405.5 210,-405.5 210,-411.5 204,-417.5 198,-417.5\"/>\n",
       "<text text-anchor=\"start\" x=\"132\" y=\"-402.3\" font-family=\"Helvetica,sans-Serif\" font-size=\"14.00\" fill=\"#000000\">entropy = 0.0</text>\n",
       "<text text-anchor=\"start\" x=\"131.5\" y=\"-387.3\" font-family=\"Helvetica,sans-Serif\" font-size=\"14.00\" fill=\"#000000\">samples = 40</text>\n",
       "<text text-anchor=\"start\" x=\"124\" y=\"-372.3\" font-family=\"Helvetica,sans-Serif\" font-size=\"14.00\" fill=\"#000000\">value = [35, 0, 0]</text>\n",
       "<text text-anchor=\"start\" x=\"129.5\" y=\"-357.3\" font-family=\"Helvetica,sans-Serif\" font-size=\"14.00\" fill=\"#000000\">class = setosa</text>\n",
       "</g>\n",
       "<!-- 0&#45;&gt;1 -->\n",
       "<g id=\"edge1\" class=\"edge\">\n",
       "<title>0&#45;&gt;1</title>\n",
       "<path fill=\"none\" stroke=\"#000000\" d=\"M204.6159,-460.8796C198.702,-449.8835 192.3051,-437.9893 186.342,-426.9015\"/>\n",
       "<polygon fill=\"#000000\" stroke=\"#000000\" points=\"189.2742,-424.9642 181.4551,-417.8149 183.1092,-428.2799 189.2742,-424.9642\"/>\n",
       "<text text-anchor=\"middle\" x=\"174.2594\" y=\"-438.057\" font-family=\"Helvetica,sans-Serif\" font-size=\"14.00\" fill=\"#000000\">True</text>\n",
       "</g>\n",
       "<!-- 2 -->\n",
       "<g id=\"node3\" class=\"node\">\n",
       "<title>2</title>\n",
       "<path fill=\"transparent\" stroke=\"#000000\" d=\"M343.5,-425C343.5,-425 240.5,-425 240.5,-425 234.5,-425 228.5,-419 228.5,-413 228.5,-413 228.5,-354 228.5,-354 228.5,-348 234.5,-342 240.5,-342 240.5,-342 343.5,-342 343.5,-342 349.5,-342 355.5,-348 355.5,-354 355.5,-354 355.5,-413 355.5,-413 355.5,-419 349.5,-425 343.5,-425\"/>\n",
       "<text text-anchor=\"start\" x=\"236.5\" y=\"-409.8\" font-family=\"Helvetica,sans-Serif\" font-size=\"14.00\" fill=\"#000000\">petal length (cm) ≤ 4.75</text>\n",
       "<text text-anchor=\"start\" x=\"261\" y=\"-394.8\" font-family=\"Helvetica,sans-Serif\" font-size=\"14.00\" fill=\"#000000\">entropy = 1.0</text>\n",
       "<text text-anchor=\"start\" x=\"260.5\" y=\"-379.8\" font-family=\"Helvetica,sans-Serif\" font-size=\"14.00\" fill=\"#000000\">samples = 65</text>\n",
       "<text text-anchor=\"start\" x=\"236.5\" y=\"-364.8\" font-family=\"Helvetica,sans-Serif\" font-size=\"14.00\" fill=\"#000000\">value = [0.0, 35.0, 35.0]</text>\n",
       "<text text-anchor=\"start\" x=\"251.5\" y=\"-349.8\" font-family=\"Helvetica,sans-Serif\" font-size=\"14.00\" fill=\"#000000\">class = versicolor</text>\n",
       "</g>\n",
       "<!-- 0&#45;&gt;2 -->\n",
       "<g id=\"edge2\" class=\"edge\">\n",
       "<title>0&#45;&gt;2</title>\n",
       "<path fill=\"none\" stroke=\"#000000\" d=\"M249.7338,-460.8796C254.4565,-452.2335 259.4824,-443.0322 264.359,-434.1042\"/>\n",
       "<polygon fill=\"#000000\" stroke=\"#000000\" points=\"267.447,-435.752 269.1691,-425.2981 261.3037,-432.3964 267.447,-435.752\"/>\n",
       "<text text-anchor=\"middle\" x=\"276.2092\" y=\"-445.5864\" font-family=\"Helvetica,sans-Serif\" font-size=\"14.00\" fill=\"#000000\">False</text>\n",
       "</g>\n",
       "<!-- 3 -->\n",
       "<g id=\"node4\" class=\"node\">\n",
       "<title>3</title>\n",
       "<path fill=\"#39e581\" fill-opacity=\"0.964706\" stroke=\"#000000\" d=\"M271,-306C271,-306 151,-306 151,-306 145,-306 139,-300 139,-294 139,-294 139,-235 139,-235 139,-229 145,-223 151,-223 151,-223 271,-223 271,-223 277,-223 283,-229 283,-235 283,-235 283,-294 283,-294 283,-300 277,-306 271,-306\"/>\n",
       "<text text-anchor=\"start\" x=\"157.5\" y=\"-290.8\" font-family=\"Helvetica,sans-Serif\" font-size=\"14.00\" fill=\"#000000\">petal width (cm) ≤ 1.65</text>\n",
       "<text text-anchor=\"start\" x=\"174\" y=\"-275.8\" font-family=\"Helvetica,sans-Serif\" font-size=\"14.00\" fill=\"#000000\">entropy = 0.221</text>\n",
       "<text text-anchor=\"start\" x=\"179.5\" y=\"-260.8\" font-family=\"Helvetica,sans-Serif\" font-size=\"14.00\" fill=\"#000000\">samples = 29</text>\n",
       "<text text-anchor=\"start\" x=\"147\" y=\"-245.8\" font-family=\"Helvetica,sans-Serif\" font-size=\"14.00\" fill=\"#000000\">value = [0.0, 29.697, 1.094]</text>\n",
       "<text text-anchor=\"start\" x=\"170.5\" y=\"-230.8\" font-family=\"Helvetica,sans-Serif\" font-size=\"14.00\" fill=\"#000000\">class = versicolor</text>\n",
       "</g>\n",
       "<!-- 2&#45;&gt;3 -->\n",
       "<g id=\"edge3\" class=\"edge\">\n",
       "<title>2&#45;&gt;3</title>\n",
       "<path fill=\"none\" stroke=\"#000000\" d=\"M263.6701,-341.8796C257.7237,-333.1434 251.3914,-323.8404 245.255,-314.8253\"/>\n",
       "<polygon fill=\"#000000\" stroke=\"#000000\" points=\"247.9711,-312.5953 239.4508,-306.2981 242.1844,-316.5342 247.9711,-312.5953\"/>\n",
       "</g>\n",
       "<!-- 6 -->\n",
       "<g id=\"node7\" class=\"node\">\n",
       "<title>6</title>\n",
       "<path fill=\"#8139e5\" fill-opacity=\"0.843137\" stroke=\"#000000\" d=\"M433,-306C433,-306 313,-306 313,-306 307,-306 301,-300 301,-294 301,-294 301,-235 301,-235 301,-229 307,-223 313,-223 313,-223 433,-223 433,-223 439,-223 445,-229 445,-235 445,-235 445,-294 445,-294 445,-300 439,-306 433,-306\"/>\n",
       "<text text-anchor=\"start\" x=\"319.5\" y=\"-290.8\" font-family=\"Helvetica,sans-Serif\" font-size=\"14.00\" fill=\"#000000\">petal width (cm) ≤ 1.75</text>\n",
       "<text text-anchor=\"start\" x=\"336\" y=\"-275.8\" font-family=\"Helvetica,sans-Serif\" font-size=\"14.00\" fill=\"#000000\">entropy = 0.572</text>\n",
       "<text text-anchor=\"start\" x=\"341.5\" y=\"-260.8\" font-family=\"Helvetica,sans-Serif\" font-size=\"14.00\" fill=\"#000000\">samples = 36</text>\n",
       "<text text-anchor=\"start\" x=\"309\" y=\"-245.8\" font-family=\"Helvetica,sans-Serif\" font-size=\"14.00\" fill=\"#000000\">value = [0.0, 5.303, 33.906]</text>\n",
       "<text text-anchor=\"start\" x=\"335.5\" y=\"-230.8\" font-family=\"Helvetica,sans-Serif\" font-size=\"14.00\" fill=\"#000000\">class = virginica</text>\n",
       "</g>\n",
       "<!-- 2&#45;&gt;6 -->\n",
       "<g id=\"edge6\" class=\"edge\">\n",
       "<title>2&#45;&gt;6</title>\n",
       "<path fill=\"none\" stroke=\"#000000\" d=\"M320.3299,-341.8796C326.2763,-333.1434 332.6086,-323.8404 338.745,-314.8253\"/>\n",
       "<polygon fill=\"#000000\" stroke=\"#000000\" points=\"341.8156,-316.5342 344.5492,-306.2981 336.0289,-312.5953 341.8156,-316.5342\"/>\n",
       "</g>\n",
       "<!-- 4 -->\n",
       "<g id=\"node5\" class=\"node\">\n",
       "<title>4</title>\n",
       "<path fill=\"#39e581\" stroke=\"#000000\" d=\"M120,-179.5C120,-179.5 12,-179.5 12,-179.5 6,-179.5 0,-173.5 0,-167.5 0,-167.5 0,-123.5 0,-123.5 0,-117.5 6,-111.5 12,-111.5 12,-111.5 120,-111.5 120,-111.5 126,-111.5 132,-117.5 132,-123.5 132,-123.5 132,-167.5 132,-167.5 132,-173.5 126,-179.5 120,-179.5\"/>\n",
       "<text text-anchor=\"start\" x=\"35\" y=\"-164.3\" font-family=\"Helvetica,sans-Serif\" font-size=\"14.00\" fill=\"#000000\">entropy = 0.0</text>\n",
       "<text text-anchor=\"start\" x=\"34.5\" y=\"-149.3\" font-family=\"Helvetica,sans-Serif\" font-size=\"14.00\" fill=\"#000000\">samples = 28</text>\n",
       "<text text-anchor=\"start\" x=\"8\" y=\"-134.3\" font-family=\"Helvetica,sans-Serif\" font-size=\"14.00\" fill=\"#000000\">value = [0.0, 29.697, 0.0]</text>\n",
       "<text text-anchor=\"start\" x=\"25.5\" y=\"-119.3\" font-family=\"Helvetica,sans-Serif\" font-size=\"14.00\" fill=\"#000000\">class = versicolor</text>\n",
       "</g>\n",
       "<!-- 3&#45;&gt;4 -->\n",
       "<g id=\"edge4\" class=\"edge\">\n",
       "<title>3&#45;&gt;4</title>\n",
       "<path fill=\"none\" stroke=\"#000000\" d=\"M160.286,-222.8796C145.8156,-211.0038 130.0686,-198.0804 115.6617,-186.2568\"/>\n",
       "<polygon fill=\"#000000\" stroke=\"#000000\" points=\"117.7628,-183.4534 107.8123,-179.8149 113.322,-188.8645 117.7628,-183.4534\"/>\n",
       "</g>\n",
       "<!-- 5 -->\n",
       "<g id=\"node6\" class=\"node\">\n",
       "<title>5</title>\n",
       "<path fill=\"#8139e5\" stroke=\"#000000\" d=\"M265.5,-179.5C265.5,-179.5 162.5,-179.5 162.5,-179.5 156.5,-179.5 150.5,-173.5 150.5,-167.5 150.5,-167.5 150.5,-123.5 150.5,-123.5 150.5,-117.5 156.5,-111.5 162.5,-111.5 162.5,-111.5 265.5,-111.5 265.5,-111.5 271.5,-111.5 277.5,-117.5 277.5,-123.5 277.5,-123.5 277.5,-167.5 277.5,-167.5 277.5,-173.5 271.5,-179.5 265.5,-179.5\"/>\n",
       "<text text-anchor=\"start\" x=\"183\" y=\"-164.3\" font-family=\"Helvetica,sans-Serif\" font-size=\"14.00\" fill=\"#000000\">entropy = 0.0</text>\n",
       "<text text-anchor=\"start\" x=\"185.5\" y=\"-149.3\" font-family=\"Helvetica,sans-Serif\" font-size=\"14.00\" fill=\"#000000\">samples = 1</text>\n",
       "<text text-anchor=\"start\" x=\"158.5\" y=\"-134.3\" font-family=\"Helvetica,sans-Serif\" font-size=\"14.00\" fill=\"#000000\">value = [0.0, 0.0, 1.094]</text>\n",
       "<text text-anchor=\"start\" x=\"176.5\" y=\"-119.3\" font-family=\"Helvetica,sans-Serif\" font-size=\"14.00\" fill=\"#000000\">class = virginica</text>\n",
       "</g>\n",
       "<!-- 3&#45;&gt;5 -->\n",
       "<g id=\"edge5\" class=\"edge\">\n",
       "<title>3&#45;&gt;5</title>\n",
       "<path fill=\"none\" stroke=\"#000000\" d=\"M212.0493,-222.8796C212.3182,-212.2134 212.6084,-200.7021 212.8806,-189.9015\"/>\n",
       "<polygon fill=\"#000000\" stroke=\"#000000\" points=\"216.3817,-189.9 213.1349,-179.8149 209.3839,-189.7235 216.3817,-189.9\"/>\n",
       "</g>\n",
       "<!-- 7 -->\n",
       "<g id=\"node8\" class=\"node\">\n",
       "<title>7</title>\n",
       "<path fill=\"#8139e5\" fill-opacity=\"0.031373\" stroke=\"#000000\" d=\"M427,-187C427,-187 313,-187 313,-187 307,-187 301,-181 301,-175 301,-175 301,-116 301,-116 301,-110 307,-104 313,-104 313,-104 427,-104 427,-104 433,-104 439,-110 439,-116 439,-116 439,-175 439,-175 439,-181 433,-187 427,-187\"/>\n",
       "<text text-anchor=\"start\" x=\"314.5\" y=\"-171.8\" font-family=\"Helvetica,sans-Serif\" font-size=\"14.00\" fill=\"#000000\">petal length (cm) ≤ 4.95</text>\n",
       "<text text-anchor=\"start\" x=\"339\" y=\"-156.8\" font-family=\"Helvetica,sans-Serif\" font-size=\"14.00\" fill=\"#000000\">entropy = 1.0</text>\n",
       "<text text-anchor=\"start\" x=\"341.5\" y=\"-141.8\" font-family=\"Helvetica,sans-Serif\" font-size=\"14.00\" fill=\"#000000\">samples = 8</text>\n",
       "<text text-anchor=\"start\" x=\"309\" y=\"-126.8\" font-family=\"Helvetica,sans-Serif\" font-size=\"14.00\" fill=\"#000000\">value = [0.0, 4.242, 4.375]</text>\n",
       "<text text-anchor=\"start\" x=\"332.5\" y=\"-111.8\" font-family=\"Helvetica,sans-Serif\" font-size=\"14.00\" fill=\"#000000\">class = virginica</text>\n",
       "</g>\n",
       "<!-- 6&#45;&gt;7 -->\n",
       "<g id=\"edge7\" class=\"edge\">\n",
       "<title>6&#45;&gt;7</title>\n",
       "<path fill=\"none\" stroke=\"#000000\" d=\"M371.9507,-222.8796C371.7441,-214.6838 371.5249,-205.9891 371.311,-197.5013\"/>\n",
       "<polygon fill=\"#000000\" stroke=\"#000000\" points=\"374.8047,-197.2067 371.0537,-187.2981 367.807,-197.3831 374.8047,-197.2067\"/>\n",
       "</g>\n",
       "<!-- 10 -->\n",
       "<g id=\"node11\" class=\"node\">\n",
       "<title>10</title>\n",
       "<path fill=\"#8139e5\" fill-opacity=\"0.964706\" stroke=\"#000000\" d=\"M589,-187C589,-187 469,-187 469,-187 463,-187 457,-181 457,-175 457,-175 457,-116 457,-116 457,-110 463,-104 469,-104 469,-104 589,-104 589,-104 595,-104 601,-110 601,-116 601,-116 601,-175 601,-175 601,-181 595,-187 589,-187\"/>\n",
       "<text text-anchor=\"start\" x=\"473.5\" y=\"-171.8\" font-family=\"Helvetica,sans-Serif\" font-size=\"14.00\" fill=\"#000000\">petal length (cm) ≤ 4.85</text>\n",
       "<text text-anchor=\"start\" x=\"492\" y=\"-156.8\" font-family=\"Helvetica,sans-Serif\" font-size=\"14.00\" fill=\"#000000\">entropy = 0.217</text>\n",
       "<text text-anchor=\"start\" x=\"497.5\" y=\"-141.8\" font-family=\"Helvetica,sans-Serif\" font-size=\"14.00\" fill=\"#000000\">samples = 28</text>\n",
       "<text text-anchor=\"start\" x=\"465\" y=\"-126.8\" font-family=\"Helvetica,sans-Serif\" font-size=\"14.00\" fill=\"#000000\">value = [0.0, 1.061, 29.531]</text>\n",
       "<text text-anchor=\"start\" x=\"491.5\" y=\"-111.8\" font-family=\"Helvetica,sans-Serif\" font-size=\"14.00\" fill=\"#000000\">class = virginica</text>\n",
       "</g>\n",
       "<!-- 6&#45;&gt;10 -->\n",
       "<g id=\"edge10\" class=\"edge\">\n",
       "<title>6&#45;&gt;10</title>\n",
       "<path fill=\"none\" stroke=\"#000000\" d=\"M427.5612,-222.8796C440.0302,-213.368 453.3802,-203.1843 466.1648,-193.432\"/>\n",
       "<polygon fill=\"#000000\" stroke=\"#000000\" points=\"468.6415,-195.9448 474.4696,-187.0969 464.396,-190.3792 468.6415,-195.9448\"/>\n",
       "</g>\n",
       "<!-- 8 -->\n",
       "<g id=\"node9\" class=\"node\">\n",
       "<title>8</title>\n",
       "<path fill=\"#39e581\" stroke=\"#000000\" d=\"M271.5,-68C271.5,-68 168.5,-68 168.5,-68 162.5,-68 156.5,-62 156.5,-56 156.5,-56 156.5,-12 156.5,-12 156.5,-6 162.5,0 168.5,0 168.5,0 271.5,0 271.5,0 277.5,0 283.5,-6 283.5,-12 283.5,-12 283.5,-56 283.5,-56 283.5,-62 277.5,-68 271.5,-68\"/>\n",
       "<text text-anchor=\"start\" x=\"189\" y=\"-52.8\" font-family=\"Helvetica,sans-Serif\" font-size=\"14.00\" fill=\"#000000\">entropy = 0.0</text>\n",
       "<text text-anchor=\"start\" x=\"191.5\" y=\"-37.8\" font-family=\"Helvetica,sans-Serif\" font-size=\"14.00\" fill=\"#000000\">samples = 2</text>\n",
       "<text text-anchor=\"start\" x=\"164.5\" y=\"-22.8\" font-family=\"Helvetica,sans-Serif\" font-size=\"14.00\" fill=\"#000000\">value = [0.0, 2.121, 0.0]</text>\n",
       "<text text-anchor=\"start\" x=\"179.5\" y=\"-7.8\" font-family=\"Helvetica,sans-Serif\" font-size=\"14.00\" fill=\"#000000\">class = versicolor</text>\n",
       "</g>\n",
       "<!-- 7&#45;&gt;8 -->\n",
       "<g id=\"edge8\" class=\"edge\">\n",
       "<title>7&#45;&gt;8</title>\n",
       "<path fill=\"none\" stroke=\"#000000\" d=\"M314.1455,-103.9815C301.1632,-94.3313 287.3606,-84.0714 274.4403,-74.4673\"/>\n",
       "<polygon fill=\"#000000\" stroke=\"#000000\" points=\"276.2083,-71.4204 266.0946,-68.2637 272.0322,-77.0384 276.2083,-71.4204\"/>\n",
       "</g>\n",
       "<!-- 9 -->\n",
       "<g id=\"node10\" class=\"node\">\n",
       "<title>9</title>\n",
       "<path fill=\"#8139e5\" fill-opacity=\"0.513725\" stroke=\"#000000\" d=\"M428,-68C428,-68 314,-68 314,-68 308,-68 302,-62 302,-56 302,-56 302,-12 302,-12 302,-6 308,0 314,0 314,0 428,0 428,0 434,0 440,-6 440,-12 440,-12 440,-56 440,-56 440,-62 434,-68 428,-68\"/>\n",
       "<text text-anchor=\"start\" x=\"334\" y=\"-52.8\" font-family=\"Helvetica,sans-Serif\" font-size=\"14.00\" fill=\"#000000\">entropy = 0.911</text>\n",
       "<text text-anchor=\"start\" x=\"342.5\" y=\"-37.8\" font-family=\"Helvetica,sans-Serif\" font-size=\"14.00\" fill=\"#000000\">samples = 6</text>\n",
       "<text text-anchor=\"start\" x=\"310\" y=\"-22.8\" font-family=\"Helvetica,sans-Serif\" font-size=\"14.00\" fill=\"#000000\">value = [0.0, 2.121, 4.375]</text>\n",
       "<text text-anchor=\"start\" x=\"333.5\" y=\"-7.8\" font-family=\"Helvetica,sans-Serif\" font-size=\"14.00\" fill=\"#000000\">class = virginica</text>\n",
       "</g>\n",
       "<!-- 7&#45;&gt;9 -->\n",
       "<g id=\"edge9\" class=\"edge\">\n",
       "<title>7&#45;&gt;9</title>\n",
       "<path fill=\"none\" stroke=\"#000000\" d=\"M370.3724,-103.9815C370.4474,-95.618 370.5265,-86.7965 370.6023,-78.3409\"/>\n",
       "<polygon fill=\"#000000\" stroke=\"#000000\" points=\"374.1028,-78.2947 370.6927,-68.2637 367.1031,-78.2318 374.1028,-78.2947\"/>\n",
       "</g>\n",
       "<!-- 11 -->\n",
       "<g id=\"node12\" class=\"node\">\n",
       "<title>11</title>\n",
       "<path fill=\"#8139e5\" fill-opacity=\"0.513725\" stroke=\"#000000\" d=\"M585,-68C585,-68 471,-68 471,-68 465,-68 459,-62 459,-56 459,-56 459,-12 459,-12 459,-6 465,0 471,0 471,0 585,0 585,0 591,0 597,-6 597,-12 597,-12 597,-56 597,-56 597,-62 591,-68 585,-68\"/>\n",
       "<text text-anchor=\"start\" x=\"491\" y=\"-52.8\" font-family=\"Helvetica,sans-Serif\" font-size=\"14.00\" fill=\"#000000\">entropy = 0.911</text>\n",
       "<text text-anchor=\"start\" x=\"499.5\" y=\"-37.8\" font-family=\"Helvetica,sans-Serif\" font-size=\"14.00\" fill=\"#000000\">samples = 3</text>\n",
       "<text text-anchor=\"start\" x=\"467\" y=\"-22.8\" font-family=\"Helvetica,sans-Serif\" font-size=\"14.00\" fill=\"#000000\">value = [0.0, 1.061, 2.188]</text>\n",
       "<text text-anchor=\"start\" x=\"490.5\" y=\"-7.8\" font-family=\"Helvetica,sans-Serif\" font-size=\"14.00\" fill=\"#000000\">class = virginica</text>\n",
       "</g>\n",
       "<!-- 10&#45;&gt;11 -->\n",
       "<g id=\"edge11\" class=\"edge\">\n",
       "<title>10&#45;&gt;11</title>\n",
       "<path fill=\"none\" stroke=\"#000000\" d=\"M528.6276,-103.9815C528.5526,-95.618 528.4735,-86.7965 528.3977,-78.3409\"/>\n",
       "<polygon fill=\"#000000\" stroke=\"#000000\" points=\"531.8969,-78.2318 528.3073,-68.2637 524.8972,-78.2947 531.8969,-78.2318\"/>\n",
       "</g>\n",
       "<!-- 12 -->\n",
       "<g id=\"node13\" class=\"node\">\n",
       "<title>12</title>\n",
       "<path fill=\"#8139e5\" stroke=\"#000000\" d=\"M735,-68C735,-68 627,-68 627,-68 621,-68 615,-62 615,-56 615,-56 615,-12 615,-12 615,-6 621,0 627,0 627,0 735,0 735,0 741,0 747,-6 747,-12 747,-12 747,-56 747,-56 747,-62 741,-68 735,-68\"/>\n",
       "<text text-anchor=\"start\" x=\"650\" y=\"-52.8\" font-family=\"Helvetica,sans-Serif\" font-size=\"14.00\" fill=\"#000000\">entropy = 0.0</text>\n",
       "<text text-anchor=\"start\" x=\"649.5\" y=\"-37.8\" font-family=\"Helvetica,sans-Serif\" font-size=\"14.00\" fill=\"#000000\">samples = 25</text>\n",
       "<text text-anchor=\"start\" x=\"623\" y=\"-22.8\" font-family=\"Helvetica,sans-Serif\" font-size=\"14.00\" fill=\"#000000\">value = [0.0, 0.0, 27.344]</text>\n",
       "<text text-anchor=\"start\" x=\"643.5\" y=\"-7.8\" font-family=\"Helvetica,sans-Serif\" font-size=\"14.00\" fill=\"#000000\">class = virginica</text>\n",
       "</g>\n",
       "<!-- 10&#45;&gt;12 -->\n",
       "<g id=\"edge12\" class=\"edge\">\n",
       "<title>10&#45;&gt;12</title>\n",
       "<path fill=\"none\" stroke=\"#000000\" d=\"M585.5992,-103.9815C598.8799,-94.2394 613.0077,-83.8759 626.2077,-74.193\"/>\n",
       "<polygon fill=\"#000000\" stroke=\"#000000\" points=\"628.2977,-77.0006 634.2908,-68.2637 624.1574,-71.3564 628.2977,-77.0006\"/>\n",
       "</g>\n",
       "</g>\n",
       "</svg>\n"
      ],
      "text/plain": [
       "<graphviz.files.Source at 0x106d479b0>"
      ]
     },
     "execution_count": 28,
     "metadata": {},
     "output_type": "execute_result"
    }
   ],
   "source": [
    "from sklearn.tree import export_graphviz\n",
    "import graphviz\n",
    "\n",
    "# Corramos de nuevo el clasificador de árbol de decisión\n",
    "from sklearn import tree\n",
    "\n",
    "t = tree.DecisionTreeClassifier(max_depth = 4,\n",
    "                                    criterion = 'entropy', \n",
    "                                    class_weight = 'balanced',\n",
    "                                    random_state = 2)\n",
    "t.fit(X_train, y_train)\n",
    "\n",
    "score = t.score(X_test, y_test) \n",
    "print(score)\n",
    "\n",
    "export_graphviz(t, out_file=\"mytree.dot\",  \n",
    "                         feature_names=iris.feature_names,  \n",
    "                         class_names=iris.target_names,  \n",
    "                         filled=True, rounded=True,  \n",
    "                         special_characters=True)\n",
    "\n",
    "with open(\"mytree.dot\") as f:\n",
    "    dot_graph = f.read()\n",
    "\n",
    "graphviz.Source(dot_graph, format = 'png')"
   ]
  },
  {
   "cell_type": "markdown",
   "metadata": {},
   "source": [
    "### De Árboles de Decisión a Bosques Aleatorios (Random Forest)"
   ]
  },
  {
   "cell_type": "code",
   "execution_count": 29,
   "metadata": {},
   "outputs": [],
   "source": [
    "from sklearn.datasets import load_iris\n",
    "import pandas as pd\n",
    "import numpy as np\n",
    "\n",
    "iris = load_iris()\n",
    "X, y = iris.data, iris.target\n",
    "X_train, X_test, y_train, y_test = train_test_split(X, y, test_size = 0.3)"
   ]
  },
  {
   "cell_type": "code",
   "execution_count": 33,
   "metadata": {},
   "outputs": [
    {
     "data": {
      "text/plain": [
       "0.9555555555555556"
      ]
     },
     "execution_count": 33,
     "metadata": {},
     "output_type": "execute_result"
    }
   ],
   "source": [
    "from sklearn.ensemble import RandomForestClassifier\n",
    "\n",
    "forest = RandomForestClassifier(max_depth=4,\n",
    "                                criterion = 'entropy', \n",
    "                                n_estimators = 100, \n",
    "                                class_weight = 'balanced',\n",
    "                                n_jobs = -1,\n",
    "                               random_state = 2)\n",
    "\n",
    "forest.fit(X_train, y_train)\n",
    "\n",
    "y_preds = iris.target_names[forest.predict(X_test)]\n",
    "\n",
    "forest.score(X_test, y_test)"
   ]
  },
  {
   "cell_type": "code",
   "execution_count": 34,
   "metadata": {},
   "outputs": [
    {
     "data": {
      "text/plain": [
       "array([0.98039216, 0.94117647, 0.95833333])"
      ]
     },
     "execution_count": 34,
     "metadata": {},
     "output_type": "execute_result"
    }
   ],
   "source": [
    "# Aquí una forma ágil de usar validación cruzada (útil para evaluación rápida de modelos!)\n",
    "from sklearn import cross_validation\n",
    "\n",
    "# Reinicializams el clasificador\n",
    "forest = RandomForestClassifier(max_depth=4,\n",
    "                                criterion = 'entropy', \n",
    "                                n_estimators = 100, \n",
    "                                class_weight = 'balanced',\n",
    "                                n_jobs = -1,\n",
    "                               random_state = 2)\n",
    "\n",
    "score = cross_validation.cross_val_score(forest, X, y)\n",
    "score"
   ]
  },
  {
   "cell_type": "markdown",
   "metadata": {},
   "source": [
    "Pregunta:  Comparando con el método de árbol de decisión, qué nos dicen estos valores de precisión?  Se ven más razonables?"
   ]
  },
  {
   "cell_type": "markdown",
   "metadata": {},
   "source": [
    "### Separar en set de entrenamiento y prueba vs. validación cruzada ( cross-validation)\n",
    "\n",
    "SERGIO: Esto me parece muy repetitivo pues ya se hizo anteriormente\n"
   ]
  },
  {
   "cell_type": "markdown",
   "metadata": {},
   "source": [
    "<p>We can be explicit and use the `train_test_split` method in scikit-learn ( [train_test_split](http://scikit-learn.org/stable/modules/generated/sklearn.cross_validation.train_test_split.html) ) as in (and as shown above for `iris` data):<p>\n",
    " `\n",
    "```python\n",
    "# Creamos datos a 'mano', y colocamos el 70% para entrenamiento y el resto para prueba. \n",
    "# Here we are using labeled features (X - feature data, y - labels) in our made-up data\n",
    "import numpy as np\n",
    "from sklearn import linear_model\n",
    "from sklearn.cross_validation import train_test_split\n",
    "X, y = np.arange(10).reshape((5, 2)), range(5)\n",
    "X_train, X_test, y_train, y_test = train_test_split(X, y, train_size = 0.70)\n",
    "clf = linear_model.LinearRegression()\n",
    "clf.fit(X_train, y_train)\n",
    "```\n",
    "\n",
    "\n",
    "OR\n",
    "\n",
    "Be more concise and\n",
    "\n",
    "```python\n",
    "import numpy as np\n",
    "from sklearn import cross_validation, linear_model\n",
    "X, y = np.arange(10).reshape((5, 2)), range(5)\n",
    "clf = linear_model.LinearRegression()\n",
    "score = cross_validation.cross_val_score(clf, X, y)\n",
    "```\n",
    "\n",
    "<p>There is also a `cross_val_predict` method to create estimates rather than scores and is very useful for cross-validation to evaluate models ( [cross_val_predict](http://scikit-learn.org/stable/modules/generated/sklearn.cross_validation.cross_val_predict.html) )"
   ]
  },
  {
   "cell_type": "markdown",
   "metadata": {},
   "source": [
    "Created by a Microsoft Employee.\n",
    "\t\n",
    "The MIT License (MIT)<br>\n",
    "Copyright (c) 2016 Micheleen Harris"
   ]
  }
 ],
 "metadata": {
  "kernelspec": {
   "display_name": "Python 3",
   "language": "python",
   "name": "python3"
  },
  "language_info": {
   "codemirror_mode": {
    "name": "ipython",
    "version": 3
   },
   "file_extension": ".py",
   "mimetype": "text/x-python",
   "name": "python",
   "nbconvert_exporter": "python",
   "pygments_lexer": "ipython3",
   "version": "3.6.5"
  }
 },
 "nbformat": 4,
 "nbformat_minor": 2
}
