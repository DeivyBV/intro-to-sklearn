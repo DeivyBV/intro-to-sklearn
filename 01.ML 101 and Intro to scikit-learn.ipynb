{
 "cells": [
  {
   "cell_type": "markdown",
   "metadata": {},
   "source": [
    "# Machine Learning with `scikit-learn`\n",
    "* With Jupyter\n",
    "* This notebook should be compatible with python 2 and 3"
   ]
  },
  {
   "cell_type": "markdown",
   "metadata": {},
   "source": [
    "## Machine Learning 101\n",
    "\n",
    "It's said in different ways, but I like the way Jake VanderPlas defines ML:\n",
    "\n",
    "> Machine Learning can be considered a <b>subfield of Artificial Intelligence</b> since those algorithms can be seen as building blocks to make computers learn to behave more intelligently by somehow <b>generalizing</b> rather that just storing and retrieving data items like a database system would do.\n",
    "\n",
    "<font color = \"grey\">He goes on to say:\n",
    "\n",
    "\"Machine Learning is about building <b>programs with tunable parameters</b> (typically an array of floating point values) that are adjusted automatically so as to improve their behavior by <b>adapting to previously seen data</b>.\"<br><br>\n",
    "\n",
    "\n",
    "(more [here](http://www.astroml.org/sklearn_tutorial/general_concepts.html))<br><br>\n",
    "\n",
    "ML is much more than writing a program.  ML experts write clever and robust algorithms which can generalize to answer different, but specific questions.  There are still types of questions that a certain algorithm can not or should not be used to answer.  I say answer instead of solve, because even with an answer one should evaluate whether it is a good answer or bad answer.  Also, just an in statistics, one needs to be careful about assumptions and limitations of an algorithm and the subsequent model that is built from it.</font>\n",
    "\n",
    "<br><br>Here's my hand-drawn diagram of the machine learning process.<br>\n",
    "\n",
    "<img src='imgs/ml_process_by_micheleenharris.png' alt=\"Smiley face\" width=\"550\">\n",
    "<br><br>\n"
   ]
  },
  {
   "cell_type": "markdown",
   "metadata": {},
   "source": [
    "### First example\n",
    "Below, we are going to show a simple case of <i>classification</i> in a picture.  <br><br>\n",
    "\n",
    "<font color = \"grey\">\n",
    "\n",
    "In the figure we show a collection of 2D data, colored by their class labels (imagine one class is labeled \"red\" and the other \"blue\").\n",
    "The `fig_code` module is credited to Jake VanderPlas and was cloned from his github repo [here](https://github.com/jakevdp/sklearn_pycon2015) - also on our repo is his license file since he asked us to include that if we use his source code. :)</font>"
   ]
  },
  {
   "cell_type": "code",
   "execution_count": 1,
   "metadata": {
    "collapsed": false
   },
   "outputs": [],
   "source": [
    "# Imports for python 2/3 compatibility\n",
    "\n",
    "from __future__ import absolute_import, division, print_function, unicode_literals\n",
    "\n",
    "# For python 2, comment these out:\n",
    "# from builtins import range"
   ]
  },
  {
   "cell_type": "code",
   "execution_count": 2,
   "metadata": {
    "collapsed": false
   },
   "outputs": [
    {
     "name": "stderr",
     "output_type": "stream",
     "text": [
      "/Users/m/anaconda/envs/sklearn/lib/python2.7/site-packages/matplotlib/font_manager.py:273: UserWarning: Matplotlib is building the font cache using fc-list. This may take a moment.\n",
      "  warnings.warn('Matplotlib is building the font cache using fc-list. This may take a moment.')\n"
     ]
    }
   ],
   "source": [
    "# Plot settings for notebook\n",
    "\n",
    "# so that plots show up in notebook\n",
    "%matplotlib inline\n",
    "import matplotlib.pyplot as plt\n",
    "\n",
    "# suppress future warning (some code is borrowed/adapted)\n",
    "import warnings\n",
    "warnings.filterwarnings('ignore')"
   ]
  },
  {
   "cell_type": "code",
   "execution_count": 3,
   "metadata": {
    "collapsed": false
   },
   "outputs": [
    {
     "data": {
      "image/png": "[encoded data removed]",
      "text/plain": [
       "<matplotlib.figure.Figure at 0x10a605b50>"
      ]
     },
     "metadata": {},
     "output_type": "display_data"
    }
   ],
   "source": [
    "# Import an example plot from the figures directory\n",
    "from fig_code import plot_sgd_separator\n",
    "plot_sgd_separator()"
   ]
  },
  {
   "cell_type": "markdown",
   "metadata": {},
   "source": [
    "Above is the vector which best separates the two classes, \"red\" and \"blue\" using a classification algorithm called Stochastic Gradient Decent (don't worry about the detail yet).  The confidence intervals are shown as dashed lines.<br><br>\n",
    "\n",
    "<font color = \"grey\">\n",
    "This demonstrates a very important aspect of ML and that is the algorithm is <i>generalizable</i>, i.e., if we add some new data, a new point, the algorithm can <i>predict</i> whether is should be in the \"red\" or \"blue\" category.\n",
    "</font><br><br>\n",
    "Here are some details of the code used above:"
   ]
  },
  {
   "cell_type": "code",
   "execution_count": 4,
   "metadata": {
    "collapsed": false
   },
   "outputs": [
    {
     "name": "stdout",
     "output_type": "stream",
     "text": [
      "[[ 1.41281595  1.5303347 ]\n",
      " [ 1.81336135  1.6311307 ]\n",
      " [ 1.43289271  4.37679234]\n",
      " [ 1.87271752  4.18069237]\n",
      " [ 2.09517785  1.0791468 ]\n",
      " [ 2.73890793  0.15676817]\n",
      " [ 3.18515794  0.08900822]\n",
      " [ 2.06156753  1.96918596]\n",
      " [ 2.03835818  1.15466278]\n",
      " [-0.04749204  5.47425256]]\n",
      "[1 1 0 0 1 1 1 1 1 0]\n"
     ]
    }
   ],
   "source": [
    "from sklearn.linear_model import SGDClassifier\n",
    "from sklearn.datasets.samples_generator import make_blobs\n",
    "import numpy as np\n",
    "\n",
    "# we create 50 separable points\n",
    "X, y = make_blobs(n_samples=50, centers=2,\n",
    "                      random_state=0, cluster_std=0.60)\n",
    "\n",
    "# what's in X and what's in y??\n",
    "print(X[0:10,:])\n",
    "print(y[0:10])\n",
    "\n",
    "target_names = np.array(['blue', 'red']) # <-- what am I naming here?"
   ]
  },
  {
   "cell_type": "code",
   "execution_count": 5,
   "metadata": {
    "collapsed": false
   },
   "outputs": [
    {
     "data": {
      "text/plain": [
       "SGDClassifier(alpha=0.01, average=False, class_weight=None, epsilon=0.1,\n",
       "       eta0=0.0, fit_intercept=True, l1_ratio=0.15,\n",
       "       learning_rate='optimal', loss=u'hinge', n_iter=200, n_jobs=1,\n",
       "       penalty='l2', power_t=0.5, random_state=None, shuffle=True,\n",
       "       verbose=0, warm_start=False)"
      ]
     },
     "execution_count": 5,
     "metadata": {},
     "output_type": "execute_result"
    }
   ],
   "source": [
    "clf = SGDClassifier(loss=\"hinge\", alpha=0.01,\n",
    "                    n_iter=200, fit_intercept=True)\n",
    "\n",
    "# fit the model -> more details later\n",
    "clf.fit(X, y)"
   ]
  },
  {
   "cell_type": "markdown",
   "metadata": {},
   "source": [
    "Add some of your own data and make a prediction in the cell below.\n",
    "\n",
    "Data could be a single x, y point or array of x, y points. e.g. `[[0, 5]]`"
   ]
  },
  {
   "cell_type": "code",
   "execution_count": 9,
   "metadata": {
    "collapsed": false
   },
   "outputs": [
    {
     "data": {
      "text/plain": [
       "array([u'red'], \n",
       "      dtype='<U4')"
      ]
     },
     "execution_count": 9,
     "metadata": {},
     "output_type": "execute_result"
    }
   ],
   "source": [
    "X_test = [___] # <-- your data here (as 2D array)\n",
    "y_pred = clf.predict(___) # <-- what goes here?\n",
    "\n",
    "# predictions (decode w/ target names list)\n",
    "target_names[y_pred]"
   ]
  },
  {
   "cell_type": "markdown",
   "metadata": {},
   "source": [
    "\n",
    "> <b>ML TIP:  ML can only answer 5 questions:</b>\n",
    "* How much/how many?\n",
    "* Which category?\n",
    "* Which group?\n",
    "* Is it weird?\n",
    "* Which action?\n",
    "\n",
    "<p style=\"text-align:right\"><i>explained well by Brandon Rohrer [here]((https://channel9.msdn.com/blogs/Cloud-and-Enterprise-Premium/Data-Science-for-Rest-of-Us)</i></p>\n",
    "\n",
    "As far as algorithms for learning a model (i.e. running some training data through an algorithm), it's nice to think of them in two different ways (with the help of the [machine learning wikipedia article](https://en.wikipedia.org/wiki/Machine_learning)).  \n",
    "\n",
    "The first way of thinking about ML, is by the type of information or **<i>input</i>** given to a system.  So, given that criteria there are three classical categories:\n",
    "1.  Supervised learning - we get the data and the labels\n",
    "2.  Unsupervised learning - only get the data (no labels)\n",
    "3.  Reinforcement learning - reward/penalty based information (feedback)\n",
    "\n",
    "Another way of categorizing ML approaches, is to think of the desired **<i>output</i>**:\n",
    "1.  Classification\n",
    "2.  Regression\n",
    "3.  Clustering\n",
    "4.  Density estimation\n",
    "5.  Dimensionality reduction\n",
    "\n",
    "--> This second approach (by desired <i>output</i>) is how `sklearn` categorizes it's ML algorithms.<br><br>\n",
    "\n",
    "<font color = \"lightgrey\">\n",
    "\n",
    "The problem solved in supervised learning (e.g. classification, regression)\n",
    "\n",
    "Supervised learning consists of learning the link between two datasets: the observed data X and an external variable y that we are trying to predict, usually called “target” or “labels”. Most often, y is a 1D array of length n_samples.\n",
    "</font><br><br>\n",
    "\n",
    "All supervised estimators in `sklearn` implement a `fit(X, y)` method to fit the model and a `predict(X)` method that, given unlabeled observations X, returns the predicted labels y.<br><br>\n",
    "\n",
    "<font color = \"lightgrey\">\n",
    "Common algorithms you will use to train a model and then use trying to predict the labels of unknown observations are: <b>classification</b> and <b>regression</b>.  There are many types of classification and regression (for examples check out the `sklearn` algorithm cheatsheet below).\n",
    "\n",
    "The problem solved in <i>un</i>supervised learning (e.g. dimensionality reduction, clustering)\n",
    "In machine learning, the problem of unsupervised learning is that of trying to find <b>hidden structure</b> in unlabeled data.\n",
    "</font><br><br>\n",
    "Unsupervised models have a `fit()`, `transform()` and/or `fit_transform()` in `sklearn`.\n",
    "\n",
    "#### There are some instances where ML is just not needed or appropriate for solving a problem.\n",
    "Some examples are pattern matching (e.g. regex), group-by and data mining in general (discovery vs. prediction)."
   ]
  },
  {
   "cell_type": "markdown",
   "metadata": {},
   "source": [
    "#### EXERCISE: Should I use ML or can I get away with something else?\n",
    "\n",
    "* Looking back at previous years, by what percent did housing prices increase over each decade?<br>\n",
    "* Looking back at previous years, and given the relationship between housing prices and mean income in my area, given my income how much will a house be in two years in my area?<br>\n",
    "* A vacuum like roomba has to make a decision to vacuum the living room again or return to its base.<br>\n",
    "* Is this image a cat or dog?<br>\n",
    "* Are orange tabby cats more common than other breeds in Austin, Texas?<br>\n",
    "* Using my database on housing prices, group my housing prices by whether or not the house is under 10 miles from a school.<br>\n",
    "* What is the weather going to be like tomorrow?<br>\n",
    "* What is the purpose of life?"
   ]
  },
  {
   "cell_type": "markdown",
   "metadata": {},
   "source": [
    "## A very brief introduction to scikit-learn (aka `sklearn`)\n",
    "\n",
    "As a gentle intro, it is helpful to think of the `sklearn` approach having layers of abstraction.  This famous quote certainly applies:\n",
    "\n",
    "> Easy reading is damn hard writing, and vice versa. <br>\n",
    "--Nathaniel Hawthorne\n",
    "\n",
    "In `sklearn`, you'll find you have a common programming choice: to do things very explicitly, e.g. pre-process data one step at a time, perhaps do a transformation like PCA, split data into traning and test sets, define a classifier or learner with desired parameters, train the classifier, use the classifier to predict on a test set and then analyze how good it did.  \n",
    "\n",
    "A different approach and something `sklearn` offers is to combine some or all of the steps above into a pipeline so to speak.  For instance, one could define a pipeline which does all of these steps at one time and perhaps even pits mutlple learners against one another or does some parameter tuning with a grid search (examples will be shown towards the end).  This is what is meant here by layers of abstraction.<br><br>\n",
    "<font color = \"lightgrey\">\n",
    "So, in this particular module, for the most part, we will try to be explicit regarding our process and give some useful tips on options for a more automated or pipelined approach.  Just note, once you've mastered the explicit approaches you might want to explore `sklearn`'s `GridSearchCV` and `Pipeline` classes.\n",
    "</font><br><br>\n",
    "Here is `sklearn`'s algorithm diagram - (note, this is not an exhaustive list of model options offered in `sklearn`, but serves as a good algorithm guide).  The interactive version is [here](http://scikit-learn.org/stable/tutorial/machine_learning_map/).\n",
    "![](imgs/ml_map.png)"
   ]
  },
  {
   "cell_type": "markdown",
   "metadata": {},
   "source": [
    "### Your first model - a quick multiclass logistic regression\n",
    "* `sklearn` comes with many datasets ready-to-go for `sklearn`'s algorithms like the `iris` data set\n",
    "* In the next module we'll explore the `iris` dataset in detail\n",
    "---\n",
    "Below, notice some methods like *`fit`, `predict` and `predict_proba`*.  Many of the classifiers you'll see will share method names like these.  (Note this is a supervised learning classifier)"
   ]
  },
  {
   "cell_type": "code",
   "execution_count": 10,
   "metadata": {
    "collapsed": true
   },
   "outputs": [],
   "source": [
    "from sklearn.datasets import load_iris\n",
    "iris = load_iris()\n",
    "\n",
    "# Leave one value out from training set - that will be test later on\n",
    "X_train, y_train = iris.data[:-1,:], iris.target[:-1]"
   ]
  },
  {
   "cell_type": "code",
   "execution_count": 11,
   "metadata": {
    "collapsed": false
   },
   "outputs": [
    {
     "name": "stdout",
     "output_type": "stream",
     "text": [
      "Predicted class [2], real class 2\n",
      "Probabilities of membership in each class: [[ 0.00168787  0.28720074  0.71111138]]\n"
     ]
    }
   ],
   "source": [
    "from sklearn.linear_model import LogisticRegression\n",
    "\n",
    "# our model - a multiclass regression\n",
    "logistic = LogisticRegression()\n",
    "\n",
    "# train on iris training set\n",
    "logistic.fit(X_train, y_train)\n",
    "\n",
    "# place data in array of arrays (1D -> 2D)\n",
    "X_test = iris.data[-1,:].reshape(1, -1)\n",
    "\n",
    "y_predict = logistic.predict(X_test)\n",
    "\n",
    "print('Predicted class %s, real class %s' % (\n",
    " y_predict, iris.target[-1]))\n",
    "\n",
    "print('Probabilities of membership in each class: %s' % \n",
    "      logistic.predict_proba(X_test))"
   ]
  },
  {
   "cell_type": "markdown",
   "metadata": {},
   "source": [
    "QUESTION:\n",
    "* What would have been good to do before plunging right in to a logistic regression model?"
   ]
  },
  {
   "cell_type": "markdown",
   "metadata": {},
   "source": [
    "#### Some terms you will encounter as a Machine Learnest\n",
    "\n",
    "Term  | Definition\n",
    "------------- | -------------\n",
    "Training set  | set of data used to learn a model\n",
    "Test set  | set of data used to test a model\n",
    "Feature  | a variable (continuous, discrete, categorical, etc.) aka column\n",
    "Target  | Label (associated with dependent variable, what we predict)\n",
    "Learner  | Model or algorithm\n",
    "Fit, Train | learn a model with an ML algorithm using a training set\n",
    "Predict | w/ supervised learning, give a label to an unknown datum(data), w/ unsupervised decide if new data is weird, in which group, or what to do next with the new data\n",
    "Accuracy | percentage of correct predictions ((TP + TN) / total)\n",
    "Precision | percentage of correct positive predictions (TP / (FP + TP))\n",
    "Recall | percentage of positive cases caught (TP / (FN + TP))"
   ]
  },
  {
   "cell_type": "markdown",
   "metadata": {},
   "source": [
    "> PRO TIP: Are you a statistician?  Want to talk like a machine learning expert?  Here you go (from the friendly people at SAS ([here](http://www.sas.com/it_it/insights/analytics/machine-learning.html))): \n",
    "\n",
    "A Statistician Would Say  | A Machine Learnest Would Say\n",
    "------------- | -------------\n",
    "dependent variable  | target\n",
    "variable  | feature\n",
    "transformation  | feature creation\n"
   ]
  },
  {
   "cell_type": "markdown",
   "metadata": {},
   "source": [
    "Created by a Microsoft Employee.\n",
    "\t\n",
    "The MIT License (MIT)<br>\n",
    "Copyright (c) 2016 Micheleen Harris"
   ]
  }
 ],
 "metadata": {
  "kernelspec": {
   "display_name": "Python 2",
   "language": "python",
   "name": "python2"
  },
  "language_info": {
   "codemirror_mode": {
    "name": "ipython",
    "version": 2
   },
   "file_extension": ".py",
   "mimetype": "text/x-python",
   "name": "python",
   "nbconvert_exporter": "python",
   "pygments_lexer": "ipython2",
   "version": "2.7.11"
  }
 },
 "nbformat": 4,
 "nbformat_minor": 0
}
