{
 "cells": [
  {
   "cell_type": "markdown",
   "metadata": {},
   "source": [
    "## Algoritmos de Aprendizaje - Aprendizaje Supervisado\n",
    "\n",
    ">  Recordatorio:  Todos los modelos de aprendizaje supervisado en scikit-learn implementan un metodo llamado\n",
    "`fit(X, y)`, que sirve para entrenar(ajustar) el modelo y un método llamado `predict(X_t)`, que devuelve predicciones sobre los valores `X_t`de acuerdo al modelo ya ajustado. \n",
    "\n",
    "Dado que el dataset iris es pequeño, se cuenta con observaciones con relativamente pocos atributos... Con cuál algoritmo se podría empezar y por qué?"
   ]
  },
  {
   "cell_type": "markdown",
   "metadata": {},
   "source": [
    "> \"Often the hardest part of solving a machine learning problem can be finding the right estimator for the job.\"\n",
    "\n",
    "> \"Different estimators are better suited for different types of data and different problems.\"\n",
    "\n",
    "<a href = \"http://scikit-learn.org/stable/tutorial/machine_learning_map/index.html\" style = \"float: right\">-Choosing the Right Estimator from sklearn docs</a>\n",
    "\n",
    "<img src='imgs/ml_map.png' alt=\"Smiley face\" width=\"950\">\n"
   ]
  },
  {
   "cell_type": "code",
   "execution_count": 14,
   "metadata": {},
   "outputs": [],
   "source": [
    "#  Se importan funcionalidades para compatibilidad entre python 2/3 \n",
    "\n",
    "from __future__ import absolute_import, division, print_function, unicode_literals\n",
    "\n",
    "# Para python 2, comente la siguiente linea:\n",
    "from builtins import range"
   ]
  },
  {
   "cell_type": "markdown",
   "metadata": {},
   "source": [
    "### Separar en set de entrenamiento y prueba vs. validación cruzada ( cross-validation)\n",
    "\n",
    "Recordemos que para poder entrenar y luego evaluar el modelo que vamos a utilizar, se particiona el set de datos en 2:\n",
    "\n",
    "* **Conjunto de Entrenamiento**: Las observaciones que van a ser utilizadas para ajustar el modelo, junto con sus etiquetas correspondientes.\n",
    "* **Conjunto de Prueba**: Las observaciones que van a ser utilizadas para evaluar el modelo una vez ajustado.\n",
    "\n",
    "En ScikitLearn, se utiliza la siguiente terminología:\n",
    "\n",
    "* **X_train**: Matriz bidimensional que describe los atributos (variables independientes) de cada observación en el dataset, que pertenezcan al conjunto de entrenamiento.\n",
    "* **X_test**: Matriz bidimensional que describe los atributos (variables independientes) de cada observación en el dataset, que pertenezcan al conjunto de prueba.\n",
    "* **y_train**: Arreglo uni-dimensional que describe las etiquetas correspondientes a cada observación en X_train.\n",
    "* **y_test**: Arreglo uni-dimensional que describe las etiquetas correspondientes a cada observación en X_test.\n",
    "\n",
    "<img src='imgs/testtrain.png' alt=\"Smiley face\" width=\"950\">\n",
    "\n",
    "Existe otro enfoque que puede ser utilizado en ocasiones en las cuales se desea probar un modelo con una cantidad menor de observaciones, o quiere tenerse una visión más general del clasificador, usando varios grupos de entrenamiento y prueba, denominado validación cruzada. En sklearn, el método de validación cruzada por defecto es el de **KFold Cross Validation**:\n",
    "\n",
    "En este método, el dataset es dividido en un número determinado de Folds (pliegues), y posteriormente se itera el proceso de entrenamiento y evaluación, seleccionando cada fold en cada iteración para que sea el conjunto de prueba, y los demás el de entrenamiento.\n",
    "\n",
    "<img src='imgs/kfolds.png' alt=\"Smiley face\" width=\"950\">\n"
   ]
  },
  {
   "cell_type": "markdown",
   "metadata": {},
   "source": [
    "<p>Acá un ejemplo de cómo usar el método de `train_test_split` en scikit-learn ( [train_test_split](http://scikit-learn.org/stable/modules/generated/sklearn.cross_validation.train_test_split.html) ) para generar los subconjuntos de prueba y entrenamiento con los nombres vistos anteriormente:<p>\n",
    "```python\n",
    "# Creamos datos a 'mano', y colocamos el 70% para entrenamiento y el resto para prueba. \n",
    "import numpy as np\n",
    "from sklearn import linear_model\n",
    "from sklearn.model_selection import train_test_split\n",
    "    \n",
    "X, y = np.arange(10).reshape((5, 2)), range(5)\n",
    "X_train, X_test, y_train, y_test = train_test_split(X, y, train_size = 0.70)\n",
    "\n",
    "clf = linear_model.LinearRegression()\n",
    "clf.fit(X_train, y_train)\n",
    "```\n",
    "\n",
    "O usando 3-fold cross validation (el método cross_val_score usa 3 folds por defecto):\n",
    "\n",
    "```python\n",
    "import numpy as np\n",
    "from sklearn import cross_validation, linear_model\n",
    "\n",
    "X, y = np.arange(10).reshape((5, 2)), range(5)\n",
    "clf = linear_model.LinearRegression()\n",
    "\n",
    "score = cross_validation.cross_val_score(clf, X, y)\n",
    "```\n",
    "\n",
    "<p>Existe también el método `cross_val_predict` que genera estimadoes en vez de scores, y es muy útil para hacer validación cruzada y evaluar modelos ( [cross_val_predict](http://scikit-learn.org/stable/modules/generated/sklearn.cross_validation.cross_val_predict.html) )"
   ]
  },
  {
   "cell_type": "markdown",
   "metadata": {},
   "source": [
    "## Trabajando con Dataframes de Pandas\n",
    "\n",
    "¿Cómo generamos los conjuntos X/y a partir de un objeto DataFrame de Pandas?\n",
    "\n",
    "``` Python\n",
    "# Asumamos que tenemos un DataFrame con un columna \"target\" que queremos usar como objetivo:\n",
    "df = pd.read_csv(\"dataset.csv\")\n",
    "\n",
    "# Usando la función pop extraemos la columna objetivo, esto nos provee y:\n",
    "y = df.pop('target')\n",
    "\n",
    "# Al usar pop, la columna automaticamente se remueve del dataframe, podemos simplemente renombrar la variable:\n",
    "X = df\n",
    "\n",
    "# Ya podemos usar train_test_split:\n",
    "X_train, X_test, y_train, y_test = train_test_split(X.index,y,test_size=0.2)\n",
    "```"
   ]
  },
  {
   "cell_type": "markdown",
   "metadata": {},
   "source": [
    "# Ejemplo\n",
    "<b>Un estimador para reconocer un nuevo iris a partir de sus medidas (atributos)</b>\n",
    "\n",
    "> O en lenguaje de machine learning,  ajustamos  (<i>fit</i>) un estimador sobre la muestra, dado sus atributos, para predecir (<i>predict</i>) la clase a la cuál un nuevo iris pertenece.\n",
    "\n",
    "Empecemos! (Vamos a separar un pequeño % de la muestra y revisar las predicciones del modelo a construir contra estos datos separados)"
   ]
  },
  {
   "cell_type": "markdown",
   "metadata": {},
   "source": [
    "# Arboles de Decisión\n",
    "\n",
    "Los árboles de decisión son un método de aprendizaje supervisado que soportan clasificación y regresión. Su objetivo es crear un modelo que predice el valor de la variable objetivo aprendiendo decisiones simples inferidas de atributos.\n",
    "\n",
    "### Ventajas:\n",
    "\n",
    "* Son fáciles de entender e interpretar. Los árboles generados pueden ser visualizados. Caja blanca vs. Caja negra.\n",
    "* Requieren poca preparación para los datos. Otras técnicas pueden necesitar normalización, variables dummy, etc.\n",
    "* El proceso de predicción es muy sencillo y no toma muchos recursos.\n",
    "* Puede utilizar datos numéricos y categóricos.\n",
    "* Es posible validarlo usando pruebas estadísticas.\n",
    "* Se comportan bien por lo general aunque sus suposiciones no se cumplan en el modelo real que busca aproximar.\n",
    "\n",
    "### Desventajas:\n",
    "\n",
    "* Pueden generar árboles muy complejos que no generalizen bien los datos.\n",
    "* Pueden resultar muy inestables porque pequeñas variaciones en los datos pueden generar árboles muy diferentes.\n",
    "* Generar un árbol de decisión óptimo es un problema NP-Completo, por lo que generalmente usan heurísticas que no garantizan un resultado óptimo.\n",
    "* Existen conceptos y reglas que no pueden ser expresadas bien en un arbol, como XOR, paridad, etc.\n",
    "* Pueden presentar sesgos si existe una clase dominante en la variable objetivo."
   ]
  },
  {
   "cell_type": "code",
   "execution_count": 15,
   "metadata": {},
   "outputs": [],
   "source": [
    "from sklearn.datasets import load_iris\n",
    "from sklearn.model_selection import train_test_split\n",
    "\n",
    "# Cargando el dataset Iris\n",
    "iris = load_iris()\n",
    "X, y = iris.data, iris.target\n",
    "\n",
    "# Se separan los datos en datos de entrenamiento y prueba usando la función rain_test_split \n",
    "\n",
    "X_train, X_test, y_train, y_test = train_test_split(X, y, test_size = 0.3)\n"
   ]
  },
  {
   "cell_type": "code",
   "execution_count": 16,
   "metadata": {},
   "outputs": [
    {
     "data": {
      "text/plain": [
       "0.9777777777777777"
      ]
     },
     "execution_count": 16,
     "metadata": {},
     "output_type": "execute_result"
    }
   ],
   "source": [
    "# Probemos con el método de clasificación conocido como árbol de decisión (decision tree)\n",
    "from sklearn import tree\n",
    "\n",
    "# Instanciación del modelo\n",
    "t = tree.DecisionTreeClassifier(max_depth = 4,\n",
    "                                    criterion = 'entropy', \n",
    "                                    class_weight = 'balanced',\n",
    "                                    random_state = 2)\n",
    "\n",
    "# Entrenamiento\n",
    "t.fit(X_train, y_train) \n",
    "\n",
    "# Prueba\n",
    "t.score(X_test, y_test) "
   ]
  },
  {
   "cell_type": "code",
   "execution_count": 17,
   "metadata": {},
   "outputs": [
    {
     "name": "stdout",
     "output_type": "stream",
     "text": [
      "[2 2 0 0 1 1 1 1 0 2 0 1 1 2 1 1 0 0 0 2 0 0 2 1 0 1 0 0 1 2 2 1 2 0 1 0 0\n",
      " 0 0 1 1 0 1 0 2]\n",
      "[2 2 0 0 1 1 1 1 0 2 0 1 1 2 1 1 0 0 0 2 0 0 2 1 0 1 0 0 1 2 1 1 2 0 1 0 0\n",
      " 0 0 1 1 0 1 0 2]\n",
      "Predición: 2, Etiqueta original: 2\n"
     ]
    }
   ],
   "source": [
    "# Cuáles son los valores ajustados(o predicciones) asociados a la partición seleccionada para prueba? \n",
    "y_pred = t.predict(X_test)\n",
    "print(y_pred)\n",
    "print(y_test)\n",
    "\n",
    "#Qué tal la predicción para la primera observación de la base de prueba?\n",
    "print(\"Predición: %d, Etiqueta original: %d\" % (y_pred[1], 2)) # <-- Llenar la casilla"
   ]
  },
  {
   "cell_type": "markdown",
   "metadata": {},
   "source": [
    "Nota: Más adelante se verá como evaluar los modelos. "
   ]
  },
  {
   "cell_type": "markdown",
   "metadata": {},
   "source": [
    "## Usando K-Fold Crossvalidation"
   ]
  },
  {
   "cell_type": "code",
   "execution_count": 18,
   "metadata": {},
   "outputs": [
    {
     "data": {
      "text/plain": [
       "array([0.98039216, 0.92156863, 1.        ])"
      ]
     },
     "execution_count": 18,
     "metadata": {},
     "output_type": "execute_result"
    }
   ],
   "source": [
    "# Aquí una forma ágil de usar validación cruzada (útil para evaluación rápida de modelos!)\n",
    "from sklearn import model_selection\n",
    "\n",
    "t = tree.DecisionTreeClassifier(max_depth = 4,\n",
    "                                    criterion = 'entropy', \n",
    "                                    class_weight = 'balanced',\n",
    "                                    random_state = 2)\n",
    "\n",
    "# particiona, ajusta y predice todo de una vez con un score, usando 3-fold cross validation\n",
    "score = model_selection.cross_val_score(t, X, y)\n",
    "score"
   ]
  },
  {
   "cell_type": "markdown",
   "metadata": {},
   "source": [
    "Preguntas:  Qué nos dicen estos scores?  Son muy altos o bajos?  Si es 1.0 qué significa?"
   ]
  },
  {
   "cell_type": "markdown",
   "metadata": {},
   "source": [
    "### Cómo luce el gráfico para este árbol de decisión?  Es decir, cuáles son las \"preguntas\" y \"decisiones\" para este árbol...\n",
    "* Nota:  Se necesita la aplicación Graphviz y el paquete de python `graphviz`.\n",
    "* Para instalar ambos en OS X:\n",
    "```\n",
    "sudo port install graphviz\n",
    "sudo pip install graphviz\n",
    "```\n",
    "* Puede también instalarse desde el gestor de módulos de Anaconda.\n",
    "* Para instalación general vea esta guía (http://graphviz.readthedocs.org/en/latest/manual.html)"
   ]
  },
  {
   "cell_type": "code",
   "execution_count": 19,
   "metadata": {
    "scrolled": true
   },
   "outputs": [
    {
     "name": "stdout",
     "output_type": "stream",
     "text": [
      "0.9777777777777777\n"
     ]
    },
    {
     "data": {
      "image/svg+xml": [
       "<?xml version=\"1.0\" encoding=\"UTF-8\" standalone=\"no\"?>\r\n",
       "<!DOCTYPE svg PUBLIC \"-//W3C//DTD SVG 1.1//EN\"\r\n",
       " \"http://www.w3.org/Graphics/SVG/1.1/DTD/svg11.dtd\">\r\n",
       "<!-- Generated by graphviz version 2.38.0 (20140413.2041)\r\n",
       " -->\r\n",
       "<!-- Title: Tree Pages: 1 -->\r\n",
       "<svg width=\"1113pt\" height=\"552pt\"\r\n",
       " viewBox=\"0.00 0.00 1113.00 552.00\" xmlns=\"http://www.w3.org/2000/svg\" xmlns:xlink=\"http://www.w3.org/1999/xlink\">\r\n",
       "<g id=\"graph0\" class=\"graph\" transform=\"scale(1 1) rotate(0) translate(4 548)\">\r\n",
       "<title>Tree</title>\r\n",
       "<polygon fill=\"white\" stroke=\"none\" points=\"-4,4 -4,-548 1109,-548 1109,4 -4,4\"/>\r\n",
       "<!-- 0 -->\r\n",
       "<g id=\"node1\" class=\"node\"><title>0</title>\r\n",
       "<path fill=\"none\" stroke=\"black\" d=\"M669,-544C669,-544 520,-544 520,-544 514,-544 508,-538 508,-532 508,-532 508,-473 508,-473 508,-467 514,-461 520,-461 520,-461 669,-461 669,-461 675,-461 681,-467 681,-473 681,-473 681,-532 681,-532 681,-538 675,-544 669,-544\"/>\r\n",
       "<text text-anchor=\"start\" x=\"527\" y=\"-528.8\" font-family=\"Helvetica,sans-Serif\" font-size=\"14.00\">petal width (cm) ≤ 0.8</text>\r\n",
       "<text text-anchor=\"start\" x=\"544.5\" y=\"-513.8\" font-family=\"Helvetica,sans-Serif\" font-size=\"14.00\">entropy = 1.585</text>\r\n",
       "<text text-anchor=\"start\" x=\"547\" y=\"-498.8\" font-family=\"Helvetica,sans-Serif\" font-size=\"14.00\">samples = 105</text>\r\n",
       "<text text-anchor=\"start\" x=\"516\" y=\"-483.8\" font-family=\"Helvetica,sans-Serif\" font-size=\"14.00\">value = [35.0, 35.0, 35.0]</text>\r\n",
       "<text text-anchor=\"start\" x=\"539\" y=\"-468.8\" font-family=\"Helvetica,sans-Serif\" font-size=\"14.00\">class = versicolor</text>\r\n",
       "</g>\r\n",
       "<!-- 1 -->\r\n",
       "<g id=\"node2\" class=\"node\"><title>1</title>\r\n",
       "<path fill=\"#e58139\" stroke=\"black\" d=\"M572,-417.5C572,-417.5 439,-417.5 439,-417.5 433,-417.5 427,-411.5 427,-405.5 427,-405.5 427,-361.5 427,-361.5 427,-355.5 433,-349.5 439,-349.5 439,-349.5 572,-349.5 572,-349.5 578,-349.5 584,-355.5 584,-361.5 584,-361.5 584,-405.5 584,-405.5 584,-411.5 578,-417.5 572,-417.5\"/>\r\n",
       "<text text-anchor=\"start\" x=\"463.5\" y=\"-402.3\" font-family=\"Helvetica,sans-Serif\" font-size=\"14.00\">entropy = 0.0</text>\r\n",
       "<text text-anchor=\"start\" x=\"462\" y=\"-387.3\" font-family=\"Helvetica,sans-Serif\" font-size=\"14.00\">samples = 31</text>\r\n",
       "<text text-anchor=\"start\" x=\"435\" y=\"-372.3\" font-family=\"Helvetica,sans-Serif\" font-size=\"14.00\">value = [35.0, 0.0, 0.0]</text>\r\n",
       "<text text-anchor=\"start\" x=\"459.5\" y=\"-357.3\" font-family=\"Helvetica,sans-Serif\" font-size=\"14.00\">class = setosa</text>\r\n",
       "</g>\r\n",
       "<!-- 0&#45;&gt;1 -->\r\n",
       "<g id=\"edge1\" class=\"edge\"><title>0&#45;&gt;1</title>\r\n",
       "<path fill=\"none\" stroke=\"black\" d=\"M563.622,-460.907C554.976,-449.542 545.572,-437.178 536.896,-425.774\"/>\r\n",
       "<polygon fill=\"black\" stroke=\"black\" points=\"539.57,-423.507 530.73,-417.667 533.998,-427.745 539.57,-423.507\"/>\r\n",
       "<text text-anchor=\"middle\" x=\"527.362\" y=\"-438.739\" font-family=\"Helvetica,sans-Serif\" font-size=\"14.00\">True</text>\r\n",
       "</g>\r\n",
       "<!-- 2 -->\r\n",
       "<g id=\"node3\" class=\"node\"><title>2</title>\r\n",
       "<path fill=\"none\" stroke=\"black\" d=\"M755,-425C755,-425 614,-425 614,-425 608,-425 602,-419 602,-413 602,-413 602,-354 602,-354 602,-348 608,-342 614,-342 614,-342 755,-342 755,-342 761,-342 767,-348 767,-354 767,-354 767,-413 767,-413 767,-419 761,-425 755,-425\"/>\r\n",
       "<text text-anchor=\"start\" x=\"613\" y=\"-409.8\" font-family=\"Helvetica,sans-Serif\" font-size=\"14.00\">petal width (cm) ≤ 1.75</text>\r\n",
       "<text text-anchor=\"start\" x=\"642.5\" y=\"-394.8\" font-family=\"Helvetica,sans-Serif\" font-size=\"14.00\">entropy = 1.0</text>\r\n",
       "<text text-anchor=\"start\" x=\"641\" y=\"-379.8\" font-family=\"Helvetica,sans-Serif\" font-size=\"14.00\">samples = 74</text>\r\n",
       "<text text-anchor=\"start\" x=\"610\" y=\"-364.8\" font-family=\"Helvetica,sans-Serif\" font-size=\"14.00\">value = [0.0, 35.0, 35.0]</text>\r\n",
       "<text text-anchor=\"start\" x=\"629\" y=\"-349.8\" font-family=\"Helvetica,sans-Serif\" font-size=\"14.00\">class = versicolor</text>\r\n",
       "</g>\r\n",
       "<!-- 0&#45;&gt;2 -->\r\n",
       "<g id=\"edge2\" class=\"edge\"><title>0&#45;&gt;2</title>\r\n",
       "<path fill=\"none\" stroke=\"black\" d=\"M625.725,-460.907C632.636,-451.923 640.027,-442.315 647.154,-433.05\"/>\r\n",
       "<polygon fill=\"black\" stroke=\"black\" points=\"650.007,-435.081 653.33,-425.021 644.459,-430.813 650.007,-435.081\"/>\r\n",
       "<text text-anchor=\"middle\" x=\"656.564\" y=\"-446.111\" font-family=\"Helvetica,sans-Serif\" font-size=\"14.00\">False</text>\r\n",
       "</g>\r\n",
       "<!-- 3 -->\r\n",
       "<g id=\"node4\" class=\"node\"><title>3</title>\r\n",
       "<path fill=\"#39e581\" fill-opacity=\"0.898039\" stroke=\"black\" d=\"M629.5,-306C629.5,-306 463.5,-306 463.5,-306 457.5,-306 451.5,-300 451.5,-294 451.5,-294 451.5,-235 451.5,-235 451.5,-229 457.5,-223 463.5,-223 463.5,-223 629.5,-223 629.5,-223 635.5,-223 641.5,-229 641.5,-235 641.5,-235 641.5,-294 641.5,-294 641.5,-300 635.5,-306 629.5,-306\"/>\r\n",
       "<text text-anchor=\"start\" x=\"472\" y=\"-290.8\" font-family=\"Helvetica,sans-Serif\" font-size=\"14.00\">petal length (cm) ≤ 4.95</text>\r\n",
       "<text text-anchor=\"start\" x=\"496.5\" y=\"-275.8\" font-family=\"Helvetica,sans-Serif\" font-size=\"14.00\">entropy = 0.441</text>\r\n",
       "<text text-anchor=\"start\" x=\"503\" y=\"-260.8\" font-family=\"Helvetica,sans-Serif\" font-size=\"14.00\">samples = 36</text>\r\n",
       "<text text-anchor=\"start\" x=\"459.5\" y=\"-245.8\" font-family=\"Helvetica,sans-Serif\" font-size=\"14.00\">value = [0.0, 33.939, 3.415]</text>\r\n",
       "<text text-anchor=\"start\" x=\"491\" y=\"-230.8\" font-family=\"Helvetica,sans-Serif\" font-size=\"14.00\">class = versicolor</text>\r\n",
       "</g>\r\n",
       "<!-- 2&#45;&gt;3 -->\r\n",
       "<g id=\"edge3\" class=\"edge\"><title>2&#45;&gt;3</title>\r\n",
       "<path fill=\"none\" stroke=\"black\" d=\"M636.622,-341.907C625.489,-332.469 613.546,-322.343 602.112,-312.649\"/>\r\n",
       "<polygon fill=\"black\" stroke=\"black\" points=\"604.185,-309.818 594.294,-306.021 599.658,-315.157 604.185,-309.818\"/>\r\n",
       "</g>\r\n",
       "<!-- 10 -->\r\n",
       "<g id=\"node11\" class=\"node\"><title>10</title>\r\n",
       "<path fill=\"#8139e5\" fill-opacity=\"0.964706\" stroke=\"black\" d=\"M905.5,-306C905.5,-306 739.5,-306 739.5,-306 733.5,-306 727.5,-300 727.5,-294 727.5,-294 727.5,-235 727.5,-235 727.5,-229 733.5,-223 739.5,-223 739.5,-223 905.5,-223 905.5,-223 911.5,-223 917.5,-229 917.5,-235 917.5,-235 917.5,-294 917.5,-294 917.5,-300 911.5,-306 905.5,-306\"/>\r\n",
       "<text text-anchor=\"start\" x=\"748\" y=\"-290.8\" font-family=\"Helvetica,sans-Serif\" font-size=\"14.00\">petal length (cm) ≤ 4.85</text>\r\n",
       "<text text-anchor=\"start\" x=\"772.5\" y=\"-275.8\" font-family=\"Helvetica,sans-Serif\" font-size=\"14.00\">entropy = 0.207</text>\r\n",
       "<text text-anchor=\"start\" x=\"779\" y=\"-260.8\" font-family=\"Helvetica,sans-Serif\" font-size=\"14.00\">samples = 38</text>\r\n",
       "<text text-anchor=\"start\" x=\"735.5\" y=\"-245.8\" font-family=\"Helvetica,sans-Serif\" font-size=\"14.00\">value = [0.0, 1.061, 31.585]</text>\r\n",
       "<text text-anchor=\"start\" x=\"772.5\" y=\"-230.8\" font-family=\"Helvetica,sans-Serif\" font-size=\"14.00\">class = virginica</text>\r\n",
       "</g>\r\n",
       "<!-- 2&#45;&gt;10 -->\r\n",
       "<g id=\"edge10\" class=\"edge\"><title>2&#45;&gt;10</title>\r\n",
       "<path fill=\"none\" stroke=\"black\" d=\"M732.378,-341.907C743.511,-332.469 755.454,-322.343 766.888,-312.649\"/>\r\n",
       "<polygon fill=\"black\" stroke=\"black\" points=\"769.342,-315.157 774.706,-306.021 764.815,-309.818 769.342,-315.157\"/>\r\n",
       "</g>\r\n",
       "<!-- 4 -->\r\n",
       "<g id=\"node5\" class=\"node\"><title>4</title>\r\n",
       "<path fill=\"#39e581\" fill-opacity=\"0.972549\" stroke=\"black\" d=\"M356.5,-187C356.5,-187 190.5,-187 190.5,-187 184.5,-187 178.5,-181 178.5,-175 178.5,-175 178.5,-116 178.5,-116 178.5,-110 184.5,-104 190.5,-104 190.5,-104 356.5,-104 356.5,-104 362.5,-104 368.5,-110 368.5,-116 368.5,-116 368.5,-175 368.5,-175 368.5,-181 362.5,-187 356.5,-187\"/>\r\n",
       "<text text-anchor=\"start\" x=\"202\" y=\"-171.8\" font-family=\"Helvetica,sans-Serif\" font-size=\"14.00\">petal width (cm) ≤ 1.65</text>\r\n",
       "<text text-anchor=\"start\" x=\"227.5\" y=\"-156.8\" font-family=\"Helvetica,sans-Serif\" font-size=\"14.00\">entropy = 0.17</text>\r\n",
       "<text text-anchor=\"start\" x=\"230\" y=\"-141.8\" font-family=\"Helvetica,sans-Serif\" font-size=\"14.00\">samples = 32</text>\r\n",
       "<text text-anchor=\"start\" x=\"186.5\" y=\"-126.8\" font-family=\"Helvetica,sans-Serif\" font-size=\"14.00\">value = [0.0, 32.879, 0.854]</text>\r\n",
       "<text text-anchor=\"start\" x=\"218\" y=\"-111.8\" font-family=\"Helvetica,sans-Serif\" font-size=\"14.00\">class = versicolor</text>\r\n",
       "</g>\r\n",
       "<!-- 3&#45;&gt;4 -->\r\n",
       "<g id=\"edge4\" class=\"edge\"><title>3&#45;&gt;4</title>\r\n",
       "<path fill=\"none\" stroke=\"black\" d=\"M451.784,-222.907C427.75,-212.607 401.804,-201.487 377.343,-191.004\"/>\r\n",
       "<polygon fill=\"black\" stroke=\"black\" points=\"378.619,-187.743 368.049,-187.021 375.861,-194.177 378.619,-187.743\"/>\r\n",
       "</g>\r\n",
       "<!-- 7 -->\r\n",
       "<g id=\"node8\" class=\"node\"><title>7</title>\r\n",
       "<path fill=\"#8139e5\" fill-opacity=\"0.584314\" stroke=\"black\" d=\"M625.5,-187C625.5,-187 467.5,-187 467.5,-187 461.5,-187 455.5,-181 455.5,-175 455.5,-175 455.5,-116 455.5,-116 455.5,-110 461.5,-104 467.5,-104 467.5,-104 625.5,-104 625.5,-104 631.5,-104 637.5,-110 637.5,-116 637.5,-116 637.5,-175 637.5,-175 637.5,-181 631.5,-187 625.5,-187\"/>\r\n",
       "<text text-anchor=\"start\" x=\"475\" y=\"-171.8\" font-family=\"Helvetica,sans-Serif\" font-size=\"14.00\">petal width (cm) ≤ 1.65</text>\r\n",
       "<text text-anchor=\"start\" x=\"496.5\" y=\"-156.8\" font-family=\"Helvetica,sans-Serif\" font-size=\"14.00\">entropy = 0.872</text>\r\n",
       "<text text-anchor=\"start\" x=\"507\" y=\"-141.8\" font-family=\"Helvetica,sans-Serif\" font-size=\"14.00\">samples = 4</text>\r\n",
       "<text text-anchor=\"start\" x=\"463.5\" y=\"-126.8\" font-family=\"Helvetica,sans-Serif\" font-size=\"14.00\">value = [0.0, 1.061, 2.561]</text>\r\n",
       "<text text-anchor=\"start\" x=\"496.5\" y=\"-111.8\" font-family=\"Helvetica,sans-Serif\" font-size=\"14.00\">class = virginica</text>\r\n",
       "</g>\r\n",
       "<!-- 3&#45;&gt;7 -->\r\n",
       "<g id=\"edge7\" class=\"edge\"><title>3&#45;&gt;7</title>\r\n",
       "<path fill=\"none\" stroke=\"black\" d=\"M546.5,-222.907C546.5,-214.649 546.5,-205.864 546.5,-197.302\"/>\r\n",
       "<polygon fill=\"black\" stroke=\"black\" points=\"550,-197.021 546.5,-187.021 543,-197.021 550,-197.021\"/>\r\n",
       "</g>\r\n",
       "<!-- 5 -->\r\n",
       "<g id=\"node6\" class=\"node\"><title>5</title>\r\n",
       "<path fill=\"#39e581\" stroke=\"black\" d=\"M161,-68C161,-68 12,-68 12,-68 6,-68 0,-62 0,-56 0,-56 0,-12 0,-12 0,-6 6,-0 12,-0 12,-0 161,-0 161,-0 167,-0 173,-6 173,-12 173,-12 173,-56 173,-56 173,-62 167,-68 161,-68\"/>\r\n",
       "<text text-anchor=\"start\" x=\"44.5\" y=\"-52.8\" font-family=\"Helvetica,sans-Serif\" font-size=\"14.00\">entropy = 0.0</text>\r\n",
       "<text text-anchor=\"start\" x=\"43\" y=\"-37.8\" font-family=\"Helvetica,sans-Serif\" font-size=\"14.00\">samples = 31</text>\r\n",
       "<text text-anchor=\"start\" x=\"8\" y=\"-22.8\" font-family=\"Helvetica,sans-Serif\" font-size=\"14.00\">value = [0.0, 32.879, 0.0]</text>\r\n",
       "<text text-anchor=\"start\" x=\"31\" y=\"-7.8\" font-family=\"Helvetica,sans-Serif\" font-size=\"14.00\">class = versicolor</text>\r\n",
       "</g>\r\n",
       "<!-- 4&#45;&gt;5 -->\r\n",
       "<g id=\"edge5\" class=\"edge\"><title>4&#45;&gt;5</title>\r\n",
       "<path fill=\"none\" stroke=\"black\" d=\"M204.134,-103.882C186.962,-93.8269 168.625,-83.0892 151.662,-73.1563\"/>\r\n",
       "<polygon fill=\"black\" stroke=\"black\" points=\"153.328,-70.0761 142.93,-68.0433 149.791,-76.1167 153.328,-70.0761\"/>\r\n",
       "</g>\r\n",
       "<!-- 6 -->\r\n",
       "<g id=\"node7\" class=\"node\"><title>6</title>\r\n",
       "<path fill=\"#8139e5\" stroke=\"black\" d=\"M344,-68C344,-68 203,-68 203,-68 197,-68 191,-62 191,-56 191,-56 191,-12 191,-12 191,-6 197,-0 203,-0 203,-0 344,-0 344,-0 350,-0 356,-6 356,-12 356,-12 356,-56 356,-56 356,-62 350,-68 344,-68\"/>\r\n",
       "<text text-anchor=\"start\" x=\"229.5\" y=\"-52.8\" font-family=\"Helvetica,sans-Serif\" font-size=\"14.00\">entropy = &#45;0.0</text>\r\n",
       "<text text-anchor=\"start\" x=\"234\" y=\"-37.8\" font-family=\"Helvetica,sans-Serif\" font-size=\"14.00\">samples = 1</text>\r\n",
       "<text text-anchor=\"start\" x=\"199\" y=\"-22.8\" font-family=\"Helvetica,sans-Serif\" font-size=\"14.00\">value = [0.0, 0.0, 0.854]</text>\r\n",
       "<text text-anchor=\"start\" x=\"223.5\" y=\"-7.8\" font-family=\"Helvetica,sans-Serif\" font-size=\"14.00\">class = virginica</text>\r\n",
       "</g>\r\n",
       "<!-- 4&#45;&gt;6 -->\r\n",
       "<g id=\"edge6\" class=\"edge\"><title>4&#45;&gt;6</title>\r\n",
       "<path fill=\"none\" stroke=\"black\" d=\"M273.5,-103.726C273.5,-95.5175 273.5,-86.8595 273.5,-78.56\"/>\r\n",
       "<polygon fill=\"black\" stroke=\"black\" points=\"277,-78.2996 273.5,-68.2996 270,-78.2996 277,-78.2996\"/>\r\n",
       "</g>\r\n",
       "<!-- 8 -->\r\n",
       "<g id=\"node9\" class=\"node\"><title>8</title>\r\n",
       "<path fill=\"#8139e5\" stroke=\"black\" d=\"M527,-68C527,-68 386,-68 386,-68 380,-68 374,-62 374,-56 374,-56 374,-12 374,-12 374,-6 380,-0 386,-0 386,-0 527,-0 527,-0 533,-0 539,-6 539,-12 539,-12 539,-56 539,-56 539,-62 533,-68 527,-68\"/>\r\n",
       "<text text-anchor=\"start\" x=\"414.5\" y=\"-52.8\" font-family=\"Helvetica,sans-Serif\" font-size=\"14.00\">entropy = 0.0</text>\r\n",
       "<text text-anchor=\"start\" x=\"417\" y=\"-37.8\" font-family=\"Helvetica,sans-Serif\" font-size=\"14.00\">samples = 3</text>\r\n",
       "<text text-anchor=\"start\" x=\"382\" y=\"-22.8\" font-family=\"Helvetica,sans-Serif\" font-size=\"14.00\">value = [0.0, 0.0, 2.561]</text>\r\n",
       "<text text-anchor=\"start\" x=\"406.5\" y=\"-7.8\" font-family=\"Helvetica,sans-Serif\" font-size=\"14.00\">class = virginica</text>\r\n",
       "</g>\r\n",
       "<!-- 7&#45;&gt;8 -->\r\n",
       "<g id=\"edge8\" class=\"edge\"><title>7&#45;&gt;8</title>\r\n",
       "<path fill=\"none\" stroke=\"black\" d=\"M512.987,-103.726C505.566,-94.6966 497.697,-85.1235 490.266,-76.0816\"/>\r\n",
       "<polygon fill=\"black\" stroke=\"black\" points=\"492.923,-73.8026 483.87,-68.2996 487.515,-78.2474 492.923,-73.8026\"/>\r\n",
       "</g>\r\n",
       "<!-- 9 -->\r\n",
       "<g id=\"node10\" class=\"node\"><title>9</title>\r\n",
       "<path fill=\"#39e581\" stroke=\"black\" d=\"M710,-68C710,-68 569,-68 569,-68 563,-68 557,-62 557,-56 557,-56 557,-12 557,-12 557,-6 563,-0 569,-0 569,-0 710,-0 710,-0 716,-0 722,-6 722,-12 722,-12 722,-56 722,-56 722,-62 716,-68 710,-68\"/>\r\n",
       "<text text-anchor=\"start\" x=\"597.5\" y=\"-52.8\" font-family=\"Helvetica,sans-Serif\" font-size=\"14.00\">entropy = 0.0</text>\r\n",
       "<text text-anchor=\"start\" x=\"600\" y=\"-37.8\" font-family=\"Helvetica,sans-Serif\" font-size=\"14.00\">samples = 1</text>\r\n",
       "<text text-anchor=\"start\" x=\"565\" y=\"-22.8\" font-family=\"Helvetica,sans-Serif\" font-size=\"14.00\">value = [0.0, 1.061, 0.0]</text>\r\n",
       "<text text-anchor=\"start\" x=\"584\" y=\"-7.8\" font-family=\"Helvetica,sans-Serif\" font-size=\"14.00\">class = versicolor</text>\r\n",
       "</g>\r\n",
       "<!-- 7&#45;&gt;9 -->\r\n",
       "<g id=\"edge9\" class=\"edge\"><title>7&#45;&gt;9</title>\r\n",
       "<path fill=\"none\" stroke=\"black\" d=\"M581.13,-103.726C588.799,-94.6966 596.929,-85.1235 604.609,-76.0816\"/>\r\n",
       "<polygon fill=\"black\" stroke=\"black\" points=\"607.412,-78.1873 611.218,-68.2996 602.077,-73.6559 607.412,-78.1873\"/>\r\n",
       "</g>\r\n",
       "<!-- 11 -->\r\n",
       "<g id=\"node12\" class=\"node\"><title>11</title>\r\n",
       "<path fill=\"#8139e5\" fill-opacity=\"0.380392\" stroke=\"black\" d=\"M901.5,-187C901.5,-187 743.5,-187 743.5,-187 737.5,-187 731.5,-181 731.5,-175 731.5,-175 731.5,-116 731.5,-116 731.5,-110 737.5,-104 743.5,-104 743.5,-104 901.5,-104 901.5,-104 907.5,-104 913.5,-110 913.5,-116 913.5,-116 913.5,-175 913.5,-175 913.5,-181 907.5,-187 901.5,-187\"/>\r\n",
       "<text text-anchor=\"start\" x=\"746\" y=\"-171.8\" font-family=\"Helvetica,sans-Serif\" font-size=\"14.00\">sepal length (cm) ≤ 5.95</text>\r\n",
       "<text text-anchor=\"start\" x=\"776.5\" y=\"-156.8\" font-family=\"Helvetica,sans-Serif\" font-size=\"14.00\">entropy = 0.96</text>\r\n",
       "<text text-anchor=\"start\" x=\"783\" y=\"-141.8\" font-family=\"Helvetica,sans-Serif\" font-size=\"14.00\">samples = 3</text>\r\n",
       "<text text-anchor=\"start\" x=\"739.5\" y=\"-126.8\" font-family=\"Helvetica,sans-Serif\" font-size=\"14.00\">value = [0.0, 1.061, 1.707]</text>\r\n",
       "<text text-anchor=\"start\" x=\"772.5\" y=\"-111.8\" font-family=\"Helvetica,sans-Serif\" font-size=\"14.00\">class = virginica</text>\r\n",
       "</g>\r\n",
       "<!-- 10&#45;&gt;11 -->\r\n",
       "<g id=\"edge11\" class=\"edge\"><title>10&#45;&gt;11</title>\r\n",
       "<path fill=\"none\" stroke=\"black\" d=\"M822.5,-222.907C822.5,-214.649 822.5,-205.864 822.5,-197.302\"/>\r\n",
       "<polygon fill=\"black\" stroke=\"black\" points=\"826,-197.021 822.5,-187.021 819,-197.021 826,-197.021\"/>\r\n",
       "</g>\r\n",
       "<!-- 14 -->\r\n",
       "<g id=\"node15\" class=\"node\"><title>14</title>\r\n",
       "<path fill=\"#8139e5\" stroke=\"black\" d=\"M1093,-179.5C1093,-179.5 944,-179.5 944,-179.5 938,-179.5 932,-173.5 932,-167.5 932,-167.5 932,-123.5 932,-123.5 932,-117.5 938,-111.5 944,-111.5 944,-111.5 1093,-111.5 1093,-111.5 1099,-111.5 1105,-117.5 1105,-123.5 1105,-123.5 1105,-167.5 1105,-167.5 1105,-173.5 1099,-179.5 1093,-179.5\"/>\r\n",
       "<text text-anchor=\"start\" x=\"976.5\" y=\"-164.3\" font-family=\"Helvetica,sans-Serif\" font-size=\"14.00\">entropy = 0.0</text>\r\n",
       "<text text-anchor=\"start\" x=\"975\" y=\"-149.3\" font-family=\"Helvetica,sans-Serif\" font-size=\"14.00\">samples = 35</text>\r\n",
       "<text text-anchor=\"start\" x=\"940\" y=\"-134.3\" font-family=\"Helvetica,sans-Serif\" font-size=\"14.00\">value = [0.0, 0.0, 29.878]</text>\r\n",
       "<text text-anchor=\"start\" x=\"968.5\" y=\"-119.3\" font-family=\"Helvetica,sans-Serif\" font-size=\"14.00\">class = virginica</text>\r\n",
       "</g>\r\n",
       "<!-- 10&#45;&gt;14 -->\r\n",
       "<g id=\"edge14\" class=\"edge\"><title>10&#45;&gt;14</title>\r\n",
       "<path fill=\"none\" stroke=\"black\" d=\"M890.501,-222.907C911.205,-210.549 933.885,-197.01 954.327,-184.807\"/>\r\n",
       "<polygon fill=\"black\" stroke=\"black\" points=\"956.146,-187.798 962.938,-179.667 952.558,-181.787 956.146,-187.798\"/>\r\n",
       "</g>\r\n",
       "<!-- 12 -->\r\n",
       "<g id=\"node13\" class=\"node\"><title>12</title>\r\n",
       "<path fill=\"#39e581\" stroke=\"black\" d=\"M893,-68C893,-68 752,-68 752,-68 746,-68 740,-62 740,-56 740,-56 740,-12 740,-12 740,-6 746,-0 752,-0 752,-0 893,-0 893,-0 899,-0 905,-6 905,-12 905,-12 905,-56 905,-56 905,-62 899,-68 893,-68\"/>\r\n",
       "<text text-anchor=\"start\" x=\"780.5\" y=\"-52.8\" font-family=\"Helvetica,sans-Serif\" font-size=\"14.00\">entropy = 0.0</text>\r\n",
       "<text text-anchor=\"start\" x=\"783\" y=\"-37.8\" font-family=\"Helvetica,sans-Serif\" font-size=\"14.00\">samples = 1</text>\r\n",
       "<text text-anchor=\"start\" x=\"748\" y=\"-22.8\" font-family=\"Helvetica,sans-Serif\" font-size=\"14.00\">value = [0.0, 1.061, 0.0]</text>\r\n",
       "<text text-anchor=\"start\" x=\"767\" y=\"-7.8\" font-family=\"Helvetica,sans-Serif\" font-size=\"14.00\">class = versicolor</text>\r\n",
       "</g>\r\n",
       "<!-- 11&#45;&gt;12 -->\r\n",
       "<g id=\"edge12\" class=\"edge\"><title>11&#45;&gt;12</title>\r\n",
       "<path fill=\"none\" stroke=\"black\" d=\"M822.5,-103.726C822.5,-95.5175 822.5,-86.8595 822.5,-78.56\"/>\r\n",
       "<polygon fill=\"black\" stroke=\"black\" points=\"826,-78.2996 822.5,-68.2996 819,-78.2996 826,-78.2996\"/>\r\n",
       "</g>\r\n",
       "<!-- 13 -->\r\n",
       "<g id=\"node14\" class=\"node\"><title>13</title>\r\n",
       "<path fill=\"#8139e5\" stroke=\"black\" d=\"M1076,-68C1076,-68 935,-68 935,-68 929,-68 923,-62 923,-56 923,-56 923,-12 923,-12 923,-6 929,-0 935,-0 935,-0 1076,-0 1076,-0 1082,-0 1088,-6 1088,-12 1088,-12 1088,-56 1088,-56 1088,-62 1082,-68 1076,-68\"/>\r\n",
       "<text text-anchor=\"start\" x=\"961.5\" y=\"-52.8\" font-family=\"Helvetica,sans-Serif\" font-size=\"14.00\">entropy = &#45;0.0</text>\r\n",
       "<text text-anchor=\"start\" x=\"966\" y=\"-37.8\" font-family=\"Helvetica,sans-Serif\" font-size=\"14.00\">samples = 2</text>\r\n",
       "<text text-anchor=\"start\" x=\"931\" y=\"-22.8\" font-family=\"Helvetica,sans-Serif\" font-size=\"14.00\">value = [0.0, 0.0, 1.707]</text>\r\n",
       "<text text-anchor=\"start\" x=\"955.5\" y=\"-7.8\" font-family=\"Helvetica,sans-Serif\" font-size=\"14.00\">class = virginica</text>\r\n",
       "</g>\r\n",
       "<!-- 11&#45;&gt;13 -->\r\n",
       "<g id=\"edge13\" class=\"edge\"><title>11&#45;&gt;13</title>\r\n",
       "<path fill=\"none\" stroke=\"black\" d=\"M890.382,-103.882C907.032,-93.9191 924.803,-83.2862 941.275,-73.4299\"/>\r\n",
       "<polygon fill=\"black\" stroke=\"black\" points=\"943.493,-76.1814 950.277,-68.0433 939.899,-70.1746 943.493,-76.1814\"/>\r\n",
       "</g>\r\n",
       "</g>\r\n",
       "</svg>\r\n"
      ],
      "text/plain": [
       "<graphviz.files.Source at 0x1bb4d1a85c0>"
      ]
     },
     "execution_count": 19,
     "metadata": {},
     "output_type": "execute_result"
    }
   ],
   "source": [
    "from sklearn.tree import export_graphviz\n",
    "import graphviz\n",
    "\n",
    "# Corramos de nuevo el clasificador de árbol de decisión\n",
    "from sklearn import tree\n",
    "\n",
    "# Se instancia el clasificador\n",
    "t = tree.DecisionTreeClassifier(max_depth = 4,\n",
    "                                    criterion = 'entropy', \n",
    "                                    class_weight = 'balanced',\n",
    "                                    random_state = 2)\n",
    "t.fit(X_train, y_train)\n",
    "\n",
    "# Se obtiene un score\n",
    "score = t.score(X_test, y_test) \n",
    "print(score)\n",
    "\n",
    "# Generamos la visualización, exportada a un archivo .dot\n",
    "export_graphviz(t, out_file=\"mytree.dot\",  \n",
    "                         feature_names=iris.feature_names,  \n",
    "                         class_names=iris.target_names,  \n",
    "                         filled=True, rounded=True,  \n",
    "                         special_characters=True)\n",
    "\n",
    "# Generamos la imagen a partir del archivo .dot\n",
    "with open(\"mytree.dot\") as f:\n",
    "    dot_graph = f.read()\n",
    "\n",
    "graphviz.Source(dot_graph, format = 'png')"
   ]
  },
  {
   "cell_type": "markdown",
   "metadata": {},
   "source": [
    "### De Árboles de Decisión a Bosques Aleatorios (Random Forest)\n",
    "\n",
    "Un Random Forest es simplemente una colección de árboles de decisión cuyos resultados son combinados para generar un resultado final. Su habilidad de evitar overfitting sin incrementar la cantidad de errores debido a sesgos es la razón por la cual se consideran modelos poderosos. "
   ]
  },
  {
   "cell_type": "code",
   "execution_count": 20,
   "metadata": {},
   "outputs": [],
   "source": [
    "from sklearn.datasets import load_iris\n",
    "import pandas as pd\n",
    "import numpy as np\n",
    "\n",
    "iris = load_iris()\n",
    "X, y = iris.data, iris.target\n",
    "X_train, X_test, y_train, y_test = train_test_split(X, y, test_size = 0.3)"
   ]
  },
  {
   "cell_type": "markdown",
   "metadata": {},
   "source": [
    "Podemos ver que para implementar un clasificador de tipo Random Forest, simplemente debe cambiarse el tipo de clasificador que se está instanciando, y algunos de sus atributos:"
   ]
  },
  {
   "cell_type": "code",
   "execution_count": 21,
   "metadata": {},
   "outputs": [
    {
     "data": {
      "text/plain": [
       "0.9555555555555556"
      ]
     },
     "execution_count": 21,
     "metadata": {},
     "output_type": "execute_result"
    }
   ],
   "source": [
    "from sklearn.ensemble import RandomForestClassifier\n",
    "\n",
    "forest = RandomForestClassifier(max_depth=4,\n",
    "                                criterion = 'entropy', \n",
    "                                n_estimators = 100, \n",
    "                                class_weight = 'balanced',\n",
    "                                n_jobs = -1,\n",
    "                               random_state = 2)\n",
    "\n",
    "forest.fit(X_train, y_train)\n",
    "\n",
    "y_preds = iris.target_names[forest.predict(X_test)]\n",
    "\n",
    "forest.score(X_test, y_test)"
   ]
  },
  {
   "cell_type": "code",
   "execution_count": 22,
   "metadata": {},
   "outputs": [
    {
     "data": {
      "text/plain": [
       "array([0.98039216, 0.94117647, 0.95833333])"
      ]
     },
     "execution_count": 22,
     "metadata": {},
     "output_type": "execute_result"
    }
   ],
   "source": [
    "# Aquí una forma ágil de usar validación cruzada (útil para evaluación rápida de modelos!)\n",
    "from sklearn import cross_validation\n",
    "\n",
    "# Reinicializams el clasificador\n",
    "forest = RandomForestClassifier(max_depth=4,\n",
    "                                criterion = 'entropy', \n",
    "                                n_estimators = 100, \n",
    "                                class_weight = 'balanced',\n",
    "                                n_jobs = -1,\n",
    "                               random_state = 2)\n",
    "\n",
    "score = cross_validation.cross_val_score(forest, X, y)\n",
    "score"
   ]
  },
  {
   "cell_type": "markdown",
   "metadata": {},
   "source": [
    "Pregunta:  Comparando con el método de árbol de decisión, qué nos dicen estos valores de precisión?  Se ven más razonables?"
   ]
  },
  {
   "cell_type": "markdown",
   "metadata": {},
   "source": [
    "## Regresión\n",
    "\n",
    "El problema de regresión es el mismo de clasificación, con la excepción que el valor que se desea estimar no es uno de una colección determinada como en el ejemplo anterior, si no un valor continuo. También para resolver este problema pueden emplearse los árboles de decisión:"
   ]
  },
  {
   "cell_type": "code",
   "execution_count": 68,
   "metadata": {},
   "outputs": [
    {
     "data": {
      "image/png": "[encoded data removed]",
      "text/plain": [
       "<Figure size 720x720 with 1 Axes>"
      ]
     },
     "metadata": {},
     "output_type": "display_data"
    }
   ],
   "source": [
    "import numpy as np\n",
    "from sklearn.tree import DecisionTreeRegressor\n",
    "import matplotlib.pyplot as plt\n",
    "\n",
    "# Creamos un dataset aleatorio:\n",
    "rng = np.random.RandomState(1)\n",
    "\n",
    "X = np.sort(5 * rng.rand(80, 1), axis=0)\n",
    "\n",
    "y = np.sin(X).ravel()\n",
    "\n",
    "# Vamos a modificar cada 5 valores para que no sea tan facil estimarlo. \n",
    "y[::5] += 3 * (0.5 - rng.rand(16)) #<-- Que pasa si comentamos esta linea?\n",
    "\n",
    "# Mostrar los datos\n",
    "plt.figure(figsize=(10, 10))\n",
    "plt.scatter(X, y, s=10, c=\"darkorange\", label=\"data\")\n",
    "plt.show()\n",
    "\n"
   ]
  },
  {
   "cell_type": "code",
   "execution_count": 69,
   "metadata": {},
   "outputs": [
    {
     "data": {
      "image/png": "[encoded data removed]",
      "text/plain": [
       "<Figure size 720x720 with 1 Axes>"
      ]
     },
     "metadata": {},
     "output_type": "display_data"
    }
   ],
   "source": [
    "# Creamos un modelos de regresión usando DecisionTreeClassifier:\n",
    "regr_1 = DecisionTreeRegressor(max_depth=2)\n",
    "regr_1.fit(X, y)\n",
    "\n",
    "# Predicción:\n",
    "X_test = np.arange(0.0, 5.0, 0.01)[:, np.newaxis]\n",
    "y_1 = regr_1.predict(X_test)\n",
    "\n",
    "# Plot the results\n",
    "plt.figure(figsize=(10, 10))\n",
    "plt.scatter(X, y, s=20, edgecolor=\"black\",\n",
    "            c=\"darkorange\", label=\"data\")\n",
    "plt.plot(X_test, y_1, color=\"cornflowerblue\",\n",
    "         label=\"max_depth=2\", linewidth=2)\n",
    "plt.xlabel(\"data\")\n",
    "plt.ylabel(\"target\")\n",
    "plt.title(\"Decision Tree Regression\")\n",
    "plt.legend()\n",
    "plt.show()"
   ]
  },
  {
   "cell_type": "code",
   "execution_count": 70,
   "metadata": {},
   "outputs": [
    {
     "data": {
      "image/png": "[encoded data removed]",
      "text/plain": [
       "<Figure size 720x720 with 1 Axes>"
      ]
     },
     "metadata": {},
     "output_type": "display_data"
    }
   ],
   "source": [
    "# Creamos dos modelos de regresión usando DecisionTreeClassifier:\n",
    "regr_2 = DecisionTreeRegressor(max_depth=5)\n",
    "regr_2.fit(X, y)\n",
    "\n",
    "# Predicción:\n",
    "X_test = np.arange(0.0, 5.0, 0.01)[:, np.newaxis]\n",
    "y_2 = regr_2.predict(X_test)\n",
    "\n",
    "# Plot the results\n",
    "plt.figure(figsize=(10, 10))\n",
    "plt.scatter(X, y, s=20, edgecolor=\"black\",\n",
    "            c=\"darkorange\", label=\"data\")\n",
    "plt.plot(X_test, y_2, color=\"yellowgreen\", label=\"max_depth=5\", linewidth=2)\n",
    "plt.xlabel(\"data\")\n",
    "plt.ylabel(\"target\")\n",
    "plt.title(\"Decision Tree Regression\")\n",
    "plt.legend()\n",
    "plt.show()"
   ]
  },
  {
   "cell_type": "markdown",
   "metadata": {},
   "source": [
    "Created by a Microsoft Employee.\n",
    "\t\n",
    "The MIT License (MIT)<br>\n",
    "Copyright (c) 2016 Micheleen Harris"
   ]
  }
 ],
 "metadata": {
  "kernelspec": {
   "display_name": "Python 3",
   "language": "python",
   "name": "python3"
  },
  "language_info": {
   "codemirror_mode": {
    "name": "ipython",
    "version": 3
   },
   "file_extension": ".py",
   "mimetype": "text/x-python",
   "name": "python",
   "nbconvert_exporter": "python",
   "pygments_lexer": "ipython3",
   "version": "3.6.5"
  }
 },
 "nbformat": 4,
 "nbformat_minor": 2
}
