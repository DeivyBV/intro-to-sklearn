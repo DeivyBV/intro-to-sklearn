{
 "cells": [
  {
   "cell_type": "markdown",
   "metadata": {},
   "source": [
    "## Algoritmos de Aprendizaje - Aprendizaje Supervisado\n",
    "\n",
    ">  Recordatorio:  Todos los modelos de aprendizaje supervisado en scikit-learn implementan un metodo llamado\n",
    "`fit(X, y)`, que sirve para entrenar(ajustar) el modelo y un método llamado `predict(X_t)`, que devuelve predicciones sobre los valores `X_t`de acuerdo al modelo ya ajustado. \n",
    "\n",
    "Dado que el dataset iris es pequeño, se cuenta con observaciones con relativamente pocos atributos... Con cuál algoritmo se podría empezar y por qué?"
   ]
  },
  {
   "cell_type": "markdown",
   "metadata": {},
   "source": [
    "> \"Often the hardest part of solving a machine learning problem can be finding the right estimator for the job.\"\n",
    "\n",
    "> \"Different estimators are better suited for different types of data and different problems.\"\n",
    "\n",
    "<a href = \"http://scikit-learn.org/stable/tutorial/machine_learning_map/index.html\" style = \"float: right\">-Choosing the Right Estimator from sklearn docs</a>\n",
    "\n",
    "<img src='imgs/ml_map.png' alt=\"Smiley face\" width=\"950\">\n"
   ]
  },
  {
   "cell_type": "code",
   "execution_count": 11,
   "metadata": {},
   "outputs": [],
   "source": [
    "#  Se importan funcionalidades para compatibilidad entre python 2/3 \n",
    "\n",
    "from __future__ import absolute_import, division, print_function, unicode_literals\n",
    "\n",
    "# Para python 2, comente la siguiente linea:\n",
    "from builtins import range"
   ]
  },
  {
   "cell_type": "markdown",
   "metadata": {},
   "source": [
    "### Separar en set de entrenamiento y prueba vs. validación cruzada ( cross-validation)\n",
    "\n",
    "Recordemos que para poder entrenar y luego evaluar el modelo que vamos a utilizar, se particiona el set de datos en 2:\n",
    "\n",
    "* **Conjunto de Entrenamiento**: Las observaciones que van a ser utilizadas para ajustar el modelo, junto con sus etiquetas correspondientes.\n",
    "* **Conjunto de Prueba**: Las observaciones que van a ser utilizadas para evaluar el modelo una vez ajustado.\n",
    "\n",
    "En ScikitLearn, se utiliza la siguiente terminología:\n",
    "\n",
    "* **X_train**: Matriz bidimensional que describe los atributos (variables independientes) de cada observación en el dataset, que pertenezcan al conjunto de entrenamiento.\n",
    "* **X_test**: Matriz bidimensional que describe los atributos (variables independientes) de cada observación en el dataset, que pertenezcan al conjunto de prueba.\n",
    "* **y_train**: Arreglo uni-dimensional que describe las etiquetas correspondientes a cada observación en X_train.\n",
    "* **y_test**: Arreglo uni-dimensional que describe las etiquetas correspondientes a cada observación en X_test.\n",
    "\n",
    "<img src='imgs/testtrain.png' alt=\"Smiley face\" width=\"950\">\n",
    "\n",
    "Existe otro enfoque que puede ser utilizado en ocasiones en las cuales se desea probar un modelo con una cantidad menor de observaciones, o quiere tenerse una visión más general del clasificador, usando varios grupos de entrenamiento y prueba, denominado validación cruzada. En sklearn, el método de validación cruzada por defecto es el de **KFold Cross Validation**:\n",
    "\n",
    "En este método, el dataset es dividido en un número determinado de Folds (pliegues), y posteriormente se itera el proceso de entrenamiento y evaluación, seleccionando cada fold en cada iteración para que sea el conjunto de prueba, y los demás el de entrenamiento.\n",
    "\n",
    "<img src='imgs/kfolds.png' alt=\"Smiley face\" width=\"950\">\n"
   ]
  },
  {
   "cell_type": "markdown",
   "metadata": {},
   "source": [
    "<p>Acá un ejemplo de cómo usar el método de `train_test_split` en scikit-learn ( [train_test_split](http://scikit-learn.org/stable/modules/generated/sklearn.cross_validation.train_test_split.html) ) para generar los subconjuntos de prueba y entrenamiento con los nombres vistos anteriormente:<p>\n",
    "```python\n",
    "# Creamos datos a 'mano', y colocamos el 70% para entrenamiento y el resto para prueba. \n",
    "import numpy as np\n",
    "from sklearn import linear_model\n",
    "from sklearn.model_selection import train_test_split\n",
    "    \n",
    "X, y = np.arange(10).reshape((5, 2)), range(5)\n",
    "X_train, X_test, y_train, y_test = train_test_split(X, y, train_size = 0.70)\n",
    "\n",
    "clf = linear_model.LinearRegression()\n",
    "clf.fit(X_train, y_train)\n",
    "```\n",
    "\n",
    "O usando 3-fold cross validation (el método cross_val_score usa 3 folds por defecto):\n",
    "\n",
    "```python\n",
    "import numpy as np\n",
    "from sklearn import cross_validation, linear_model\n",
    "\n",
    "X, y = np.arange(10).reshape((5, 2)), range(5)\n",
    "clf = linear_model.LinearRegression()\n",
    "\n",
    "score = cross_validation.cross_val_score(clf, X, y)\n",
    "```\n",
    "\n",
    "<p>Existe también el método `cross_val_predict` que genera estimadoes en vez de scores, y es muy útil para hacer validación cruzada y evaluar modelos ( [cross_val_predict](http://scikit-learn.org/stable/modules/generated/sklearn.cross_validation.cross_val_predict.html) )"
   ]
  },
  {
   "cell_type": "markdown",
   "metadata": {},
   "source": [
    "<b>Un estimador para reconocer un nuevo iris a partir de sus medidas (atributos)</b>\n",
    "\n",
    "> O en lenguaje de machine learning,  ajustamos  (<i>fit</i>) un estimador sobre la muestra, dado sus atributos, para predecir (<i>predict</i>) la clase a la cuál un nuevo iris pertenece.\n",
    "\n",
    "Empecemos! (Vamos a separar un pequeño % de la muestra y revisar las predicciones del modelo a construir contra estos datos separados)"
   ]
  },
  {
   "cell_type": "code",
   "execution_count": 6,
   "metadata": {},
   "outputs": [],
   "source": [
    "from sklearn.datasets import load_iris\n",
    "from sklearn.model_selection import train_test_split\n",
    "\n",
    "# Cargando el dataset Iris\n",
    "iris = load_iris()\n",
    "X, y = iris.data, iris.target\n",
    "\n",
    "# Se separan los datos en datos de entrenamiento y prueba usando la función rain_test_split \n",
    "\n",
    "X_train, X_test, y_train, y_test = train_test_split(X, y, test_size = 0.3)\n"
   ]
  },
  {
   "cell_type": "code",
   "execution_count": 7,
   "metadata": {},
   "outputs": [
    {
     "data": {
      "text/plain": [
       "0.8888888888888888"
      ]
     },
     "execution_count": 7,
     "metadata": {},
     "output_type": "execute_result"
    }
   ],
   "source": [
    "# Probemos con el método de clasificación conocido como árbol de decisión (decision tree)\n",
    "from sklearn import tree\n",
    "\n",
    "# Instanciación del modelo\n",
    "t = tree.DecisionTreeClassifier(max_depth = 4,\n",
    "                                    criterion = 'entropy', \n",
    "                                    class_weight = 'balanced',\n",
    "                                    random_state = 2)\n",
    "\n",
    "# Entrenamiento\n",
    "t.fit(X_train, y_train) \n",
    "\n",
    "# Prueba\n",
    "t.score(X_test, y_test) "
   ]
  },
  {
   "cell_type": "code",
   "execution_count": 8,
   "metadata": {},
   "outputs": [
    {
     "name": "stdout",
     "output_type": "stream",
     "text": [
      "[1 2 2 0 1 1 2 0 0 1 0 2 1 1 2 1 0 1 0 2 2 1 2 2 1 2 0 2 2 2 0 0 1 1 1 1 2\n",
      " 1 1 2 1 0 0 0 1]\n",
      "[1 1 2 0 1 1 1 0 0 1 0 2 1 1 2 1 0 1 0 2 1 1 2 2 1 2 0 2 2 2 0 0 1 1 2 1 1\n",
      " 1 1 2 1 0 0 0 1]\n",
      "Predición: 2, Etiqueta original: 2\n"
     ]
    }
   ],
   "source": [
    "# Cuáles son los valores ajustados(o predicciones) asociados a la partición seleccionada para prueba? \n",
    "y_pred = t.predict(X_test)\n",
    "print(y_pred)\n",
    "print(y_test)\n",
    "\n",
    "#Qué tal la predicción para la primera observación de la base de prueba?\n",
    "print(\"Predición: %d, Etiqueta original: %d\" % (y_pred[1], 2)) # <-- Llenar la casilla"
   ]
  },
  {
   "cell_type": "markdown",
   "metadata": {},
   "source": [
    "Nota: Más adelante se verá como evaluar los modelos. "
   ]
  },
  {
   "cell_type": "code",
   "execution_count": 9,
   "metadata": {},
   "outputs": [
    {
     "data": {
      "text/plain": [
       "array([0.98039216, 0.92156863, 1.        ])"
      ]
     },
     "execution_count": 9,
     "metadata": {},
     "output_type": "execute_result"
    }
   ],
   "source": [
    "# Aquí una forma ágil de usar validación cruzada (útil para evaluación rápida de modelos!)\n",
    "from sklearn import model_selection\n",
    "\n",
    "t = tree.DecisionTreeClassifier(max_depth = 4,\n",
    "                                    criterion = 'entropy', \n",
    "                                    class_weight = 'balanced',\n",
    "                                    random_state = 2)\n",
    "\n",
    "# particiona, ajusta y predice todo de una vez con un score, usando 3-fold cross validation\n",
    "score = model_selection.cross_val_score(t, X, y)\n",
    "score"
   ]
  },
  {
   "cell_type": "markdown",
   "metadata": {},
   "source": [
    "Preguntas:  Qué nos dicen estos scores?  Son muy altos o bajos?  Si es 1.0 qué significa?"
   ]
  },
  {
   "cell_type": "markdown",
   "metadata": {},
   "source": [
    "### Cómo luce el gráfico para este árbol de decisión?  Es decir, cuáles son las \"preguntas\" y \"decisiones\" para este árbol...\n",
    "* Nota:  Se necesita la aplicación Graphviz y el paquete de python `graphviz`.\n",
    "* Para instalar ambos en OS X:\n",
    "```\n",
    "sudo port install graphviz\n",
    "sudo pip install graphviz\n",
    "```\n",
    "* Puede también instalarse desde el gestor de módulos de Anaconda.\n",
    "* Para instalación general vea esta guía (http://graphviz.readthedocs.org/en/latest/manual.html)"
   ]
  },
  {
   "cell_type": "code",
   "execution_count": 11,
   "metadata": {
    "scrolled": true
   },
   "outputs": [
    {
     "name": "stdout",
     "output_type": "stream",
     "text": [
      "0.9333333333333333\n"
     ]
    },
    {
     "data": {
      "image/svg+xml": [
       "<?xml version=\"1.0\" encoding=\"UTF-8\" standalone=\"no\"?>\r\n",
       "<!DOCTYPE svg PUBLIC \"-//W3C//DTD SVG 1.1//EN\"\r\n",
       " \"http://www.w3.org/Graphics/SVG/1.1/DTD/svg11.dtd\">\r\n",
       "<!-- Generated by graphviz version 2.38.0 (20140413.2041)\r\n",
       " -->\r\n",
       "<!-- Title: Tree Pages: 1 -->\r\n",
       "<svg width=\"863pt\" height=\"552pt\"\r\n",
       " viewBox=\"0.00 0.00 862.50 552.00\" xmlns=\"http://www.w3.org/2000/svg\" xmlns:xlink=\"http://www.w3.org/1999/xlink\">\r\n",
       "<g id=\"graph0\" class=\"graph\" transform=\"scale(1 1) rotate(0) translate(4 548)\">\r\n",
       "<title>Tree</title>\r\n",
       "<polygon fill=\"white\" stroke=\"none\" points=\"-4,4 -4,-548 858.5,-548 858.5,4 -4,4\"/>\r\n",
       "<!-- 0 -->\r\n",
       "<g id=\"node1\" class=\"node\"><title>0</title>\r\n",
       "<path fill=\"none\" stroke=\"black\" d=\"M456.5,-544C456.5,-544 307.5,-544 307.5,-544 301.5,-544 295.5,-538 295.5,-532 295.5,-532 295.5,-473 295.5,-473 295.5,-467 301.5,-461 307.5,-461 307.5,-461 456.5,-461 456.5,-461 462.5,-461 468.5,-467 468.5,-473 468.5,-473 468.5,-532 468.5,-532 468.5,-538 462.5,-544 456.5,-544\"/>\r\n",
       "<text text-anchor=\"start\" x=\"314.5\" y=\"-528.8\" font-family=\"Helvetica,sans-Serif\" font-size=\"14.00\">petal width (cm) ≤ 0.8</text>\r\n",
       "<text text-anchor=\"start\" x=\"332\" y=\"-513.8\" font-family=\"Helvetica,sans-Serif\" font-size=\"14.00\">entropy = 1.585</text>\r\n",
       "<text text-anchor=\"start\" x=\"334.5\" y=\"-498.8\" font-family=\"Helvetica,sans-Serif\" font-size=\"14.00\">samples = 105</text>\r\n",
       "<text text-anchor=\"start\" x=\"303.5\" y=\"-483.8\" font-family=\"Helvetica,sans-Serif\" font-size=\"14.00\">value = [35.0, 35.0, 35.0]</text>\r\n",
       "<text text-anchor=\"start\" x=\"326.5\" y=\"-468.8\" font-family=\"Helvetica,sans-Serif\" font-size=\"14.00\">class = versicolor</text>\r\n",
       "</g>\r\n",
       "<!-- 1 -->\r\n",
       "<g id=\"node2\" class=\"node\"><title>1</title>\r\n",
       "<path fill=\"#e58139\" stroke=\"black\" d=\"M359.5,-417.5C359.5,-417.5 226.5,-417.5 226.5,-417.5 220.5,-417.5 214.5,-411.5 214.5,-405.5 214.5,-405.5 214.5,-361.5 214.5,-361.5 214.5,-355.5 220.5,-349.5 226.5,-349.5 226.5,-349.5 359.5,-349.5 359.5,-349.5 365.5,-349.5 371.5,-355.5 371.5,-361.5 371.5,-361.5 371.5,-405.5 371.5,-405.5 371.5,-411.5 365.5,-417.5 359.5,-417.5\"/>\r\n",
       "<text text-anchor=\"start\" x=\"251\" y=\"-402.3\" font-family=\"Helvetica,sans-Serif\" font-size=\"14.00\">entropy = 0.0</text>\r\n",
       "<text text-anchor=\"start\" x=\"249.5\" y=\"-387.3\" font-family=\"Helvetica,sans-Serif\" font-size=\"14.00\">samples = 38</text>\r\n",
       "<text text-anchor=\"start\" x=\"222.5\" y=\"-372.3\" font-family=\"Helvetica,sans-Serif\" font-size=\"14.00\">value = [35.0, 0.0, 0.0]</text>\r\n",
       "<text text-anchor=\"start\" x=\"247\" y=\"-357.3\" font-family=\"Helvetica,sans-Serif\" font-size=\"14.00\">class = setosa</text>\r\n",
       "</g>\r\n",
       "<!-- 0&#45;&gt;1 -->\r\n",
       "<g id=\"edge1\" class=\"edge\"><title>0&#45;&gt;1</title>\r\n",
       "<path fill=\"none\" stroke=\"black\" d=\"M351.122,-460.907C342.476,-449.542 333.072,-437.178 324.396,-425.774\"/>\r\n",
       "<polygon fill=\"black\" stroke=\"black\" points=\"327.07,-423.507 318.23,-417.667 321.498,-427.745 327.07,-423.507\"/>\r\n",
       "<text text-anchor=\"middle\" x=\"314.862\" y=\"-438.739\" font-family=\"Helvetica,sans-Serif\" font-size=\"14.00\">True</text>\r\n",
       "</g>\r\n",
       "<!-- 2 -->\r\n",
       "<g id=\"node3\" class=\"node\"><title>2</title>\r\n",
       "<path fill=\"none\" stroke=\"black\" d=\"M542.5,-425C542.5,-425 401.5,-425 401.5,-425 395.5,-425 389.5,-419 389.5,-413 389.5,-413 389.5,-354 389.5,-354 389.5,-348 395.5,-342 401.5,-342 401.5,-342 542.5,-342 542.5,-342 548.5,-342 554.5,-348 554.5,-354 554.5,-354 554.5,-413 554.5,-413 554.5,-419 548.5,-425 542.5,-425\"/>\r\n",
       "<text text-anchor=\"start\" x=\"400.5\" y=\"-409.8\" font-family=\"Helvetica,sans-Serif\" font-size=\"14.00\">petal width (cm) ≤ 1.75</text>\r\n",
       "<text text-anchor=\"start\" x=\"430\" y=\"-394.8\" font-family=\"Helvetica,sans-Serif\" font-size=\"14.00\">entropy = 1.0</text>\r\n",
       "<text text-anchor=\"start\" x=\"428.5\" y=\"-379.8\" font-family=\"Helvetica,sans-Serif\" font-size=\"14.00\">samples = 67</text>\r\n",
       "<text text-anchor=\"start\" x=\"397.5\" y=\"-364.8\" font-family=\"Helvetica,sans-Serif\" font-size=\"14.00\">value = [0.0, 35.0, 35.0]</text>\r\n",
       "<text text-anchor=\"start\" x=\"416.5\" y=\"-349.8\" font-family=\"Helvetica,sans-Serif\" font-size=\"14.00\">class = versicolor</text>\r\n",
       "</g>\r\n",
       "<!-- 0&#45;&gt;2 -->\r\n",
       "<g id=\"edge2\" class=\"edge\"><title>0&#45;&gt;2</title>\r\n",
       "<path fill=\"none\" stroke=\"black\" d=\"M413.225,-460.907C420.136,-451.923 427.527,-442.315 434.654,-433.05\"/>\r\n",
       "<polygon fill=\"black\" stroke=\"black\" points=\"437.507,-435.081 440.83,-425.021 431.959,-430.813 437.507,-435.081\"/>\r\n",
       "<text text-anchor=\"middle\" x=\"444.064\" y=\"-446.111\" font-family=\"Helvetica,sans-Serif\" font-size=\"14.00\">False</text>\r\n",
       "</g>\r\n",
       "<!-- 3 -->\r\n",
       "<g id=\"node4\" class=\"node\"><title>3</title>\r\n",
       "<path fill=\"#39e581\" fill-opacity=\"0.909804\" stroke=\"black\" d=\"M451,-306C451,-306 285,-306 285,-306 279,-306 273,-300 273,-294 273,-294 273,-235 273,-235 273,-229 279,-223 285,-223 285,-223 451,-223 451,-223 457,-223 463,-229 463,-235 463,-235 463,-294 463,-294 463,-300 457,-306 451,-306\"/>\r\n",
       "<text text-anchor=\"start\" x=\"293.5\" y=\"-290.8\" font-family=\"Helvetica,sans-Serif\" font-size=\"14.00\">petal length (cm) ≤ 5.05</text>\r\n",
       "<text text-anchor=\"start\" x=\"318\" y=\"-275.8\" font-family=\"Helvetica,sans-Serif\" font-size=\"14.00\">entropy = 0.414</text>\r\n",
       "<text text-anchor=\"start\" x=\"324.5\" y=\"-260.8\" font-family=\"Helvetica,sans-Serif\" font-size=\"14.00\">samples = 35</text>\r\n",
       "<text text-anchor=\"start\" x=\"281\" y=\"-245.8\" font-family=\"Helvetica,sans-Serif\" font-size=\"14.00\">value = [0.0, 33.939, 3.088]</text>\r\n",
       "<text text-anchor=\"start\" x=\"312.5\" y=\"-230.8\" font-family=\"Helvetica,sans-Serif\" font-size=\"14.00\">class = versicolor</text>\r\n",
       "</g>\r\n",
       "<!-- 2&#45;&gt;3 -->\r\n",
       "<g id=\"edge3\" class=\"edge\"><title>2&#45;&gt;3</title>\r\n",
       "<path fill=\"none\" stroke=\"black\" d=\"M435.918,-341.907C427.851,-332.832 419.219,-323.121 410.906,-313.769\"/>\r\n",
       "<polygon fill=\"black\" stroke=\"black\" points=\"413.278,-311.17 404.018,-306.021 408.046,-315.82 413.278,-311.17\"/>\r\n",
       "</g>\r\n",
       "<!-- 8 -->\r\n",
       "<g id=\"node9\" class=\"node\"><title>8</title>\r\n",
       "<path fill=\"#8139e5\" fill-opacity=\"0.968627\" stroke=\"black\" d=\"M659,-306C659,-306 493,-306 493,-306 487,-306 481,-300 481,-294 481,-294 481,-235 481,-235 481,-229 487,-223 493,-223 493,-223 659,-223 659,-223 665,-223 671,-229 671,-235 671,-235 671,-294 671,-294 671,-300 665,-306 659,-306\"/>\r\n",
       "<text text-anchor=\"start\" x=\"501.5\" y=\"-290.8\" font-family=\"Helvetica,sans-Serif\" font-size=\"14.00\">petal length (cm) ≤ 4.85</text>\r\n",
       "<text text-anchor=\"start\" x=\"526\" y=\"-275.8\" font-family=\"Helvetica,sans-Serif\" font-size=\"14.00\">entropy = 0.205</text>\r\n",
       "<text text-anchor=\"start\" x=\"532.5\" y=\"-260.8\" font-family=\"Helvetica,sans-Serif\" font-size=\"14.00\">samples = 32</text>\r\n",
       "<text text-anchor=\"start\" x=\"489\" y=\"-245.8\" font-family=\"Helvetica,sans-Serif\" font-size=\"14.00\">value = [0.0, 1.061, 31.912]</text>\r\n",
       "<text text-anchor=\"start\" x=\"526\" y=\"-230.8\" font-family=\"Helvetica,sans-Serif\" font-size=\"14.00\">class = virginica</text>\r\n",
       "</g>\r\n",
       "<!-- 2&#45;&gt;8 -->\r\n",
       "<g id=\"edge8\" class=\"edge\"><title>2&#45;&gt;8</title>\r\n",
       "<path fill=\"none\" stroke=\"black\" d=\"M508.082,-341.907C516.149,-332.832 524.781,-323.121 533.094,-313.769\"/>\r\n",
       "<polygon fill=\"black\" stroke=\"black\" points=\"535.954,-315.82 539.982,-306.021 530.722,-311.17 535.954,-315.82\"/>\r\n",
       "</g>\r\n",
       "<!-- 4 -->\r\n",
       "<g id=\"node5\" class=\"node\"><title>4</title>\r\n",
       "<path fill=\"#39e581\" fill-opacity=\"0.968627\" stroke=\"black\" d=\"M259,-187C259,-187 93,-187 93,-187 87,-187 81,-181 81,-175 81,-175 81,-116 81,-116 81,-110 87,-104 93,-104 93,-104 259,-104 259,-104 265,-104 271,-110 271,-116 271,-116 271,-175 271,-175 271,-181 265,-187 259,-187\"/>\r\n",
       "<text text-anchor=\"start\" x=\"99.5\" y=\"-171.8\" font-family=\"Helvetica,sans-Serif\" font-size=\"14.00\">sepal length (cm) ≤ 4.95</text>\r\n",
       "<text text-anchor=\"start\" x=\"126\" y=\"-156.8\" font-family=\"Helvetica,sans-Serif\" font-size=\"14.00\">entropy = 0.192</text>\r\n",
       "<text text-anchor=\"start\" x=\"132.5\" y=\"-141.8\" font-family=\"Helvetica,sans-Serif\" font-size=\"14.00\">samples = 33</text>\r\n",
       "<text text-anchor=\"start\" x=\"89\" y=\"-126.8\" font-family=\"Helvetica,sans-Serif\" font-size=\"14.00\">value = [0.0, 33.939, 1.029]</text>\r\n",
       "<text text-anchor=\"start\" x=\"120.5\" y=\"-111.8\" font-family=\"Helvetica,sans-Serif\" font-size=\"14.00\">class = versicolor</text>\r\n",
       "</g>\r\n",
       "<!-- 3&#45;&gt;4 -->\r\n",
       "<g id=\"edge4\" class=\"edge\"><title>3&#45;&gt;4</title>\r\n",
       "<path fill=\"none\" stroke=\"black\" d=\"M301.387,-222.907C285.154,-213.016 267.68,-202.368 251.084,-192.254\"/>\r\n",
       "<polygon fill=\"black\" stroke=\"black\" points=\"252.856,-189.236 242.496,-187.021 249.214,-195.213 252.856,-189.236\"/>\r\n",
       "</g>\r\n",
       "<!-- 7 -->\r\n",
       "<g id=\"node8\" class=\"node\"><title>7</title>\r\n",
       "<path fill=\"#8139e5\" stroke=\"black\" d=\"M442.5,-179.5C442.5,-179.5 301.5,-179.5 301.5,-179.5 295.5,-179.5 289.5,-173.5 289.5,-167.5 289.5,-167.5 289.5,-123.5 289.5,-123.5 289.5,-117.5 295.5,-111.5 301.5,-111.5 301.5,-111.5 442.5,-111.5 442.5,-111.5 448.5,-111.5 454.5,-117.5 454.5,-123.5 454.5,-123.5 454.5,-167.5 454.5,-167.5 454.5,-173.5 448.5,-179.5 442.5,-179.5\"/>\r\n",
       "<text text-anchor=\"start\" x=\"330\" y=\"-164.3\" font-family=\"Helvetica,sans-Serif\" font-size=\"14.00\">entropy = 0.0</text>\r\n",
       "<text text-anchor=\"start\" x=\"332.5\" y=\"-149.3\" font-family=\"Helvetica,sans-Serif\" font-size=\"14.00\">samples = 2</text>\r\n",
       "<text text-anchor=\"start\" x=\"297.5\" y=\"-134.3\" font-family=\"Helvetica,sans-Serif\" font-size=\"14.00\">value = [0.0, 0.0, 2.059]</text>\r\n",
       "<text text-anchor=\"start\" x=\"322\" y=\"-119.3\" font-family=\"Helvetica,sans-Serif\" font-size=\"14.00\">class = virginica</text>\r\n",
       "</g>\r\n",
       "<!-- 3&#45;&gt;7 -->\r\n",
       "<g id=\"edge7\" class=\"edge\"><title>3&#45;&gt;7</title>\r\n",
       "<path fill=\"none\" stroke=\"black\" d=\"M369.388,-222.907C369.754,-212.204 370.15,-200.615 370.52,-189.776\"/>\r\n",
       "<polygon fill=\"black\" stroke=\"black\" points=\"374.022,-189.781 370.866,-179.667 367.026,-189.541 374.022,-189.781\"/>\r\n",
       "</g>\r\n",
       "<!-- 5 -->\r\n",
       "<g id=\"node6\" class=\"node\"><title>5</title>\r\n",
       "<path fill=\"#39e581\" fill-opacity=\"0.031373\" stroke=\"black\" d=\"M170,-68C170,-68 12,-68 12,-68 6,-68 0,-62 0,-56 0,-56 0,-12 0,-12 0,-6 6,-0 12,-0 12,-0 170,-0 170,-0 176,-0 182,-6 182,-12 182,-12 182,-56 182,-56 182,-62 176,-68 170,-68\"/>\r\n",
       "<text text-anchor=\"start\" x=\"49\" y=\"-52.8\" font-family=\"Helvetica,sans-Serif\" font-size=\"14.00\">entropy = 1.0</text>\r\n",
       "<text text-anchor=\"start\" x=\"51.5\" y=\"-37.8\" font-family=\"Helvetica,sans-Serif\" font-size=\"14.00\">samples = 2</text>\r\n",
       "<text text-anchor=\"start\" x=\"8\" y=\"-22.8\" font-family=\"Helvetica,sans-Serif\" font-size=\"14.00\">value = [0.0, 1.061, 1.029]</text>\r\n",
       "<text text-anchor=\"start\" x=\"35.5\" y=\"-7.8\" font-family=\"Helvetica,sans-Serif\" font-size=\"14.00\">class = versicolor</text>\r\n",
       "</g>\r\n",
       "<!-- 4&#45;&gt;5 -->\r\n",
       "<g id=\"edge5\" class=\"edge\"><title>4&#45;&gt;5</title>\r\n",
       "<path fill=\"none\" stroke=\"black\" d=\"M144.349,-103.726C137.411,-94.7878 130.059,-85.3168 123.103,-76.3558\"/>\r\n",
       "<polygon fill=\"black\" stroke=\"black\" points=\"125.746,-74.0528 116.849,-68.2996 120.216,-78.3451 125.746,-74.0528\"/>\r\n",
       "</g>\r\n",
       "<!-- 6 -->\r\n",
       "<g id=\"node7\" class=\"node\"><title>6</title>\r\n",
       "<path fill=\"#39e581\" stroke=\"black\" d=\"M361.5,-68C361.5,-68 212.5,-68 212.5,-68 206.5,-68 200.5,-62 200.5,-56 200.5,-56 200.5,-12 200.5,-12 200.5,-6 206.5,-0 212.5,-0 212.5,-0 361.5,-0 361.5,-0 367.5,-0 373.5,-6 373.5,-12 373.5,-12 373.5,-56 373.5,-56 373.5,-62 367.5,-68 361.5,-68\"/>\r\n",
       "<text text-anchor=\"start\" x=\"245\" y=\"-52.8\" font-family=\"Helvetica,sans-Serif\" font-size=\"14.00\">entropy = 0.0</text>\r\n",
       "<text text-anchor=\"start\" x=\"243.5\" y=\"-37.8\" font-family=\"Helvetica,sans-Serif\" font-size=\"14.00\">samples = 31</text>\r\n",
       "<text text-anchor=\"start\" x=\"208.5\" y=\"-22.8\" font-family=\"Helvetica,sans-Serif\" font-size=\"14.00\">value = [0.0, 32.879, 0.0]</text>\r\n",
       "<text text-anchor=\"start\" x=\"231.5\" y=\"-7.8\" font-family=\"Helvetica,sans-Serif\" font-size=\"14.00\">class = versicolor</text>\r\n",
       "</g>\r\n",
       "<!-- 4&#45;&gt;6 -->\r\n",
       "<g id=\"edge6\" class=\"edge\"><title>4&#45;&gt;6</title>\r\n",
       "<path fill=\"none\" stroke=\"black\" d=\"M217.332,-103.726C226.671,-94.5142 236.582,-84.7364 245.91,-75.5343\"/>\r\n",
       "<polygon fill=\"black\" stroke=\"black\" points=\"248.583,-77.8141 253.244,-68.2996 243.667,-72.8308 248.583,-77.8141\"/>\r\n",
       "</g>\r\n",
       "<!-- 9 -->\r\n",
       "<g id=\"node10\" class=\"node\"><title>9</title>\r\n",
       "<path fill=\"#39e581\" fill-opacity=\"0.031373\" stroke=\"black\" d=\"M651,-187C651,-187 493,-187 493,-187 487,-187 481,-181 481,-175 481,-175 481,-116 481,-116 481,-110 487,-104 493,-104 493,-104 651,-104 651,-104 657,-104 663,-110 663,-116 663,-116 663,-175 663,-175 663,-181 657,-187 651,-187\"/>\r\n",
       "<text text-anchor=\"start\" x=\"495.5\" y=\"-171.8\" font-family=\"Helvetica,sans-Serif\" font-size=\"14.00\">sepal length (cm) ≤ 6.05</text>\r\n",
       "<text text-anchor=\"start\" x=\"530\" y=\"-156.8\" font-family=\"Helvetica,sans-Serif\" font-size=\"14.00\">entropy = 1.0</text>\r\n",
       "<text text-anchor=\"start\" x=\"532.5\" y=\"-141.8\" font-family=\"Helvetica,sans-Serif\" font-size=\"14.00\">samples = 2</text>\r\n",
       "<text text-anchor=\"start\" x=\"489\" y=\"-126.8\" font-family=\"Helvetica,sans-Serif\" font-size=\"14.00\">value = [0.0, 1.061, 1.029]</text>\r\n",
       "<text text-anchor=\"start\" x=\"516.5\" y=\"-111.8\" font-family=\"Helvetica,sans-Serif\" font-size=\"14.00\">class = versicolor</text>\r\n",
       "</g>\r\n",
       "<!-- 8&#45;&gt;9 -->\r\n",
       "<g id=\"edge9\" class=\"edge\"><title>8&#45;&gt;9</title>\r\n",
       "<path fill=\"none\" stroke=\"black\" d=\"M574.612,-222.907C574.327,-214.558 574.023,-205.671 573.727,-197.02\"/>\r\n",
       "<polygon fill=\"black\" stroke=\"black\" points=\"577.225,-196.895 573.385,-187.021 570.229,-197.135 577.225,-196.895\"/>\r\n",
       "</g>\r\n",
       "<!-- 12 -->\r\n",
       "<g id=\"node13\" class=\"node\"><title>12</title>\r\n",
       "<path fill=\"#8139e5\" stroke=\"black\" d=\"M842.5,-179.5C842.5,-179.5 693.5,-179.5 693.5,-179.5 687.5,-179.5 681.5,-173.5 681.5,-167.5 681.5,-167.5 681.5,-123.5 681.5,-123.5 681.5,-117.5 687.5,-111.5 693.5,-111.5 693.5,-111.5 842.5,-111.5 842.5,-111.5 848.5,-111.5 854.5,-117.5 854.5,-123.5 854.5,-123.5 854.5,-167.5 854.5,-167.5 854.5,-173.5 848.5,-179.5 842.5,-179.5\"/>\r\n",
       "<text text-anchor=\"start\" x=\"726\" y=\"-164.3\" font-family=\"Helvetica,sans-Serif\" font-size=\"14.00\">entropy = 0.0</text>\r\n",
       "<text text-anchor=\"start\" x=\"724.5\" y=\"-149.3\" font-family=\"Helvetica,sans-Serif\" font-size=\"14.00\">samples = 30</text>\r\n",
       "<text text-anchor=\"start\" x=\"689.5\" y=\"-134.3\" font-family=\"Helvetica,sans-Serif\" font-size=\"14.00\">value = [0.0, 0.0, 30.882]</text>\r\n",
       "<text text-anchor=\"start\" x=\"718\" y=\"-119.3\" font-family=\"Helvetica,sans-Serif\" font-size=\"14.00\">class = virginica</text>\r\n",
       "</g>\r\n",
       "<!-- 8&#45;&gt;12 -->\r\n",
       "<g id=\"edge12\" class=\"edge\"><title>8&#45;&gt;12</title>\r\n",
       "<path fill=\"none\" stroke=\"black\" d=\"M642.613,-222.907C662.804,-210.604 684.913,-197.131 704.868,-184.971\"/>\r\n",
       "<polygon fill=\"black\" stroke=\"black\" points=\"706.854,-187.859 713.572,-179.667 703.211,-181.882 706.854,-187.859\"/>\r\n",
       "</g>\r\n",
       "<!-- 10 -->\r\n",
       "<g id=\"node11\" class=\"node\"><title>10</title>\r\n",
       "<path fill=\"#39e581\" stroke=\"black\" d=\"M593.5,-68C593.5,-68 452.5,-68 452.5,-68 446.5,-68 440.5,-62 440.5,-56 440.5,-56 440.5,-12 440.5,-12 440.5,-6 446.5,-0 452.5,-0 452.5,-0 593.5,-0 593.5,-0 599.5,-0 605.5,-6 605.5,-12 605.5,-12 605.5,-56 605.5,-56 605.5,-62 599.5,-68 593.5,-68\"/>\r\n",
       "<text text-anchor=\"start\" x=\"481\" y=\"-52.8\" font-family=\"Helvetica,sans-Serif\" font-size=\"14.00\">entropy = 0.0</text>\r\n",
       "<text text-anchor=\"start\" x=\"483.5\" y=\"-37.8\" font-family=\"Helvetica,sans-Serif\" font-size=\"14.00\">samples = 1</text>\r\n",
       "<text text-anchor=\"start\" x=\"448.5\" y=\"-22.8\" font-family=\"Helvetica,sans-Serif\" font-size=\"14.00\">value = [0.0, 1.061, 0.0]</text>\r\n",
       "<text text-anchor=\"start\" x=\"467.5\" y=\"-7.8\" font-family=\"Helvetica,sans-Serif\" font-size=\"14.00\">class = versicolor</text>\r\n",
       "</g>\r\n",
       "<!-- 9&#45;&gt;10 -->\r\n",
       "<g id=\"edge10\" class=\"edge\"><title>9&#45;&gt;10</title>\r\n",
       "<path fill=\"none\" stroke=\"black\" d=\"M553.754,-103.726C549.918,-95.1527 545.862,-86.0891 541.998,-77.4555\"/>\r\n",
       "<polygon fill=\"black\" stroke=\"black\" points=\"545.181,-75.9978 537.901,-68.2996 538.791,-78.857 545.181,-75.9978\"/>\r\n",
       "</g>\r\n",
       "<!-- 11 -->\r\n",
       "<g id=\"node12\" class=\"node\"><title>11</title>\r\n",
       "<path fill=\"#8139e5\" stroke=\"black\" d=\"M776.5,-68C776.5,-68 635.5,-68 635.5,-68 629.5,-68 623.5,-62 623.5,-56 623.5,-56 623.5,-12 623.5,-12 623.5,-6 629.5,-0 635.5,-0 635.5,-0 776.5,-0 776.5,-0 782.5,-0 788.5,-6 788.5,-12 788.5,-12 788.5,-56 788.5,-56 788.5,-62 782.5,-68 776.5,-68\"/>\r\n",
       "<text text-anchor=\"start\" x=\"664\" y=\"-52.8\" font-family=\"Helvetica,sans-Serif\" font-size=\"14.00\">entropy = 0.0</text>\r\n",
       "<text text-anchor=\"start\" x=\"666.5\" y=\"-37.8\" font-family=\"Helvetica,sans-Serif\" font-size=\"14.00\">samples = 1</text>\r\n",
       "<text text-anchor=\"start\" x=\"631.5\" y=\"-22.8\" font-family=\"Helvetica,sans-Serif\" font-size=\"14.00\">value = [0.0, 0.0, 1.029]</text>\r\n",
       "<text text-anchor=\"start\" x=\"656\" y=\"-7.8\" font-family=\"Helvetica,sans-Serif\" font-size=\"14.00\">class = virginica</text>\r\n",
       "</g>\r\n",
       "<!-- 9&#45;&gt;11 -->\r\n",
       "<g id=\"edge11\" class=\"edge\"><title>9&#45;&gt;11</title>\r\n",
       "<path fill=\"none\" stroke=\"black\" d=\"M621.897,-103.726C633.505,-94.2406 645.847,-84.1551 657.398,-74.7159\"/>\r\n",
       "<polygon fill=\"black\" stroke=\"black\" points=\"659.721,-77.3375 665.25,-68.2996 655.292,-71.9171 659.721,-77.3375\"/>\r\n",
       "</g>\r\n",
       "</g>\r\n",
       "</svg>\r\n"
      ],
      "text/plain": [
       "<graphviz.files.Source at 0x220d1393780>"
      ]
     },
     "execution_count": 11,
     "metadata": {},
     "output_type": "execute_result"
    }
   ],
   "source": [
    "from sklearn.tree import export_graphviz\n",
    "import graphviz\n",
    "\n",
    "# Corramos de nuevo el clasificador de árbol de decisión\n",
    "from sklearn import tree\n",
    "\n",
    "# Se instancia el clasificador\n",
    "t = tree.DecisionTreeClassifier(max_depth = 4,\n",
    "                                    criterion = 'entropy', \n",
    "                                    class_weight = 'balanced',\n",
    "                                    random_state = 2)\n",
    "t.fit(X_train, y_train)\n",
    "\n",
    "# Se obtiene un score\n",
    "score = t.score(X_test, y_test) \n",
    "print(score)\n",
    "\n",
    "# Generamos la visualización, exportada a un archivo .dot\n",
    "export_graphviz(t, out_file=\"mytree.dot\",  \n",
    "                         feature_names=iris.feature_names,  \n",
    "                         class_names=iris.target_names,  \n",
    "                         filled=True, rounded=True,  \n",
    "                         special_characters=True)\n",
    "\n",
    "# Generamos la imagen a partir del archivo .dot\n",
    "with open(\"mytree.dot\") as f:\n",
    "    dot_graph = f.read()\n",
    "\n",
    "graphviz.Source(dot_graph, format = 'png')"
   ]
  },
  {
   "cell_type": "markdown",
   "metadata": {},
   "source": [
    "### De Árboles de Decisión a Bosques Aleatorios (Random Forest)\n",
    "\n",
    "Un Random Forest es simplemente una colección de árboles de decisión cuyos resultados son combinados para generar un resultado final. Su habilidad de evitar overfitting sin incrementar la cantidad de errores debido a sesgos es la razón por la cual se consideran modelos poderosos. "
   ]
  },
  {
   "cell_type": "code",
   "execution_count": 9,
   "metadata": {},
   "outputs": [],
   "source": [
    "from sklearn.datasets import load_iris\n",
    "import pandas as pd\n",
    "import numpy as np\n",
    "\n",
    "iris = load_iris()\n",
    "X, y = iris.data, iris.target\n",
    "X_train, X_test, y_train, y_test = train_test_split(X, y, test_size = 0.3)"
   ]
  },
  {
   "cell_type": "markdown",
   "metadata": {},
   "source": [
    "Podemos ver que para implementar un clasificador de tipo Random Forest, simplemente debe cambiarse el tipo de clasificador que se está instanciando, y algunos de sus atributos:"
   ]
  },
  {
   "cell_type": "code",
   "execution_count": 33,
   "metadata": {},
   "outputs": [
    {
     "data": {
      "text/plain": [
       "0.9555555555555556"
      ]
     },
     "execution_count": 33,
     "metadata": {},
     "output_type": "execute_result"
    }
   ],
   "source": [
    "from sklearn.ensemble import RandomForestClassifier\n",
    "\n",
    "forest = RandomForestClassifier(max_depth=4,\n",
    "                                criterion = 'entropy', \n",
    "                                n_estimators = 100, \n",
    "                                class_weight = 'balanced',\n",
    "                                n_jobs = -1,\n",
    "                               random_state = 2)\n",
    "\n",
    "forest.fit(X_train, y_train)\n",
    "\n",
    "y_preds = iris.target_names[forest.predict(X_test)]\n",
    "\n",
    "forest.score(X_test, y_test)"
   ]
  },
  {
   "cell_type": "code",
   "execution_count": 34,
   "metadata": {},
   "outputs": [
    {
     "data": {
      "text/plain": [
       "array([0.98039216, 0.94117647, 0.95833333])"
      ]
     },
     "execution_count": 34,
     "metadata": {},
     "output_type": "execute_result"
    }
   ],
   "source": [
    "# Aquí una forma ágil de usar validación cruzada (útil para evaluación rápida de modelos!)\n",
    "from sklearn import cross_validation\n",
    "\n",
    "# Reinicializams el clasificador\n",
    "forest = RandomForestClassifier(max_depth=4,\n",
    "                                criterion = 'entropy', \n",
    "                                n_estimators = 100, \n",
    "                                class_weight = 'balanced',\n",
    "                                n_jobs = -1,\n",
    "                               random_state = 2)\n",
    "\n",
    "score = cross_validation.cross_val_score(forest, X, y)\n",
    "score"
   ]
  },
  {
   "cell_type": "markdown",
   "metadata": {},
   "source": [
    "Pregunta:  Comparando con el método de árbol de decisión, qué nos dicen estos valores de precisión?  Se ven más razonables?"
   ]
  },
  {
   "cell_type": "markdown",
   "metadata": {},
   "source": [
    "Created by a Microsoft Employee.\n",
    "\t\n",
    "The MIT License (MIT)<br>\n",
    "Copyright (c) 2016 Micheleen Harris"
   ]
  }
 ],
 "metadata": {
  "kernelspec": {
   "display_name": "Python 3",
   "language": "python",
   "name": "python3"
  },
  "language_info": {
   "codemirror_mode": {
    "name": "ipython",
    "version": 3
   },
   "file_extension": ".py",
   "mimetype": "text/x-python",
   "name": "python",
   "nbconvert_exporter": "python",
   "pygments_lexer": "ipython3",
   "version": "3.6.5"
  }
 },
 "nbformat": 4,
 "nbformat_minor": 2
}
