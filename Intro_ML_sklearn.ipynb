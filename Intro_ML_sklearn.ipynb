{
 "cells": [
  {
   "cell_type": "markdown",
   "metadata": {},
   "source": [
    "# Machine Learning with `scikit-learn`"
   ]
  },
  {
   "cell_type": "markdown",
   "metadata": {},
   "source": [
    "## <img src='imgs/robotguy.png' alt=\"Smiley face\" width=\"42\" height=\"42\" align=\"left\">Learning Objectives\n",
    "* * *\n",
    "* Gain some high level knowledge around machine learning with a gentle/brief introduction\n",
    "* Learn the importance of pre-processing data and how `scikit-learn` expects data\n",
    "* See data transformations for machine learning in action\n",
    "* Get an idea of your options for learning on training sets and applying model for prediction\n",
    "* See what sort of metrics are commonly used in scikit-learn\n",
    "* Learn options for model evaluation\n",
    "* Become familiar with ways to make this process robust and simplified (pipelining and tuning parameters)"
   ]
  },
  {
   "cell_type": "markdown",
   "metadata": {},
   "source": [
    "## Comments 3/28\n",
    "\n",
    "SOME overarching points:\n",
    "* Big goal:  make it as easy and painless to learn tensorflow\n",
    "* Motivate, draw audience in with pictures and maybe jump into EDA or learners (then talk about ML/sklearn etc); motivate through inline exercises or engaging audience with \"what next?\" questions\n",
    "* Have ML tips and best practices\n",
    "* Have sklearn tips and best practices\n",
    "\n",
    "data preprocessing very big so should mention, but really focus on learners; motivation by seeing some results immediately (Giri)\n",
    "Speaking - up in the air right now (Kim wouldn't mind handing it off to Giri and/or Jen)\n",
    "Introduce the math (Jen)\n",
    "\n",
    "Load data -> excercise -> math behind it -> model eval (for example) (Giri)\n",
    "External speakers (bring up Weds @ planning meeting) - perhaps Giri could reach out and find someone interested in doing a ML intro (fairly brief, though) (Micheleen)"
   ]
  },
  {
   "cell_type": "markdown",
   "metadata": {},
   "source": [
    "## A very brief introduction to machine learning\n",
    "\n",
    "Here's my hand-drawn diagram of the machine learning process:\n",
    "<img src='imgs/ml_process.png' alt=\"Smiley face\" width=\"550\">\n",
    "\n",
    "As far as algorithms for learning a model, I like to think of a couple ways to categorize machine learning approaches (with the help of the [machine learning wikipedia article](https://en.wikipedia.org/wiki/Machine_learning)).  The first way of thinking about ML, is by the type of information given to a system.  So, given that criteria there are three classical categories:\n",
    "1.  Supervised learning - we get the data and the labels\n",
    "2.  Unsupervised learning - only get the data (no labels)\n",
    "3.  Reinforcement learning - reward/penalty based information (feedback)\n",
    "\n",
    "Another way of categorizing ML approaches, is to think of the desired output:\n",
    "1.  Classification\n",
    "2.  Regression\n",
    "3.  Clustering\n",
    "4.  Density estimation\n",
    "5.  Dimensionality reduction\n",
    "\n",
    "--> This second approach is how scikit-learn categorizes it's ML algorithms...and you'll see how it works in this module."
   ]
  },
  {
   "cell_type": "markdown",
   "metadata": {},
   "source": [
    "> PRO TIP: Are you a statitician?  Want to talk like a machine learning expert?  Here you go (from the friendly people at SAS ([here](http://www.sas.com/it_it/insights/analytics/machine-learning.html))): \n",
    "\n",
    "A Statistician Would Say  | A Machine Learnest Would Say\n",
    "------------- | -------------\n",
    "dependent variable  | target\n",
    "variable  | feature\n",
    "transformation  | feature creation\n"
   ]
  },
  {
   "cell_type": "markdown",
   "metadata": {},
   "source": [
    "## A very brief introduction to scikit-learn (aka `sklearn`)\n",
    "\n",
    "This module is not meant to be a comprehensive introduction to ML, but rather an introduction to the current de facto tool for ML in python.  As a gentle intro, it is helpful to think of the `sklearn` approach having layers of abstraction.  This famous quote certainly applies:\n",
    "\n",
    "> Easy reading is damn hard writing, and vice versa. <br>\n",
    "--Nathaniel Hawthorne\n",
    "\n",
    "In `sklearn`, you'll find you have a common programming choice: to do things very explicitly, e.g. pre-process data one step at a time, perhaps do a transformation like PCA, split data into traning and test sets, define a classifier or learner with desired parameterss, train the classifier, use the classifier to predict on a test set and then analyze how good it did.  \n",
    "\n",
    "A different approach and something `sklearn` offers is to combine some or all of the steps above into a pipeline so to speak.  For instance, one could define a pipeline which does all of these steps at one time and perhaps even pits mutlple learners against one another or does some parameter tuning with a grid search (examples will be shown towards the end).  This is what is meant here by layers of abstraction.\n",
    "\n",
    "So, in this particular module, for the most part, we will try to be explicit regarding our process and give some useful tips on options for a more automated or pipelined approach.  Just note, once you've mastered the explicit approaches you might want to explore `sklearn`'s `GridSearchCV` and `Pipeline` classes.\n",
    "\n",
    "Here is `sklearn`'s algorithm diagram - (note, this is not an exhaustive list of model options offered in `sklearn`, but serves as a good algorithm guide).\n",
    "![](imgs/ml_map.png)"
   ]
  },
  {
   "cell_type": "markdown",
   "metadata": {},
   "source": [
    "### Supervised learning blurb from `sklearn` documentation (direct quote from [here](http://scikit-learn.org/stable/tutorial/statistical_inference/supervised_learning.html))\n",
    "\n",
    "#### The problem solved in supervised learning\n",
    "\n",
    "Supervised learning consists in learning the link between two datasets: the observed data X and an external variable y that we are trying to predict, usually called “target” or “labels”. Most often, y is a 1D array of length n_samples.\n",
    "\n",
    "All supervised estimators in scikit-learn implement a `fit(X, y)` method to fit the model and a `predict(X)` method that, given unlabeled observations X, returns the predicted labels y."
   ]
  },
  {
   "cell_type": "markdown",
   "metadata": {},
   "source": [
    "### Unsupervised learning blurb from a different source (`sklearn`s was not general enough for this section)\n",
    "\n",
    "#### The problem solved in unsupervised learning\n",
    "In machine learning, the problem of unsupervised learning is that of trying to find <b>hidden structure</b> in unlabeled data. Since the training set given to the learner is unlabeled, there is no error or reward signal to evaluate a potential solution.  <br><br>--Unsupervised learning entry by the Quora community ([here](https://www.quora.com/topic/Unsupervised-Learning))"
   ]
  },
  {
   "cell_type": "markdown",
   "metadata": {},
   "source": [
    "### Some glossary terms (quoted directly from `sklearn` documentation) - you will find glossary terms dispersed throughout this module as well\n",
    "\n",
    "\n",
    "Training set and testing set<br>\n",
    "Machine learning is about learning some properties of a data set and applying them to new data. This is why a common practice in machine learning to evaluate an algorithm is to split the data at hand into two sets, one that we call the training set on which we learn data properties and one that we call the testing set on which we test these properties. (from [here](http://scikit-learn.org/stable/tutorial/basic/tutorial.html#introduction))\n",
    "\n",
    "Classification and regression (Supervised learning)<br>\n",
    "If the prediction task is to classify the observations in a set of finite labels, in other words to “name” the objects observed, the task is said to be a classification task. On the other hand, if the goal is to predict a continuous target variable, it is said to be a regression task.\n",
    "When doing classification in scikit-learn, y is a vector of integers or strings.\n",
    "Note: See the Introduction to machine learning with scikit-learn Tutorial for a quick run-through on the basic machine learning vocabulary used within scikit-learn. (from [here](http://scikit-learn.org/stable/tutorial/statistical_inference/supervised_learning.html))\n",
    "\n",
    "TODO: add more glossary terms (i.e. for unsupervised)\n",
    "\n"
   ]
  },
  {
   "cell_type": "markdown",
   "metadata": {},
   "source": [
    "## comments 3/28\n",
    "2 nbs: one w/ content+code, other one glossary (to switch back n forth) (Alain)"
   ]
  },
  {
   "cell_type": "markdown",
   "metadata": {
    "collapsed": true
   },
   "source": [
    "### Preprocessing the Input Data\n",
    "\n",
    "#### `sklearn` needs data and features (aka columns with optional labels) in numpy arrays (aka ndarrays)\n",
    "\n",
    "<b>Commonly, machine learning algorithms will require your data to be standardized and preprocessed.  In `sklearn` the data must also take on a certain structure as well.</b>\n",
    "\n",
    "<p>What you might have to do before using a learner in `sklearn`:</p>\n",
    "1. Non-numerics transformed to numeric (tip: use applymap() method from `pandas`)\n",
    "* Fill in missing values\n",
    "* Standardization\n",
    "* Normalization\n",
    "* Encoding categorical features (e.g. one-hot encoding or dummy variables)\n",
    "\n",
    "<b>Features should end up in a numpy.ndarray (hence numeric) and labels in a list.</b>\n",
    "\n",
    "Data options:\n",
    "* Use pre-processed [datasets](http://scikit-learn.org/stable/modules/classes.html#module-sklearn.datasets) from scikit-learn\n",
    "* [Create your own](http://scikit-learn.org/stable/datasets/index.html#sample-generators)\n",
    "* Read from a file\n",
    "\n",
    "If you use your own data or \"real-world\" data you will likely have to do some data wrangling and need to leverage `pandas` for some data manipulation."
   ]
  },
  {
   "cell_type": "markdown",
   "metadata": {},
   "source": [
    "## comments 3/28\n",
    "tips sections in pre-processing & quick refs (Giri, Micheleen)\n",
    "\n",
    "put glossary and extra content all at end (Micheleen)"
   ]
  },
  {
   "cell_type": "markdown",
   "metadata": {},
   "source": [
    "### Comments\n",
    "Add some talking points about cross validation, why you want to do it, etc. (kendall)\n",
    "Add some description on what diabetes data set is. Show a few rows of the data, and explain what the columns are. Helps to visualize the data. \n",
    "\n",
    "What is train_test_split? What do you mean by manual? (Kim) SKLearn provides abstractions using \n",
    "\n",
    "When splitting into train, test, validation, do you get the three sets? (Kim) Answer: No, it's handled by SKLearn. You have more customized control (Micheleen)\n",
    "\n",
    "What is the score? (Kim) Each is a test run. Values are 0 to 1. Higher is better. (Micheleen)\n",
    "\n",
    "Maybe need a higher general-level ML overview, flow chart of steps? Preprocessing, data splitting, cross validation, etc in a flowchart. AI: Search for a flowchart online (CK)"
   ]
  },
  {
   "cell_type": "markdown",
   "metadata": {},
   "source": [
    "## Let's Dive In!"
   ]
  },
  {
   "cell_type": "markdown",
   "metadata": {},
   "source": [
    "## Comments 3/28\n",
    "\n",
    "ask the question/frame the question/write a program to answer this; need the data (talk about dataset); need the algorithms (talk about kmeans for e.g.)...did we answer our question correctly? then, eval model...(Giri)\n",
    "\n",
    "Best ML practices/tips throughout (Micheleen)"
   ]
  },
  {
   "cell_type": "markdown",
   "metadata": {},
   "source": [
    "> <b>ML TIP:  Ask sharp questions.</b><br>e.g. What type of flower is this (pictured below) closest to of the three given classes?\n",
    "\n",
    "(This links out to source)\n",
    "<a href=\"http://www.madlantern.com/photography/wild-iris/\"><img border=\"0\" alt=\"iris species\" src=\"imgs/iris-setosa.jpg\" width=\"400\" height=\"400\"></a>\n",
    "\n",
    "### Labels (species names/classes):\n",
    "(This links out to source)\n",
    "<a href=\"http://articles.concreteinteractive.com/machine-learning-a-new-tool-for-humanity/\"><img border=\"0\" alt=\"iris species\" src=\"imgs/irises.png\" width=\"500\" height=\"500\"></a>"
   ]
  },
  {
   "cell_type": "markdown",
   "metadata": {},
   "source": [
    "### Get to know the data - visualize and explore\n",
    "* Features (columns/measurements) come from this diagram (links out to source on kaggle):\n",
    "<a href=\"http://blog.kaggle.com/2015/04/22/scikit-learn-video-3-machine-learning-first-steps-with-the-iris-dataset/\"><img border=\"0\" alt=\"iris data features\" src=\"imgs/iris_petal_sepal.png\" width=\"200\" height=\"200\"></a>\n",
    "* Shape\n",
    "* Peek at data\n",
    "* Summaries"
   ]
  },
  {
   "cell_type": "markdown",
   "metadata": {},
   "source": [
    "## Comments 3/28\n",
    "\n",
    "Time for presenting vs. time for exercises/practices (tradeoff) and how to mix; e.g. audience guesses what's next... (Alain)\n",
    "\n",
    "How would you like to learn? (Micheleen)"
   ]
  },
  {
   "cell_type": "markdown",
   "metadata": {},
   "source": [
    "<b>Shape and representation<b>"
   ]
  },
  {
   "cell_type": "code",
   "execution_count": null,
   "metadata": {
    "collapsed": true
   },
   "outputs": [],
   "source": [
    "import pandas as pd\n",
    "from sklearn import datasets\n",
    "\n",
    "iris = datasets.load_iris()\n",
    "\n",
    "# How many data points (rows) x how many features (columns)\n",
    "print(iris.data.shape)\n",
    "print(iris.target.shape)\n",
    "\n",
    "# What python object represents\n",
    "print(type(iris.data))\n",
    "print(type(iris.target))"
   ]
  },
  {
   "cell_type": "markdown",
   "metadata": {},
   "source": [
    "<b>Sneak a peek at data (a reminder of your `pandas` dataframe methods)<b>"
   ]
  },
  {
   "cell_type": "code",
   "execution_count": 123,
   "metadata": {
    "collapsed": false
   },
   "outputs": [
    {
     "data": {
      "text/plain": [
       "array(['setosa', 'versicolor', 'virginica'], \n",
       "      dtype='<U10')"
      ]
     },
     "execution_count": 123,
     "metadata": {},
     "output_type": "execute_result"
    }
   ],
   "source": [
    "# convert to pandas df (adding real column names)\n",
    "iris.df = pd.DataFrame(iris.data, \n",
    "                       columns = ['Sepal length', 'Sepal width', 'Petal length', 'Petal width'])\n",
    "\n",
    "\n",
    "# first few rows\n",
    "iris.df.head()"
   ]
  },
  {
   "cell_type": "markdown",
   "metadata": {},
   "source": [
    "<b>Describe the dataset with some summary statitsics<b>"
   ]
  },
  {
   "cell_type": "code",
   "execution_count": null,
   "metadata": {
    "collapsed": false
   },
   "outputs": [],
   "source": [
    "# summary stats\n",
    "iris.df.describe()"
   ]
  },
  {
   "cell_type": "markdown",
   "metadata": {},
   "source": [
    "### Get the data ready - clean up\n",
    "* We don't have to do much with the `iris` dataset.  It has no missing values.  It's already in numpy arrays and has the correct shape for `sklearn`.  However we could try <b>standardization</b> and/or <b>normalization</b>. (later, in the transforms section, we will show one hot encoding, a preprocessing step)"
   ]
  },
  {
   "cell_type": "markdown",
   "metadata": {},
   "source": [
    "#### Standardization - make our data look like a standard Gaussian distribution (commonly needed for `sklearn` learners)"
   ]
  },
  {
   "cell_type": "markdown",
   "metadata": {},
   "source": [
    "> FYI: you'll commonly see the data or feature set (ML word for data without it's labels) represented as a capital <b>X</b> and the targets or labels (if we have them) represented as a lowercase <b>y</b>.  This is because the data is a 2D array or list of lists and the targets are a 1D array or simple list."
   ]
  },
  {
   "cell_type": "code",
   "execution_count": null,
   "metadata": {
    "collapsed": false
   },
   "outputs": [],
   "source": [
    "# Standardization aka scaling\n",
    "from sklearn import preprocessing, datasets\n",
    "\n",
    "# make sure we have iris loaded\n",
    "iris = datasets.load_iris()\n",
    "\n",
    "X, y = iris.data, iris.target\n",
    "\n",
    "# scale it to a gaussian distribution\n",
    "X_scaled = preprocessing.scale(X)\n",
    "\n",
    "# how does it look now\n",
    "pd.DataFrame(X_scaled).head()"
   ]
  },
  {
   "cell_type": "code",
   "execution_count": null,
   "metadata": {
    "collapsed": false
   },
   "outputs": [],
   "source": [
    "# let's just confirm our standardization worked (mean is 0 w/ unit variance)\n",
    "pd.DataFrame(X_scaled).describe()\n",
    "\n",
    "# also could:\n",
    "#print(X_scaled.mean(axis = 0))\n",
    "#print(X_scaled.std(axis = 0))"
   ]
  },
  {
   "cell_type": "markdown",
   "metadata": {},
   "source": [
    "> PRO TIP: To save our standardization and reapply later (say to the test set or some new data), create a transformer object like so:\n",
    "```python\n",
    "scaler = preprocessing.StandardScaler().fit(X_train)\n",
    "# apply to a new dataset (e.g. test set):\n",
    "scaler.transform(X_test)\n",
    "```"
   ]
  },
  {
   "cell_type": "markdown",
   "metadata": {},
   "source": [
    "#### Normalization - scaling samples <i>individually</i> to have unit norm\n",
    "* This type of scaling is really important if doing some downstream transformations and learning (see sklearn docs [here](http://scikit-learn.org/stable/modules/preprocessing.html#normalization) for more) where similarity of pairs of samples is examined\n",
    "* A basic intro to normalization and the unit vector can be found [here](http://freetext.org/Introduction_to_Linear_Algebra/Basic_Vector_Operations/Normalization/)"
   ]
  },
  {
   "cell_type": "code",
   "execution_count": null,
   "metadata": {
    "collapsed": false
   },
   "outputs": [],
   "source": [
    "# Standardization aka scaling\n",
    "from sklearn import preprocessing, datasets\n",
    "\n",
    "# make sure we have iris loaded\n",
    "iris = datasets.load_iris()\n",
    "\n",
    "X, y = iris.data, iris.target\n",
    "\n",
    "# scale it to a gaussian distribution\n",
    "X_norm = preprocessing.normalize(X, norm='l1')\n",
    "\n",
    "# how does it look now\n",
    "pd.DataFrame(X_norm).tail()"
   ]
  },
  {
   "cell_type": "code",
   "execution_count": null,
   "metadata": {
    "collapsed": false
   },
   "outputs": [],
   "source": [
    "# let's just confirm our standardization worked (mean is 0 w/ unit variance)\n",
    "pd.DataFrame(X_norm).describe()\n",
    "\n",
    "# cumulative sum of normalized and original data:\n",
    "#print(pd.DataFrame(X_norm.cumsum().reshape(X.shape)).tail())\n",
    "#print(pd.DataFrame(X).cumsum().tail())\n",
    "\n",
    "# unit norm (convert to unit vectors) - all row sums should be 1 now\n",
    "X_norm.sum(axis = 1)"
   ]
  },
  {
   "cell_type": "markdown",
   "metadata": {},
   "source": [
    "> PRO TIP: To save our normalization (like standardization above) and reapply later (say to the test set or some new data), create a transformer object like so:\n",
    "```python\n",
    "normalizer = preprocessing.Normalizer().fit(X_train)\n",
    "# apply to a new dataset (e.g. test set):\n",
    "normalizer.transform(X_test) \n",
    "```"
   ]
  },
  {
   "cell_type": "markdown",
   "metadata": {},
   "source": [
    "### Make the learning easier or better  beforehand -  feature creation/selection\n",
    "* PCA\n",
    "* SelectKBest\n",
    "* One-Hot Encoder"
   ]
  },
  {
   "cell_type": "markdown",
   "metadata": {},
   "source": [
    "#### Principal component analysis (aka PCA) reduces the dimensions of a dataset down to get the most out of the information without a really big feature space\n",
    "* Useful for very large feature space (e.g. say the botanist in charge of the iris dataset measured 100 more parts of the flower and thus there were 104 columns instead of 4)\n",
    "* More about PCA on wikipedia [here](https://en.wikipedia.org/wiki/Principal_component_analysis)"
   ]
  },
  {
   "cell_type": "code",
   "execution_count": 124,
   "metadata": {
    "collapsed": false
   },
   "outputs": [
    {
     "data": {
      "text/plain": [
       "<matplotlib.legend.Legend at 0xcb3cd50>"
      ]
     },
     "execution_count": 124,
     "metadata": {},
     "output_type": "execute_result"
    },
    {
     "data": {
      "image/png": "[encoded data removed]",
      "text/plain": [
       "<matplotlib.figure.Figure at 0xccf0c70>"
      ]
     },
     "metadata": {},
     "output_type": "display_data"
    }
   ],
   "source": [
    "# PCA for dimensionality reduction\n",
    "\n",
    "from sklearn import decomposition\n",
    "from sklearn import datasets\n",
    "\n",
    "iris = datasets.load_iris()\n",
    "\n",
    "X, y = iris.data, iris.target\n",
    "\n",
    "# perform principal component analysis\n",
    "pca = decomposition.PCA(n_components = 3)\n",
    "pca.fit(X)\n",
    "X_t = pca.transform(X)\n",
    "(X_t[:, 0])\n",
    "\n",
    "# import numpy and matplotlib for plotting (and set some stuff)\n",
    "import numpy as np\n",
    "np.set_printoptions(suppress=True)\n",
    "import matplotlib.pyplot as plt\n",
    "%matplotlib inline\n",
    "\n",
    "# let's separate out data based on first two principle components\n",
    "x1, x2 = X_t[:, 0], X_t[:, 1]\n",
    "\n",
    "\n",
    "# please don't worry about details of the plotting below \n",
    "#  (will introduce in different module)\n",
    "#  (note: you can get the iris names below from iris.target_names, also in docs)\n",
    "\n",
    "s1 = ['r' if v == 0 else 'b' if v == 1 else 'g' for v in y]\n",
    "s2 = ['Setosa' if v == 0 else 'Versicolor' if v == 1 else 'Virginica' for v in y]\n",
    "classes = s2\n",
    "colors = s1\n",
    "for (i, cla) in enumerate(set(classes)):\n",
    "    xc = [p for (j, p) in enumerate(x1) if classes[j] == cla]\n",
    "    yc = [p for (j, p) in enumerate(x2) if classes[j] == cla]\n",
    "    cols = [c for (j, c) in enumerate(colors) if classes[j] == cla]\n",
    "    plt.scatter(xc, yc, c = cols, label = cla)\n",
    "plt.legend(loc = 4)"
   ]
  },
  {
   "cell_type": "markdown",
   "metadata": {},
   "source": [
    "EXERCISE IDEA:  Normalize data then rerun PCA and plot.  What changes?"
   ]
  },
  {
   "cell_type": "markdown",
   "metadata": {},
   "source": [
    "SOLUTION"
   ]
  },
  {
   "cell_type": "code",
   "execution_count": null,
   "metadata": {
    "collapsed": true
   },
   "outputs": [],
   "source": [
    "# Solution to exercise idea\n",
    "...code here..."
   ]
  },
  {
   "cell_type": "markdown",
   "metadata": {},
   "source": [
    "#### Selecting k top scoring features (also dimensionality reduction)"
   ]
  },
  {
   "cell_type": "code",
   "execution_count": null,
   "metadata": {
    "collapsed": false
   },
   "outputs": [],
   "source": [
    "# SelectKBest for selecting top-scoring features\n",
    "\n",
    "from sklearn import datasets\n",
    "from sklearn.feature_selection import SelectKBest, chi2\n",
    "\n",
    "iris = datasets.load_iris()\n",
    "X, y = iris.data, iris.target\n",
    "\n",
    "print(X.shape)\n",
    "\n",
    "# Do feature selection\n",
    "#  input is scoring function (here chi2) to get univariate p-values\n",
    "#  and number of top-scoring features (k) - here we get the top 2\n",
    "X_t = SelectKBest(chi2, k = 2).fit_transform(X, y)\n",
    "\n",
    "print(X_t.shape)"
   ]
  },
  {
   "cell_type": "markdown",
   "metadata": {},
   "source": [
    "<b>Note on scoring function selection in `SelectKBest` tranformations:</b>\n",
    "* For regression - f_regression\n",
    "* For classification - chi2, f_classif\n",
    "\n",
    "#### One Hot Encoding\n",
    "* It's an operation on feature labels - a method of dummying variable\n",
    "* Expands the feature space by nature of transform - later this can be processed further with a dimensionality reduction (the dummied variables are now their own features)\n",
    "* FYI:  One hot encoding variables is needed for python ML module `tenorflow`\n",
    "* The code cell below should help make this clear"
   ]
  },
  {
   "cell_type": "code",
   "execution_count": null,
   "metadata": {
    "collapsed": false
   },
   "outputs": [],
   "source": [
    "# OneHotEncoder for dummying variables\n",
    "\n",
    "from sklearn.preprocessing import OneHotEncoder, LabelEncoder\n",
    "import pandas as pd\n",
    "\n",
    "data = pd.DataFrame({'index': range(1, 7),\n",
    "                    'state': ['WA', 'NY', 'CO', 'NY', 'CA', 'WA']})\n",
    "print(data)\n",
    "\n",
    "# We encode both our categorical variable and it's labels\n",
    "enc = OneHotEncoder()\n",
    "label_enc = LabelEncoder() # remember the labels here\n",
    "\n",
    "# Encode labels (can use for discrete numerical values as well)\n",
    "data_label_encoded = label_enc.fit_transform(data['state'])\n",
    "data['state'] = data_label_encoded\n",
    "\n",
    "# Encode and \"dummy\" variables\n",
    "data_feature_one_hot_encoded = enc.fit_transform(data[['state']])\n",
    "\n",
    "# Put into dataframe to look nicer and decode state dummy variables to original state values\n",
    "# TRY:  compare the original input data (look at row numbers) to one hot encoding results\n",
    "#   --> do they match??\n",
    "pd.DataFrame(data_feature_one_hot_encoded.toarray(), columns = label_enc.inverse_transform(range(4)))"
   ]
  },
  {
   "cell_type": "code",
   "execution_count": null,
   "metadata": {
    "collapsed": false
   },
   "outputs": [],
   "source": [
    "# Encoded labels as dummy variables\n",
    "print(data_label_encoded)\n",
    "\n",
    "# Decoded\n",
    "print(label_enc.inverse_transform(data_label_encoded))"
   ]
  },
  {
   "cell_type": "markdown",
   "metadata": {},
   "source": [
    "EXERCISE IDEA:  Use one hot encoding to \"recode\" the iris data's extra suprise column (we are going to add a categorical variable here to play with...)"
   ]
  },
  {
   "cell_type": "code",
   "execution_count": null,
   "metadata": {
    "collapsed": false
   },
   "outputs": [],
   "source": [
    "from sklearn import datasets\n",
    "\n",
    "iris = datasets.load_iris()\n",
    "X, y = iris.data, iris.target\n",
    "\n",
    "a = pd.DataFrame(X, \n",
    "                columns = ['Sepal length', 'Sepal width', 'Petal length', 'Petal width'])\n",
    "\n",
    "col5 = pd.DataFrame(np.random.randint(1, 4, size = len(y)))\n",
    "\n",
    "X_plus = pd.concat([a, col5], axis = 1)\n",
    "X_plus.head(20)\n",
    "\n",
    "# ...now one-hot-encode..."
   ]
  },
  {
   "cell_type": "markdown",
   "metadata": {},
   "source": [
    "### Learning and Predictions\n",
    "\n",
    "#### Let's start with an example of supervised learning\n",
    "\n",
    ">  Reminder:  All supervised estimators in scikit-learn implement a fit(X, y) method to fit the model and a predict(X) method that, given unlabeled observations X, returns the predicted labels y. (direct quote from `sklearn` docs)\n",
    "\n",
    "* Using regression and classification to train on a dataset, create a model, and predict on new data"
   ]
  },
  {
   "cell_type": "markdown",
   "metadata": {},
   "source": [
    "### Comment\n",
    "Maybe move learning and predictions section to the top? Also should move the cheat-sheet to the top. (Kim)\n",
    "\n",
    "Having the picture of the handwriting dataset is really nice (Kim)\n",
    "\n",
    "Might want to have a short guide on Jupyter (what is Jupyter, notebooks, etc) -- (Kim)"
   ]
  },
  {
   "cell_type": "markdown",
   "metadata": {},
   "source": [
    "> \"Often the hardest part of solving a machine learning problem can be finding the right estimator for the job.\"\n",
    "\n",
    "> \"Different estimators are better suited for different types of data and different problems.\"\n",
    "\n",
    "<a href = \"http://scikit-learn.org/stable/tutorial/machine_learning_map/index.html\" style = \"float: right\">-Choosing the Right Estimator from sklearn docs</a>\n"
   ]
  },
  {
   "cell_type": "markdown",
   "metadata": {},
   "source": [
    "<b>An estimator for recognizing a new iris from its measurements</b>\n",
    "\n",
    "> Or, in machine learning parlance, we <i>fit</i> an estimator on known samples of the iris measurements to <i>predict</i> the class to which an unseen iris belongs.\n",
    "\n",
    "Let's give it a try!  (We are actually going to hold out a small percentage of the `iris` dataset and check our predictions against the labels)"
   ]
  },
  {
   "cell_type": "code",
   "execution_count": null,
   "metadata": {
    "collapsed": false
   },
   "outputs": [],
   "source": [
    "from sklearn.datasets import load_iris\n",
    "from sklearn.cross_validation import train_test_split\n",
    "from sklearn import svm\n",
    "\n",
    "# Let's load the iris dataset\n",
    "iris = load_iris()\n",
    "X, y = iris.data, iris.target\n",
    "\n",
    "# split data into training and test sets using the handy train_test_split func\n",
    "# in this split, we are \"holding out\" only one value and label (placed into X_test and y_test)\n",
    "X_train, X_test, y_train, y_test = train_test_split(X, y, test_size = 1)\n",
    "\n",
    "# Define an estimator instance (here, support vector classification)\n",
    "#   this just means giving our instance a name and setting the parameters\n",
    "clf = svm.SVC(gamma = 0.001, C = 100.)\n",
    "\n",
    "# We can now fit and predict with this object instance"
   ]
  },
  {
   "cell_type": "code",
   "execution_count": null,
   "metadata": {
    "collapsed": false
   },
   "outputs": [],
   "source": [
    "# Let's fit the data to the SVC instance object\n",
    "clf.fit(X_train, y_train)"
   ]
  },
  {
   "cell_type": "code",
   "execution_count": null,
   "metadata": {
    "collapsed": false
   },
   "outputs": [],
   "source": [
    "# Let's predict on our \"held out\" sample\n",
    "y_pred = clf.predict(X_test)"
   ]
  },
  {
   "cell_type": "code",
   "execution_count": null,
   "metadata": {
    "collapsed": true
   },
   "outputs": [],
   "source": [
    "# What was the label associated with this test sample? (\"held out\" sample's original label)\n",
    "#  fill in the blank below\n",
    "\n",
    "# how did our prediction do?\n",
    "print(\"Prediction: %d, Original label: %d\" % (res[0], ___))"
   ]
  },
  {
   "cell_type": "markdown",
   "metadata": {},
   "source": [
    "<p>We can be explicit and use the `train_test_split` method in scikit-learn ( [train_test_split](http://scikit-learn.org/stable/modules/generated/sklearn.cross_validation.train_test_split.html) ) as in (and as shown above for `iris` data):<p>\n",
    "\n",
    "```python\n",
    "# Create some data by hand and place 70% into a training set and the rest into a test set\n",
    "# Here we are using labeled features (X - feature data, y - labels) in our made-up data\n",
    "import numpy as np\n",
    "from sklearn import linear_model\n",
    "from sklearn.cross_validation import train_test_split\n",
    "X, y = np.arange(10).reshape((5, 2)), range(5)\n",
    "X_train, X_test, y_train, y_test = train_test_split(X, y, train_size = 0.70)\n",
    "clf = linear_model.LinearRegression()\n",
    "clf.fit(X_train, y_train)\n",
    "```\n",
    "\n",
    "OR\n",
    "\n",
    "Be more concise and\n",
    "\n",
    "```python\n",
    "import numpy as np\n",
    "from sklearn import cross_validation, linear_model\n",
    "X, y = np.arange(10).reshape((5, 2)), range(5)\n",
    "clf = linear_model.LinearRegression()\n",
    "score = cross_validation.cross_val_score(clf, X, y)\n",
    "```\n",
    "\n",
    "<p>There is also a `cross_val_predict` method to create estimates rather than scores ( [cross_val_predict](http://scikit-learn.org/stable/modules/generated/sklearn.cross_validation.cross_val_predict.html) )"
   ]
  },
  {
   "cell_type": "markdown",
   "metadata": {},
   "source": [
    "#### Let's move on to an example of unsupervised learning\n",
    "\n",
    ">  Reminder:  In machine learning, the problem of unsupervised learning is that of trying to find hidden structure in unlabeled data. Since the training set given to the learner is unlabeled, there is no error or reward signal to evaluate a potential solution. Basically, we are just finding a way to represent the data and get as much information from it that we can.\n",
    "\n",
    "HEY!  Remember PCA from above?  PCA is actually considered unsupervised learning.  We just put it up there because it's a good way to visualize data at the beginning of the ML process.\n",
    "\n",
    "We are going to continue to use the `iris` dataset (however we won't be needed the targets or labels)"
   ]
  },
  {
   "cell_type": "code",
   "execution_count": null,
   "metadata": {
    "collapsed": false
   },
   "outputs": [],
   "source": [
    "# TODO: explain Kmeans clustering of iris code below\n",
    "\n",
    "from sklearn import cluster, datasets\n",
    "\n",
    "# data\n",
    "iris = datasets.load_iris()\n",
    "X, y = iris.data, iris.target\n",
    "\n",
    "k_means = cluster.KMeans(n_clusters=3)\n",
    "k_means.fit(X)\n",
    "\n",
    "# how do our original labels fit into the clusters we found?\n",
    "print(k_means.labels_[::10])\n",
    "print(y[::10])\n"
   ]
  },
  {
   "cell_type": "markdown",
   "metadata": {},
   "source": [
    "EXERCISE IDEA:  Iterate over different number of clusters, n_clusters param, in Kmeans"
   ]
  },
  {
   "cell_type": "markdown",
   "metadata": {},
   "source": [
    "### Get some feedback cross-validation and metrics\n",
    "* <b>Confusion matrix</b> - visually inspect quality of a classifier's predictions (more [here](http://scikit-learn.org/stable/auto_examples/model_selection/plot_confusion_matrix.html)) - very useful to see if a particular class is problematic\n",
    "\n",
    "<b>Here, we will process some data, classify it with SVM (see [here](http://scikit-learn.org/stable/modules/generated/sklearn.svm.SVC.html#sklearn.svm.SVC) for more info), and view the quality of the classification with a confusion matrix.</b>"
   ]
  },
  {
   "cell_type": "markdown",
   "metadata": {
    "collapsed": true
   },
   "source": [
    "### Comments\n",
    "What are precision and recall? (Kendall)\n",
    "Why is it called a confusion matrix? \n",
    "Describe what iris data set is, what the labels are, irises are flowers. (Kim)\n",
    "Might want to show the numbers in addition to the heat map\n",
    "Also might want to show a Yes No (True Positives, False Positives) example. (David)"
   ]
  },
  {
   "cell_type": "code",
   "execution_count": null,
   "metadata": {
    "collapsed": true
   },
   "outputs": [],
   "source": [
    "import numpy as np\n",
    "\n",
    "# import model algorithm and data\n",
    "from sklearn import svm, datasets\n",
    "\n",
    "# import splitter\n",
    "from sklearn.cross_validation import train_test_split\n",
    "\n",
    "# import metrics\n",
    "from sklearn.metrics import confusion_matrix\n",
    "\n",
    "# feature data (X) and labels (y)\n",
    "iris = datasets.load_iris()\n",
    "X, y = iris.data, iris.target\n",
    "\n",
    "# split data into training and test sets\n",
    "X_train, X_test, y_train, y_test = train_test_split(X, y, train_size = 0.70, random_state = 42)"
   ]
  },
  {
   "cell_type": "code",
   "execution_count": null,
   "metadata": {
    "collapsed": true
   },
   "outputs": [],
   "source": [
    "# perform the classification step and run a prediction on test set from above\n",
    "clf = svm.SVC(kernel = 'linear', C = 0.01)\n",
    "y_pred = clf.fit(X_train, y_train).predict(X_test)"
   ]
  },
  {
   "cell_type": "code",
   "execution_count": null,
   "metadata": {
    "collapsed": true
   },
   "outputs": [],
   "source": [
    "# Define a plotting function confusion matrices \n",
    "#  (from http://scikit-learn.org/stable/auto_examples/model_selection/plot_confusion_matrix.html)\n",
    "\n",
    "import matplotlib.pyplot as plt\n",
    "\n",
    "def plot_confusion_matrix(cm, target_names, title = 'The Confusion Matrix', cmap = plt.cm.YlOrRd):\n",
    "    plt.imshow(cm, interpolation = 'nearest', cmap = cmap)\n",
    "    plt.tight_layout()\n",
    "    \n",
    "    # Add feature labels to x and y axes\n",
    "    tick_marks = np.arange(len(target_names))\n",
    "    plt.xticks(tick_marks, target_names, rotation=45)\n",
    "    plt.yticks(tick_marks, target_names)\n",
    "    \n",
    "    plt.ylabel('True Label')\n",
    "    plt.xlabel('Predicted Label')\n",
    "    \n",
    "    plt.colorbar()"
   ]
  },
  {
   "cell_type": "markdown",
   "metadata": {},
   "source": [
    "Numbers in confusion matrix:\n",
    "* on-diagonal - counts of points for which the predicted label is equal to the true label\n",
    "* off-diagonal - counts of mislabeled points"
   ]
  },
  {
   "cell_type": "code",
   "execution_count": null,
   "metadata": {
    "collapsed": false
   },
   "outputs": [],
   "source": [
    "%matplotlib inline\n",
    "\n",
    "cm = confusion_matrix(y_test, y_pred)\n",
    "\n",
    "# see the actual counts\n",
    "print(cm)\n",
    "\n",
    "# visually inpsect how the classifier did matching predictions to true labels\n",
    "plot_confusion_matrix(cm, iris.target_names)"
   ]
  },
  {
   "cell_type": "markdown",
   "metadata": {},
   "source": [
    "* <b>Classification reports</b> - a text report with important classification metrics (e.g. precision, recall)"
   ]
  },
  {
   "cell_type": "markdown",
   "metadata": {},
   "source": [
    "# Comments\n",
    "Precision is low variability. (Micheleen)\n",
    "Recall is TP / (TP + FN) is also called sensitivity. \n",
    "f1-score ??? 2x precision / (precision + recall)\n",
    "Might want to not include classification report, because we have to explain all the terms (Kendall)"
   ]
  },
  {
   "cell_type": "code",
   "execution_count": null,
   "metadata": {
    "collapsed": false
   },
   "outputs": [],
   "source": [
    "from sklearn.metrics import classification_report\n",
    "\n",
    "# Using the test and prediction sets from above\n",
    "print(classification_report(y_test, y_pred, target_names = iris.target_names))"
   ]
  },
  {
   "cell_type": "code",
   "execution_count": null,
   "metadata": {
    "collapsed": false
   },
   "outputs": [],
   "source": [
    "# Another example with some toy data\n",
    "\n",
    "y_test = ['cat', 'dog', 'mouse', 'mouse', 'cat', 'cat']\n",
    "y_pred = ['mouse', 'dog', 'cat', 'mouse', 'cat', 'mouse']\n",
    "\n",
    "# How did our predictor do?\n",
    "print(classification_report(y_test, y_pred, target_names = y_test))"
   ]
  },
  {
   "cell_type": "markdown",
   "metadata": {},
   "source": [
    "EXERCISE IDEA:  Normaize or standardize data and reclassify and show confusion matrix.\n",
    "* something like [this](http://scikit-learn.org/stable/auto_examples/model_selection/plot_confusion_matrix.html)"
   ]
  },
  {
   "cell_type": "markdown",
   "metadata": {},
   "source": [
    "### Evaluating Models and Under/Over-Fitting)\n",
    "* Over-fitting or under-fitting can be visualized as below and tuned as we will see later with `GridSearchCV` paramter tuning\n",
    "* A <b>validation curve</b> gives one an idea of the relationship of model complexity to model performance.\n",
    "* For this examination it would help to understand the idea of the [<b>bias-variance tradeoff</b>](https://en.wikipedia.org/wiki/Bias%E2%80%93variance_tradeoff).\n",
    "* A <b>learning curve</b> helps answer the question of if there is an added benefit to adding more training data to a model.  It is also a tool for investigating whether an estimator is more affected by variance error or bias error."
   ]
  },
  {
   "cell_type": "markdown",
   "metadata": {},
   "source": [
    "### Comments\n",
    "\n",
    "Might want to gloss over the code and focus on the visual, since we might not have too much time to go over everything."
   ]
  },
  {
   "cell_type": "code",
   "execution_count": null,
   "metadata": {
    "collapsed": false
   },
   "outputs": [],
   "source": [
    "import numpy as np\n",
    "from sklearn import cross_validation\n",
    "\n",
    "# Let's run a prediction on some test data given a trained model\n",
    "\n",
    "# First, create some data\n",
    "X = np.sort(np.random.rand(20))\n",
    "func = lambda x: np.cos(1.5 * np.pi * x)\n",
    "y = np.array([func(x) for x in X])"
   ]
  },
  {
   "cell_type": "code",
   "execution_count": null,
   "metadata": {
    "collapsed": true
   },
   "outputs": [],
   "source": [
    "# A plotting function\n",
    "\n",
    "import matplotlib.pyplot as plt\n",
    "%matplotlib inline\n",
    "\n",
    "def plot_fit(X_train, y_train, X_test, y_pred):\n",
    "    plt.plot(X_test, y_pred, label = \"Model\")\n",
    "    plt.plot(X_test, func(X_test), label = \"Function\")\n",
    "    plt.scatter(X_train, y_train,  label = \"Samples\")\n",
    "    plt.xlabel(\"x\")\n",
    "    plt.ylabel(\"y\")\n",
    "    plt.xlim((0, 1))\n",
    "    plt.ylim((-2, 2))"
   ]
  },
  {
   "cell_type": "markdown",
   "metadata": {},
   "source": [
    "### Easy reading...create and use a pipeline"
   ]
  },
  {
   "cell_type": "markdown",
   "metadata": {},
   "source": [
    "> <b>Pipelining</b> (as an aside to this section)\n",
    "* `Pipeline(steps=[...])` - where steps can be a list of processes through which to put data or a dictionary which includes the parameters for each step as values\n",
    "* For example, here we do a transformation (SelectKBest) and a classification (SVC) all at once in a pipeline we set up\n",
    "\n",
    "```python\n",
    "# a feature selection instance\n",
    "selection = SelectKBest(chi2, k = 2)\n",
    "\n",
    "# classification instance\n",
    "clf = svm.SVC(kernel = 'linear')\n",
    "\n",
    "# make a pipeline\n",
    "pipeline = Pipeline([(\"feature selection\", selection), (\"classification\", clf)])\n",
    "\n",
    "# train the model\n",
    "pipeline.fit(X, y)\n",
    "```\n",
    "\n",
    "See a full example [here](http://scikit-learn.org/stable/auto_examples/feature_stacker.html)\n",
    "\n",
    "Note:  If you wish to perform <b>multiple transformations</b> in your pipeline try [FeatureUnion](http://scikit-learn.org/stable/modules/generated/sklearn.pipeline.FeatureUnion.html#sklearn.pipeline.FeatureUnion)"
   ]
  },
  {
   "cell_type": "code",
   "execution_count": null,
   "metadata": {
    "collapsed": true
   },
   "outputs": [],
   "source": [
    "from sklearn.preprocessing import PolynomialFeatures\n",
    "from sklearn.linear_model import LinearRegression\n",
    "\n",
    "poly = PolynomialFeatures(degree = 1, include_bias = False)\n",
    "lm = LinearRegression()"
   ]
  },
  {
   "cell_type": "code",
   "execution_count": null,
   "metadata": {
    "collapsed": false
   },
   "outputs": [],
   "source": [
    "from sklearn.pipeline import Pipeline\n",
    "\n",
    "pipeline = Pipeline([(\"polynomial_features\", poly),\n",
    "                         (\"linear_regression\", lm)])\n",
    "pipeline.fit(X[:, np.newaxis], y)\n",
    "\n",
    "\n",
    "X_test = np.linspace(0, 1, 100)\n",
    "\n",
    "y_pred = pipeline.predict(X_test[:, np.newaxis])\n",
    "\n",
    "plot_fit(X, y, X_test, y_pred)"
   ]
  },
  {
   "cell_type": "markdown",
   "metadata": {},
   "source": [
    "### Last, but not least, Searching Parameter Space with `GridSearchCV`"
   ]
  },
  {
   "cell_type": "markdown",
   "metadata": {},
   "source": [
    "### Comments \n",
    "Should remove this part for the Google workshop (Micheleen)"
   ]
  },
  {
   "cell_type": "code",
   "execution_count": null,
   "metadata": {
    "collapsed": false
   },
   "outputs": [],
   "source": [
    "from sklearn.grid_search import GridSearchCV\n",
    "\n",
    "from sklearn.preprocessing import PolynomialFeatures\n",
    "from sklearn.linear_model import LinearRegression\n",
    "\n",
    "poly = PolynomialFeatures(include_bias = False)\n",
    "lm = LinearRegression()\n",
    "\n",
    "pipeline = Pipeline([(\"polynomial_features\", poly),\n",
    "                         (\"linear_regression\", lm)])\n",
    "\n",
    "param_grid = dict(polynomial_features__degree = list(range(1, 30, 2)),\n",
    "                  linear_regression__normalize = [False, True])\n",
    "\n",
    "grid_search = GridSearchCV(pipeline, param_grid=param_grid)\n",
    "grid_search.fit(X[:, np.newaxis], y)\n",
    "print(grid_search.best_params_)"
   ]
  },
  {
   "cell_type": "markdown",
   "metadata": {
    "collapsed": true
   },
   "source": [
    "### Some References\n",
    "* [The iris dataset and an intro to sklearn explained on the Kaggle blog](http://blog.kaggle.com/2015/04/22/scikit-learn-video-3-machine-learning-first-steps-with-the-iris-dataset/)\n",
    "* [A. Mueller's Conference Notebooks and Presentation](https://github.com/amueller/odscon-sf-2015)\n",
    "* [Katie Malone's real-world example set of notebooks for learning ML](https://github.com/cmmalone/malone_OpenDataSciCon)\n",
    "* [Jake VanDerplas's PyCon Scikit-learn youtube video](https://www.youtube.com/watch?v=L7R4HUQ-eQ0)\n",
    "* [Brandon Rohrer's webinar Data Science for the Rest of Us](https://channel9.msdn.com/blogs/Cloud-and-Enterprise-Premium/Data-Science-for-Rest-of-Us)\n",
    "\n",
    "### Some Datasets\n",
    "* [Machine learning datasets](http://mldata.org/)\n",
    "* [Make your own with sklearn](http://scikit-learn.org/stable/datasets/index.html#sample-generators)\n",
    "* [Kaggle datasets](https://www.kaggle.com/datasets)"
   ]
  },
  {
   "cell_type": "code",
   "execution_count": null,
   "metadata": {
    "collapsed": true
   },
   "outputs": [],
   "source": []
  }
 ],
 "metadata": {
  "kernelspec": {
   "display_name": "Python 3",
   "language": "python",
   "name": "python3"
  },
  "language_info": {
   "codemirror_mode": {
    "name": "ipython",
    "version": 3
   },
   "file_extension": ".py",
   "mimetype": "text/x-python",
   "name": "python",
   "nbconvert_exporter": "python",
   "pygments_lexer": "ipython3",
   "version": "3.5.1"
  }
 },
 "nbformat": 4,
 "nbformat_minor": 0
}
